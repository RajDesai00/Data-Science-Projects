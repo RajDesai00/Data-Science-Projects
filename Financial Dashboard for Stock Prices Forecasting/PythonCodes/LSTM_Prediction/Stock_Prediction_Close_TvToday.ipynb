{
  "nbformat": 4,
  "nbformat_minor": 0,
  "metadata": {
    "colab": {
      "name": "Stock_Prediction_Close_TvToday.ipynb",
      "provenance": [],
      "collapsed_sections": []
    },
    "kernelspec": {
      "name": "python3",
      "display_name": "Python 3"
    }
  },
  "cells": [
    {
      "cell_type": "code",
      "metadata": {
        "id": "5IBke2ie86wU"
      },
      "source": [
        "import math\n",
        "import pandas as pd\n",
        "import numpy as np\n",
        "from sklearn.preprocessing import MinMaxScaler\n",
        "from keras.models import Sequential\n",
        "from keras.layers import Dense,LSTM\n",
        "import matplotlib.pyplot as plt\n",
        "plt.style.use('fivethirtyeight')\n",
        "import seaborn as sns\n",
        "import pandas_datareader as dr\n",
        "\n"
      ],
      "execution_count": 32,
      "outputs": []
    },
    {
      "cell_type": "code",
      "metadata": {
        "id": "1JpVhWJL-7Y9"
      },
      "source": [
        "df=dr.data.get_data_yahoo('TVTODAY.NS',start='2015-10-6',end='2020-10-12')\n"
      ],
      "execution_count": 33,
      "outputs": []
    },
    {
      "cell_type": "code",
      "metadata": {
        "id": "weAVldoi_GN8",
        "outputId": "a3f7dd15-240b-406f-c03b-9b4279c3bb3e",
        "colab": {
          "base_uri": "https://localhost:8080/",
          "height": 431
        }
      },
      "source": [
        "df"
      ],
      "execution_count": 34,
      "outputs": [
        {
          "output_type": "execute_result",
          "data": {
            "text/html": [
              "<div>\n",
              "<style scoped>\n",
              "    .dataframe tbody tr th:only-of-type {\n",
              "        vertical-align: middle;\n",
              "    }\n",
              "\n",
              "    .dataframe tbody tr th {\n",
              "        vertical-align: top;\n",
              "    }\n",
              "\n",
              "    .dataframe thead th {\n",
              "        text-align: right;\n",
              "    }\n",
              "</style>\n",
              "<table border=\"1\" class=\"dataframe\">\n",
              "  <thead>\n",
              "    <tr style=\"text-align: right;\">\n",
              "      <th></th>\n",
              "      <th>High</th>\n",
              "      <th>Low</th>\n",
              "      <th>Open</th>\n",
              "      <th>Close</th>\n",
              "      <th>Volume</th>\n",
              "      <th>Adj Close</th>\n",
              "    </tr>\n",
              "    <tr>\n",
              "      <th>Date</th>\n",
              "      <th></th>\n",
              "      <th></th>\n",
              "      <th></th>\n",
              "      <th></th>\n",
              "      <th></th>\n",
              "      <th></th>\n",
              "    </tr>\n",
              "  </thead>\n",
              "  <tbody>\n",
              "    <tr>\n",
              "      <th>2015-10-06</th>\n",
              "      <td>283.299988</td>\n",
              "      <td>269.100006</td>\n",
              "      <td>281.000000</td>\n",
              "      <td>272.200012</td>\n",
              "      <td>364185.0</td>\n",
              "      <td>245.234344</td>\n",
              "    </tr>\n",
              "    <tr>\n",
              "      <th>2015-10-07</th>\n",
              "      <td>279.000000</td>\n",
              "      <td>265.649994</td>\n",
              "      <td>274.000000</td>\n",
              "      <td>269.100006</td>\n",
              "      <td>215082.0</td>\n",
              "      <td>242.441452</td>\n",
              "    </tr>\n",
              "    <tr>\n",
              "      <th>2015-10-08</th>\n",
              "      <td>277.149994</td>\n",
              "      <td>265.299988</td>\n",
              "      <td>270.850006</td>\n",
              "      <td>269.000000</td>\n",
              "      <td>456505.0</td>\n",
              "      <td>242.351349</td>\n",
              "    </tr>\n",
              "    <tr>\n",
              "      <th>2015-10-09</th>\n",
              "      <td>274.899994</td>\n",
              "      <td>267.350006</td>\n",
              "      <td>269.000000</td>\n",
              "      <td>269.500000</td>\n",
              "      <td>260212.0</td>\n",
              "      <td>242.801849</td>\n",
              "    </tr>\n",
              "    <tr>\n",
              "      <th>2015-10-12</th>\n",
              "      <td>278.799988</td>\n",
              "      <td>266.600006</td>\n",
              "      <td>271.000000</td>\n",
              "      <td>267.700012</td>\n",
              "      <td>247448.0</td>\n",
              "      <td>241.180099</td>\n",
              "    </tr>\n",
              "    <tr>\n",
              "      <th>...</th>\n",
              "      <td>...</td>\n",
              "      <td>...</td>\n",
              "      <td>...</td>\n",
              "      <td>...</td>\n",
              "      <td>...</td>\n",
              "      <td>...</td>\n",
              "    </tr>\n",
              "    <tr>\n",
              "      <th>2020-10-07</th>\n",
              "      <td>204.000000</td>\n",
              "      <td>198.250000</td>\n",
              "      <td>201.899994</td>\n",
              "      <td>201.199997</td>\n",
              "      <td>19150.0</td>\n",
              "      <td>201.199997</td>\n",
              "    </tr>\n",
              "    <tr>\n",
              "      <th>2020-10-08</th>\n",
              "      <td>203.949997</td>\n",
              "      <td>196.350006</td>\n",
              "      <td>202.000000</td>\n",
              "      <td>197.750000</td>\n",
              "      <td>22005.0</td>\n",
              "      <td>197.750000</td>\n",
              "    </tr>\n",
              "    <tr>\n",
              "      <th>2020-10-09</th>\n",
              "      <td>200.000000</td>\n",
              "      <td>195.949997</td>\n",
              "      <td>200.000000</td>\n",
              "      <td>197.399994</td>\n",
              "      <td>13768.0</td>\n",
              "      <td>197.399994</td>\n",
              "    </tr>\n",
              "    <tr>\n",
              "      <th>2020-10-12</th>\n",
              "      <td>199.899994</td>\n",
              "      <td>195.050003</td>\n",
              "      <td>197.399994</td>\n",
              "      <td>196.500000</td>\n",
              "      <td>12713.0</td>\n",
              "      <td>196.500000</td>\n",
              "    </tr>\n",
              "    <tr>\n",
              "      <th>2020-10-13</th>\n",
              "      <td>197.000000</td>\n",
              "      <td>195.100006</td>\n",
              "      <td>195.100006</td>\n",
              "      <td>195.800003</td>\n",
              "      <td>9717.0</td>\n",
              "      <td>195.800003</td>\n",
              "    </tr>\n",
              "  </tbody>\n",
              "</table>\n",
              "<p>1236 rows × 6 columns</p>\n",
              "</div>"
            ],
            "text/plain": [
              "                  High         Low  ...    Volume   Adj Close\n",
              "Date                                ...                      \n",
              "2015-10-06  283.299988  269.100006  ...  364185.0  245.234344\n",
              "2015-10-07  279.000000  265.649994  ...  215082.0  242.441452\n",
              "2015-10-08  277.149994  265.299988  ...  456505.0  242.351349\n",
              "2015-10-09  274.899994  267.350006  ...  260212.0  242.801849\n",
              "2015-10-12  278.799988  266.600006  ...  247448.0  241.180099\n",
              "...                ...         ...  ...       ...         ...\n",
              "2020-10-07  204.000000  198.250000  ...   19150.0  201.199997\n",
              "2020-10-08  203.949997  196.350006  ...   22005.0  197.750000\n",
              "2020-10-09  200.000000  195.949997  ...   13768.0  197.399994\n",
              "2020-10-12  199.899994  195.050003  ...   12713.0  196.500000\n",
              "2020-10-13  197.000000  195.100006  ...    9717.0  195.800003\n",
              "\n",
              "[1236 rows x 6 columns]"
            ]
          },
          "metadata": {
            "tags": []
          },
          "execution_count": 34
        }
      ]
    },
    {
      "cell_type": "code",
      "metadata": {
        "id": "caItNRPx_hAH",
        "outputId": "68469a7a-8115-4258-d83b-ca78457929bc",
        "colab": {
          "base_uri": "https://localhost:8080/",
          "height": 558
        }
      },
      "source": [
        "#visuliazing the close price \n",
        "plt.figure(figsize=(16,8))\n",
        "plt.title('Close Price History')\n",
        "plt.plot(df['Close'])\n",
        "plt.xlabel('Date',fontsize=18)\n",
        "plt.ylabel('Close Price',fontsize=18)\n",
        "plt.show()"
      ],
      "execution_count": 35,
      "outputs": [
        {
          "output_type": "display_data",
          "data": {
            "image/png": "[encoded data removed]",
            "text/plain": [
              "<Figure size 1152x576 with 1 Axes>"
            ]
          },
          "metadata": {
            "tags": []
          }
        }
      ]
    },
    {
      "cell_type": "code",
      "metadata": {
        "id": "FCgSxftXAxuA",
        "outputId": "09bce3d3-a304-4b46-b1a2-baee41b95357",
        "colab": {
          "base_uri": "https://localhost:8080/",
          "height": 34
        }
      },
      "source": [
        "#new dataframe\n",
        "data=df.filter(['Close'])\n",
        "#coverting to numpy\n",
        "dataset=data.values\n",
        "training_data_len=math.ceil(len(dataset)*.8)\n",
        "training_data_len"
      ],
      "execution_count": 36,
      "outputs": [
        {
          "output_type": "execute_result",
          "data": {
            "text/plain": [
              "989"
            ]
          },
          "metadata": {
            "tags": []
          },
          "execution_count": 36
        }
      ]
    },
    {
      "cell_type": "code",
      "metadata": {
        "id": "jHaNY0VhBSHn",
        "outputId": "22d24cde-889d-4a81-ca75-441de4193bab",
        "colab": {
          "base_uri": "https://localhost:8080/",
          "height": 134
        }
      },
      "source": [
        "#scaling the datas\n",
        "scaler=MinMaxScaler(feature_range=(0,1))\n",
        "scaled_data=scaler.fit_transform(dataset)\n",
        "scaled_data"
      ],
      "execution_count": 37,
      "outputs": [
        {
          "output_type": "execute_result",
          "data": {
            "text/plain": [
              "array([[0.33956734],\n",
              "       [0.33198878],\n",
              "       [0.3317443 ],\n",
              "       ...,\n",
              "       [0.15670455],\n",
              "       [0.15450434],\n",
              "       [0.15279307]])"
            ]
          },
          "metadata": {
            "tags": []
          },
          "execution_count": 37
        }
      ]
    },
    {
      "cell_type": "code",
      "metadata": {
        "id": "rASzqFhGBp3B",
        "outputId": "13aa8592-e7ae-4b45-9959-7bd8c784fa49",
        "colab": {
          "base_uri": "https://localhost:8080/",
          "height": 252
        }
      },
      "source": [
        "#creating the dataset\n",
        "train_data=scaled_data[0:training_data_len,:]\n",
        "#split\n",
        "x_train=[]\n",
        "y_train=[]\n",
        "for i in range(60,len(train_data)):\n",
        "  x_train.append(train_data[i-60:i,0])\n",
        "  y_train.append(train_data[i,0])\n",
        "  if i<=60:\n",
        "    print(x_train)\n",
        "    print(y_train)\n",
        "    print()"
      ],
      "execution_count": 38,
      "outputs": [
        {
          "output_type": "stream",
          "text": [
            "[array([0.33956734, 0.33198878, 0.3317443 , 0.33296664, 0.32856623,\n",
            "       0.33149982, 0.31732065, 0.32343237, 0.3186652 , 0.32636595,\n",
            "       0.31377582, 0.31732065, 0.29421831, 0.2788168 , 0.27967242,\n",
            "       0.28407286, 0.27612762, 0.26304852, 0.2590148 , 0.26512652,\n",
            "       0.25840363, 0.25938149, 0.26084832, 0.25449211, 0.25644787,\n",
            "       0.27979466, 0.29189586, 0.27759445, 0.26940473, 0.32783278,\n",
            "       0.30033003, 0.32697713, 0.31634279, 0.31890968, 0.30680844,\n",
            "       0.30387486, 0.29776314, 0.34616795, 0.34592347, 0.38943898,\n",
            "       0.40814083, 0.37012595, 0.35179078, 0.35619119, 0.3625474 ,\n",
            "       0.3626696 , 0.39102801, 0.38699429, 0.40545166, 0.43796607,\n",
            "       0.43906614, 0.43344338, 0.43613255, 0.44175531, 0.46070165,\n",
            "       0.46950254, 0.49663861, 0.49553847, 0.49871653, 0.47903682])]\n",
            "[0.4809925386922517]\n",
            "\n"
          ],
          "name": "stdout"
        }
      ]
    },
    {
      "cell_type": "code",
      "metadata": {
        "id": "W0bpxQUiCzNQ"
      },
      "source": [
        "#converting to numpy\n",
        "x_train,y_train=np.array(x_train),np.array(y_train)"
      ],
      "execution_count": 39,
      "outputs": []
    },
    {
      "cell_type": "code",
      "metadata": {
        "id": "A_8ZiuIEDANW",
        "outputId": "2c037a4a-699d-4768-87bc-a15c91f3db8c",
        "colab": {
          "base_uri": "https://localhost:8080/",
          "height": 34
        }
      },
      "source": [
        "#reshaping the data\n",
        "x_train=np.reshape(x_train,(x_train.shape[0],x_train.shape[1],1))\n",
        "x_train.shape\n"
      ],
      "execution_count": 40,
      "outputs": [
        {
          "output_type": "execute_result",
          "data": {
            "text/plain": [
              "(929, 60, 1)"
            ]
          },
          "metadata": {
            "tags": []
          },
          "execution_count": 40
        }
      ]
    },
    {
      "cell_type": "code",
      "metadata": {
        "id": "rSp-YKc9DdYZ"
      },
      "source": [
        "#LSTM Model\n",
        "model=Sequential()\n",
        "model.add(LSTM(50,return_sequences=True,input_shape=(x_train.shape[1],1)))\n",
        "model.add(LSTM(50,return_sequences=False))\n",
        "model.add(Dense(25))\n",
        "model.add(Dense(1))\n",
        "\n"
      ],
      "execution_count": 41,
      "outputs": []
    },
    {
      "cell_type": "code",
      "metadata": {
        "id": "15HSgrDwENWm"
      },
      "source": [
        "#Compile the model\n",
        "model.compile(optimizer='adam',loss='mean_squared_error')"
      ],
      "execution_count": 42,
      "outputs": []
    },
    {
      "cell_type": "code",
      "metadata": {
        "id": "wmEg73VNEdHP",
        "outputId": "bea0c67b-c0b5-4d06-8a91-8e8773808f5e",
        "colab": {
          "base_uri": "https://localhost:8080/",
          "height": 134
        }
      },
      "source": [
        "model.fit(x_train,y_train,batch_size=1,epochs=3)"
      ],
      "execution_count": 43,
      "outputs": [
        {
          "output_type": "stream",
          "text": [
            "Epoch 1/3\n",
            "929/929 [==============================] - 20s 21ms/step - loss: 0.0034\n",
            "Epoch 2/3\n",
            "929/929 [==============================] - 19s 21ms/step - loss: 0.0016\n",
            "Epoch 3/3\n",
            "929/929 [==============================] - 19s 21ms/step - loss: 0.0014\n"
          ],
          "name": "stdout"
        },
        {
          "output_type": "execute_result",
          "data": {
            "text/plain": [
              "<tensorflow.python.keras.callbacks.History at 0x7f19361da828>"
            ]
          },
          "metadata": {
            "tags": []
          },
          "execution_count": 43
        }
      ]
    },
    {
      "cell_type": "code",
      "metadata": {
        "id": "r3Y2o__aEp5N"
      },
      "source": [
        "#creating rhe testing data\n",
        "test_data=scaled_data[training_data_len-60:,:]\n",
        "x_test=[]\n",
        "y_test=dataset[training_data_len:,:]\n",
        "for i in range(60,len(test_data)):\n",
        "  x_test.append(test_data[i-60:i,0])"
      ],
      "execution_count": 44,
      "outputs": []
    },
    {
      "cell_type": "code",
      "metadata": {
        "id": "oo836ft6E1wn"
      },
      "source": [
        "#numpy to array\n",
        "x_test=np.array(x_test)"
      ],
      "execution_count": 45,
      "outputs": []
    },
    {
      "cell_type": "code",
      "metadata": {
        "id": "zT6c_SQeFkkt"
      },
      "source": [
        "x_test=np.reshape(x_test,(x_test.shape[0],x_test.shape[1],1))"
      ],
      "execution_count": 46,
      "outputs": []
    },
    {
      "cell_type": "code",
      "metadata": {
        "id": "1AQuDto9Fw64"
      },
      "source": [
        "#get the models prediction\n",
        "predictions=model.predict(x_test)\n",
        "predictions=scaler.inverse_transform(predictions)\n"
      ],
      "execution_count": 47,
      "outputs": []
    },
    {
      "cell_type": "code",
      "metadata": {
        "id": "4z3qOKS7GI-R",
        "outputId": "3a79e0fb-f9b6-4d83-ace3-18ed40a0adcb",
        "colab": {
          "base_uri": "https://localhost:8080/",
          "height": 34
        }
      },
      "source": [
        "#RMSE\n",
        "rmse=np.sqrt(np.mean(((predictions- y_test)**2)))\n",
        "rmse\n"
      ],
      "execution_count": 48,
      "outputs": [
        {
          "output_type": "execute_result",
          "data": {
            "text/plain": [
              "9.751259311894318"
            ]
          },
          "metadata": {
            "tags": []
          },
          "execution_count": 48
        }
      ]
    },
    {
      "cell_type": "code",
      "metadata": {
        "id": "SurOJaraHc4T",
        "outputId": "9f2fc7e5-2ce1-44a2-d64e-c0c7fdd5acce",
        "colab": {
          "base_uri": "https://localhost:8080/",
          "height": 659
        }
      },
      "source": [
        "#Plot/Create the data for the graph\n",
        "train = data[:training_data_len]\n",
        "valid = data[training_data_len:]\n",
        "valid['Predictions'] = predictions\n",
        "#Visualize the data\n",
        "plt.figure(figsize=(16,8))\n",
        "plt.title('Model')\n",
        "plt.xlabel('Date', fontsize=18)\n",
        "plt.ylabel('Close Price', fontsize=18)\n",
        "plt.plot(train['Close'])\n",
        "plt.plot(valid[['Close', 'Predictions']])\n",
        "plt.legend(['Train', 'Val', 'Predictions'], loc='lower right')\n",
        "plt.show()"
      ],
      "execution_count": 49,
      "outputs": [
        {
          "output_type": "stream",
          "text": [
            "/usr/local/lib/python3.6/dist-packages/ipykernel_launcher.py:4: SettingWithCopyWarning: \n",
            "A value is trying to be set on a copy of a slice from a DataFrame.\n",
            "Try using .loc[row_indexer,col_indexer] = value instead\n",
            "\n",
            "See the caveats in the documentation: https://pandas.pydata.org/pandas-docs/stable/user_guide/indexing.html#returning-a-view-versus-a-copy\n",
            "  after removing the cwd from sys.path.\n"
          ],
          "name": "stderr"
        },
        {
          "output_type": "display_data",
          "data": {
            "image/png": "[encoded data removed]",
            "text/plain": [
              "<Figure size 1152x576 with 1 Axes>"
            ]
          },
          "metadata": {
            "tags": []
          }
        }
      ]
    },
    {
      "cell_type": "code",
      "metadata": {
        "id": "TTvvGYsHHwRI",
        "outputId": "f6084eec-c979-4b93-e41d-a07de8ab9a4a",
        "colab": {
          "base_uri": "https://localhost:8080/",
          "height": 431
        }
      },
      "source": [
        "valid"
      ],
      "execution_count": 50,
      "outputs": [
        {
          "output_type": "execute_result",
          "data": {
            "text/html": [
              "<div>\n",
              "<style scoped>\n",
              "    .dataframe tbody tr th:only-of-type {\n",
              "        vertical-align: middle;\n",
              "    }\n",
              "\n",
              "    .dataframe tbody tr th {\n",
              "        vertical-align: top;\n",
              "    }\n",
              "\n",
              "    .dataframe thead th {\n",
              "        text-align: right;\n",
              "    }\n",
              "</style>\n",
              "<table border=\"1\" class=\"dataframe\">\n",
              "  <thead>\n",
              "    <tr style=\"text-align: right;\">\n",
              "      <th></th>\n",
              "      <th>Close</th>\n",
              "      <th>Predictions</th>\n",
              "    </tr>\n",
              "    <tr>\n",
              "      <th>Date</th>\n",
              "      <th></th>\n",
              "      <th></th>\n",
              "    </tr>\n",
              "  </thead>\n",
              "  <tbody>\n",
              "    <tr>\n",
              "      <th>2019-10-16</th>\n",
              "      <td>297.950012</td>\n",
              "      <td>308.304932</td>\n",
              "    </tr>\n",
              "    <tr>\n",
              "      <th>2019-10-17</th>\n",
              "      <td>306.200012</td>\n",
              "      <td>305.584473</td>\n",
              "    </tr>\n",
              "    <tr>\n",
              "      <th>2019-10-18</th>\n",
              "      <td>309.000000</td>\n",
              "      <td>305.660767</td>\n",
              "    </tr>\n",
              "    <tr>\n",
              "      <th>2019-10-22</th>\n",
              "      <td>309.799988</td>\n",
              "      <td>307.369690</td>\n",
              "    </tr>\n",
              "    <tr>\n",
              "      <th>2019-10-23</th>\n",
              "      <td>315.799988</td>\n",
              "      <td>309.449310</td>\n",
              "    </tr>\n",
              "    <tr>\n",
              "      <th>...</th>\n",
              "      <td>...</td>\n",
              "      <td>...</td>\n",
              "    </tr>\n",
              "    <tr>\n",
              "      <th>2020-10-07</th>\n",
              "      <td>201.199997</td>\n",
              "      <td>198.081406</td>\n",
              "    </tr>\n",
              "    <tr>\n",
              "      <th>2020-10-08</th>\n",
              "      <td>197.750000</td>\n",
              "      <td>198.835403</td>\n",
              "    </tr>\n",
              "    <tr>\n",
              "      <th>2020-10-09</th>\n",
              "      <td>197.399994</td>\n",
              "      <td>198.695587</td>\n",
              "    </tr>\n",
              "    <tr>\n",
              "      <th>2020-10-12</th>\n",
              "      <td>196.500000</td>\n",
              "      <td>198.160934</td>\n",
              "    </tr>\n",
              "    <tr>\n",
              "      <th>2020-10-13</th>\n",
              "      <td>195.800003</td>\n",
              "      <td>197.378510</td>\n",
              "    </tr>\n",
              "  </tbody>\n",
              "</table>\n",
              "<p>247 rows × 2 columns</p>\n",
              "</div>"
            ],
            "text/plain": [
              "                 Close  Predictions\n",
              "Date                               \n",
              "2019-10-16  297.950012   308.304932\n",
              "2019-10-17  306.200012   305.584473\n",
              "2019-10-18  309.000000   305.660767\n",
              "2019-10-22  309.799988   307.369690\n",
              "2019-10-23  315.799988   309.449310\n",
              "...                ...          ...\n",
              "2020-10-07  201.199997   198.081406\n",
              "2020-10-08  197.750000   198.835403\n",
              "2020-10-09  197.399994   198.695587\n",
              "2020-10-12  196.500000   198.160934\n",
              "2020-10-13  195.800003   197.378510\n",
              "\n",
              "[247 rows x 2 columns]"
            ]
          },
          "metadata": {
            "tags": []
          },
          "execution_count": 50
        }
      ]
    },
    {
      "cell_type": "code",
      "metadata": {
        "id": "M_m9uh72b9-i",
        "outputId": "3cc1c31d-9a01-4bb0-ab34-7c3dff9e7147",
        "colab": {
          "base_uri": "https://localhost:8080/",
          "height": 34
        }
      },
      "source": [
        "len(test_data)"
      ],
      "execution_count": 51,
      "outputs": [
        {
          "output_type": "execute_result",
          "data": {
            "text/plain": [
              "307"
            ]
          },
          "metadata": {
            "tags": []
          },
          "execution_count": 51
        }
      ]
    },
    {
      "cell_type": "code",
      "metadata": {
        "id": "KfHL2xJ7cM8S",
        "outputId": "692ef04c-4ab4-4292-c8f2-46bc42da6bda",
        "colab": {
          "base_uri": "https://localhost:8080/",
          "height": 34
        }
      },
      "source": [
        "x_input=test_data[207:].reshape(1,-1)\n",
        "x_input.shape\n"
      ],
      "execution_count": 52,
      "outputs": [
        {
          "output_type": "execute_result",
          "data": {
            "text/plain": [
              "(1, 100)"
            ]
          },
          "metadata": {
            "tags": []
          },
          "execution_count": 52
        }
      ]
    },
    {
      "cell_type": "code",
      "metadata": {
        "id": "m6yVGqWRcS_f"
      },
      "source": [
        "temp_input=list(x_input)\n",
        "temp_input=temp_input[0].tolist()"
      ],
      "execution_count": 53,
      "outputs": []
    },
    {
      "cell_type": "code",
      "metadata": {
        "id": "2cxsfpkLcWDy",
        "outputId": "8259e63b-8298-41c5-eaeb-5efe6eb570f9",
        "colab": {
          "base_uri": "https://localhost:8080/",
          "height": 1000
        }
      },
      "source": [
        "temp_input"
      ],
      "execution_count": 54,
      "outputs": [
        {
          "output_type": "execute_result",
          "data": {
            "text/plain": [
              "[0.10451045806249959,\n",
              " 0.10328811352375694,\n",
              " 0.10463269997697289,\n",
              " 0.10646621678508689,\n",
              " 0.1107444226706863,\n",
              " 0.12272338422916662,\n",
              " 0.13849162131834825,\n",
              " 0.1317687263552635,\n",
              " 0.1422808968490496,\n",
              " 0.1414252407507317,\n",
              " 0.13751376060855208,\n",
              " 0.1457034466363311,\n",
              " 0.13396896890679733,\n",
              " 0.13702483025365403,\n",
              " 0.11942303905336338,\n",
              " 0.12712383202923927,\n",
              " 0.11416697245796781,\n",
              " 0.13030193529056927,\n",
              " 0.15939372039144717,\n",
              " 0.14448110209758847,\n",
              " 0.16049382301571663,\n",
              " 0.1426475852894744,\n",
              " 0.14863710337170954,\n",
              " 0.14130303613925344,\n",
              " 0.12565700366155008,\n",
              " 0.12431241720833414,\n",
              " 0.12663490167434122,\n",
              " 0.1380026909634502,\n",
              " 0.13616917415533614,\n",
              " 0.15364868613815857,\n",
              " 0.17748440464364096,\n",
              " 0.18102923364839069,\n",
              " 0.1783400607419588,\n",
              " 0.16685002953837658,\n",
              " 0.18041806137901933,\n",
              " 0.17112823542397598,\n",
              " 0.16183840946893258,\n",
              " 0.15597117060416565,\n",
              " 0.16477202890131604,\n",
              " 0.16599437344005868,\n",
              " 0.1664833037949568,\n",
              " 0.17650654393384474,\n",
              " 0.17907347492580344,\n",
              " 0.17601761357894669,\n",
              " 0.1652609592562141,\n",
              " 0.16134947911403447,\n",
              " 0.17210609613377215,\n",
              " 0.16073830684466311,\n",
              " 0.17100599350950269,\n",
              " 0.16819461599159252,\n",
              " 0.1725950264886702,\n",
              " 0.1855518860599416,\n",
              " 0.1859186118033614,\n",
              " 0.16623885726900522,\n",
              " 0.1894634035051162,\n",
              " 0.22136660342689934,\n",
              " 0.2080430181122081,\n",
              " 0.20327588187171058,\n",
              " 0.18506295570504355,\n",
              " 0.23505683987902043,\n",
              " 0.2290673590997802,\n",
              " 0.22601149775292356,\n",
              " 0.23077863399342108,\n",
              " 0.23004521980957643,\n",
              " 0.22747832612061275,\n",
              " 0.2256448093124987,\n",
              " 0.23383449534027773,\n",
              " 0.24385773547916573,\n",
              " 0.24385773547916573,\n",
              " 0.23530132370796691,\n",
              " 0.23664591016118292,\n",
              " 0.24080187413230908,\n",
              " 0.23664591016118292,\n",
              " 0.24385773547916573,\n",
              " 0.27099376185745633,\n",
              " 0.2454467684583333,\n",
              " 0.25864811185855124,\n",
              " 0.24214646058552497,\n",
              " 0.23481239335306886,\n",
              " 0.2340789791692242,\n",
              " 0.2254003254835522,\n",
              " 0.2217332918673241,\n",
              " 0.21598825761403556,\n",
              " 0.22014425888815664,\n",
              " 0.20242026307638766,\n",
              " 0.15988265074634528,\n",
              " 0.15523775642032106,\n",
              " 0.151570722804093,\n",
              " 0.16636109918347847,\n",
              " 0.16819461599159252,\n",
              " 0.15988265074634528,\n",
              " 0.1476592053589184,\n",
              " 0.1564601009590637,\n",
              " 0.17002813279970652,\n",
              " 0.16110499528508793,\n",
              " 0.16599437344005868,\n",
              " 0.15756020358333317,\n",
              " 0.15670454748501528,\n",
              " 0.15450434223647647,\n",
              " 0.15279306734283565]"
            ]
          },
          "metadata": {
            "tags": []
          },
          "execution_count": 54
        }
      ]
    },
    {
      "cell_type": "code",
      "metadata": {
        "id": "yD4PBnCScWC2",
        "outputId": "c23fbc5d-c2eb-4a30-9c1f-2887c3a94caa",
        "colab": {
          "base_uri": "https://localhost:8080/",
          "height": 1000
        }
      },
      "source": [
        "#predicting the next 10 days\n",
        "from numpy import array\n",
        "\n",
        "lst_output=[]\n",
        "n_steps=100\n",
        "i=0\n",
        "while(i<30):\n",
        "    \n",
        "    if(len(temp_input)>100):\n",
        "        #print(temp_input)\n",
        "        x_input=np.array(temp_input[1:])\n",
        "        print(\"{} day input {}\".format(i,x_input))\n",
        "        x_input=x_input.reshape(1,-1)\n",
        "        x_input = x_input.reshape((1, n_steps, 1))\n",
        "        #print(x_input)\n",
        "        yhat = model.predict(x_input, verbose=0)\n",
        "        print(\"{} day output {}\".format(i,yhat))\n",
        "        temp_input.extend(yhat[0].tolist())\n",
        "        temp_input=temp_input[1:]\n",
        "        #print(temp_input)\n",
        "        lst_output.extend(yhat.tolist())\n",
        "        i=i+1\n",
        "    else:\n",
        "        x_input = x_input.reshape((1, n_steps,1))\n",
        "        yhat = model.predict(x_input, verbose=0)\n",
        "        print(yhat[0])\n",
        "        temp_input.extend(yhat[0].tolist())\n",
        "        print(len(temp_input))\n",
        "        lst_output.extend(yhat.tolist())\n",
        "        i=i+1\n",
        "    \n",
        "\n",
        "print(lst_output)"
      ],
      "execution_count": 55,
      "outputs": [
        {
          "output_type": "stream",
          "text": [
            "WARNING:tensorflow:Model was constructed with shape (None, 60, 1) for input Tensor(\"lstm_2_input:0\", shape=(None, 60, 1), dtype=float32), but it was called on an input with incompatible shape (None, 100, 1).\n",
            "[0.15451027]\n",
            "101\n",
            "1 day input [0.10328811 0.1046327  0.10646622 0.11074442 0.12272338 0.13849162\n",
            " 0.13176873 0.1422809  0.14142524 0.13751376 0.14570345 0.13396897\n",
            " 0.13702483 0.11942304 0.12712383 0.11416697 0.13030194 0.15939372\n",
            " 0.1444811  0.16049382 0.14264759 0.1486371  0.14130304 0.125657\n",
            " 0.12431242 0.1266349  0.13800269 0.13616917 0.15364869 0.1774844\n",
            " 0.18102923 0.17834006 0.16685003 0.18041806 0.17112824 0.16183841\n",
            " 0.15597117 0.16477203 0.16599437 0.1664833  0.17650654 0.17907347\n",
            " 0.17601761 0.16526096 0.16134948 0.1721061  0.16073831 0.17100599\n",
            " 0.16819462 0.17259503 0.18555189 0.18591861 0.16623886 0.1894634\n",
            " 0.2213666  0.20804302 0.20327588 0.18506296 0.23505684 0.22906736\n",
            " 0.2260115  0.23077863 0.23004522 0.22747833 0.22564481 0.2338345\n",
            " 0.24385774 0.24385774 0.23530132 0.23664591 0.24080187 0.23664591\n",
            " 0.24385774 0.27099376 0.24544677 0.25864811 0.24214646 0.23481239\n",
            " 0.23407898 0.22540033 0.22173329 0.21598826 0.22014426 0.20242026\n",
            " 0.15988265 0.15523776 0.15157072 0.1663611  0.16819462 0.15988265\n",
            " 0.14765921 0.1564601  0.17002813 0.161105   0.16599437 0.1575602\n",
            " 0.15670455 0.15450434 0.15279307 0.15451027]\n",
            "1 day output [[0.15311381]]\n",
            "2 day input [0.1046327  0.10646622 0.11074442 0.12272338 0.13849162 0.13176873\n",
            " 0.1422809  0.14142524 0.13751376 0.14570345 0.13396897 0.13702483\n",
            " 0.11942304 0.12712383 0.11416697 0.13030194 0.15939372 0.1444811\n",
            " 0.16049382 0.14264759 0.1486371  0.14130304 0.125657   0.12431242\n",
            " 0.1266349  0.13800269 0.13616917 0.15364869 0.1774844  0.18102923\n",
            " 0.17834006 0.16685003 0.18041806 0.17112824 0.16183841 0.15597117\n",
            " 0.16477203 0.16599437 0.1664833  0.17650654 0.17907347 0.17601761\n",
            " 0.16526096 0.16134948 0.1721061  0.16073831 0.17100599 0.16819462\n",
            " 0.17259503 0.18555189 0.18591861 0.16623886 0.1894634  0.2213666\n",
            " 0.20804302 0.20327588 0.18506296 0.23505684 0.22906736 0.2260115\n",
            " 0.23077863 0.23004522 0.22747833 0.22564481 0.2338345  0.24385774\n",
            " 0.24385774 0.23530132 0.23664591 0.24080187 0.23664591 0.24385774\n",
            " 0.27099376 0.24544677 0.25864811 0.24214646 0.23481239 0.23407898\n",
            " 0.22540033 0.22173329 0.21598826 0.22014426 0.20242026 0.15988265\n",
            " 0.15523776 0.15157072 0.1663611  0.16819462 0.15988265 0.14765921\n",
            " 0.1564601  0.17002813 0.161105   0.16599437 0.1575602  0.15670455\n",
            " 0.15450434 0.15279307 0.15451027 0.15311381]\n",
            "2 day output [[0.15196557]]\n",
            "3 day input [0.10646622 0.11074442 0.12272338 0.13849162 0.13176873 0.1422809\n",
            " 0.14142524 0.13751376 0.14570345 0.13396897 0.13702483 0.11942304\n",
            " 0.12712383 0.11416697 0.13030194 0.15939372 0.1444811  0.16049382\n",
            " 0.14264759 0.1486371  0.14130304 0.125657   0.12431242 0.1266349\n",
            " 0.13800269 0.13616917 0.15364869 0.1774844  0.18102923 0.17834006\n",
            " 0.16685003 0.18041806 0.17112824 0.16183841 0.15597117 0.16477203\n",
            " 0.16599437 0.1664833  0.17650654 0.17907347 0.17601761 0.16526096\n",
            " 0.16134948 0.1721061  0.16073831 0.17100599 0.16819462 0.17259503\n",
            " 0.18555189 0.18591861 0.16623886 0.1894634  0.2213666  0.20804302\n",
            " 0.20327588 0.18506296 0.23505684 0.22906736 0.2260115  0.23077863\n",
            " 0.23004522 0.22747833 0.22564481 0.2338345  0.24385774 0.24385774\n",
            " 0.23530132 0.23664591 0.24080187 0.23664591 0.24385774 0.27099376\n",
            " 0.24544677 0.25864811 0.24214646 0.23481239 0.23407898 0.22540033\n",
            " 0.22173329 0.21598826 0.22014426 0.20242026 0.15988265 0.15523776\n",
            " 0.15157072 0.1663611  0.16819462 0.15988265 0.14765921 0.1564601\n",
            " 0.17002813 0.161105   0.16599437 0.1575602  0.15670455 0.15450434\n",
            " 0.15279307 0.15451027 0.15311381 0.15196557]\n",
            "3 day output [[0.15088929]]\n",
            "4 day input [0.11074442 0.12272338 0.13849162 0.13176873 0.1422809  0.14142524\n",
            " 0.13751376 0.14570345 0.13396897 0.13702483 0.11942304 0.12712383\n",
            " 0.11416697 0.13030194 0.15939372 0.1444811  0.16049382 0.14264759\n",
            " 0.1486371  0.14130304 0.125657   0.12431242 0.1266349  0.13800269\n",
            " 0.13616917 0.15364869 0.1774844  0.18102923 0.17834006 0.16685003\n",
            " 0.18041806 0.17112824 0.16183841 0.15597117 0.16477203 0.16599437\n",
            " 0.1664833  0.17650654 0.17907347 0.17601761 0.16526096 0.16134948\n",
            " 0.1721061  0.16073831 0.17100599 0.16819462 0.17259503 0.18555189\n",
            " 0.18591861 0.16623886 0.1894634  0.2213666  0.20804302 0.20327588\n",
            " 0.18506296 0.23505684 0.22906736 0.2260115  0.23077863 0.23004522\n",
            " 0.22747833 0.22564481 0.2338345  0.24385774 0.24385774 0.23530132\n",
            " 0.23664591 0.24080187 0.23664591 0.24385774 0.27099376 0.24544677\n",
            " 0.25864811 0.24214646 0.23481239 0.23407898 0.22540033 0.22173329\n",
            " 0.21598826 0.22014426 0.20242026 0.15988265 0.15523776 0.15157072\n",
            " 0.1663611  0.16819462 0.15988265 0.14765921 0.1564601  0.17002813\n",
            " 0.161105   0.16599437 0.1575602  0.15670455 0.15450434 0.15279307\n",
            " 0.15451027 0.15311381 0.15196557 0.15088929]\n",
            "4 day output [[0.14982645]]\n",
            "5 day input [0.12272338 0.13849162 0.13176873 0.1422809  0.14142524 0.13751376\n",
            " 0.14570345 0.13396897 0.13702483 0.11942304 0.12712383 0.11416697\n",
            " 0.13030194 0.15939372 0.1444811  0.16049382 0.14264759 0.1486371\n",
            " 0.14130304 0.125657   0.12431242 0.1266349  0.13800269 0.13616917\n",
            " 0.15364869 0.1774844  0.18102923 0.17834006 0.16685003 0.18041806\n",
            " 0.17112824 0.16183841 0.15597117 0.16477203 0.16599437 0.1664833\n",
            " 0.17650654 0.17907347 0.17601761 0.16526096 0.16134948 0.1721061\n",
            " 0.16073831 0.17100599 0.16819462 0.17259503 0.18555189 0.18591861\n",
            " 0.16623886 0.1894634  0.2213666  0.20804302 0.20327588 0.18506296\n",
            " 0.23505684 0.22906736 0.2260115  0.23077863 0.23004522 0.22747833\n",
            " 0.22564481 0.2338345  0.24385774 0.24385774 0.23530132 0.23664591\n",
            " 0.24080187 0.23664591 0.24385774 0.27099376 0.24544677 0.25864811\n",
            " 0.24214646 0.23481239 0.23407898 0.22540033 0.22173329 0.21598826\n",
            " 0.22014426 0.20242026 0.15988265 0.15523776 0.15157072 0.1663611\n",
            " 0.16819462 0.15988265 0.14765921 0.1564601  0.17002813 0.161105\n",
            " 0.16599437 0.1575602  0.15670455 0.15450434 0.15279307 0.15451027\n",
            " 0.15311381 0.15196557 0.15088929 0.14982645]\n",
            "5 day output [[0.14875796]]\n",
            "6 day input [0.13849162 0.13176873 0.1422809  0.14142524 0.13751376 0.14570345\n",
            " 0.13396897 0.13702483 0.11942304 0.12712383 0.11416697 0.13030194\n",
            " 0.15939372 0.1444811  0.16049382 0.14264759 0.1486371  0.14130304\n",
            " 0.125657   0.12431242 0.1266349  0.13800269 0.13616917 0.15364869\n",
            " 0.1774844  0.18102923 0.17834006 0.16685003 0.18041806 0.17112824\n",
            " 0.16183841 0.15597117 0.16477203 0.16599437 0.1664833  0.17650654\n",
            " 0.17907347 0.17601761 0.16526096 0.16134948 0.1721061  0.16073831\n",
            " 0.17100599 0.16819462 0.17259503 0.18555189 0.18591861 0.16623886\n",
            " 0.1894634  0.2213666  0.20804302 0.20327588 0.18506296 0.23505684\n",
            " 0.22906736 0.2260115  0.23077863 0.23004522 0.22747833 0.22564481\n",
            " 0.2338345  0.24385774 0.24385774 0.23530132 0.23664591 0.24080187\n",
            " 0.23664591 0.24385774 0.27099376 0.24544677 0.25864811 0.24214646\n",
            " 0.23481239 0.23407898 0.22540033 0.22173329 0.21598826 0.22014426\n",
            " 0.20242026 0.15988265 0.15523776 0.15157072 0.1663611  0.16819462\n",
            " 0.15988265 0.14765921 0.1564601  0.17002813 0.161105   0.16599437\n",
            " 0.1575602  0.15670455 0.15450434 0.15279307 0.15451027 0.15311381\n",
            " 0.15196557 0.15088929 0.14982645 0.14875796]\n",
            "6 day output [[0.14767794]]\n",
            "7 day input [0.13176873 0.1422809  0.14142524 0.13751376 0.14570345 0.13396897\n",
            " 0.13702483 0.11942304 0.12712383 0.11416697 0.13030194 0.15939372\n",
            " 0.1444811  0.16049382 0.14264759 0.1486371  0.14130304 0.125657\n",
            " 0.12431242 0.1266349  0.13800269 0.13616917 0.15364869 0.1774844\n",
            " 0.18102923 0.17834006 0.16685003 0.18041806 0.17112824 0.16183841\n",
            " 0.15597117 0.16477203 0.16599437 0.1664833  0.17650654 0.17907347\n",
            " 0.17601761 0.16526096 0.16134948 0.1721061  0.16073831 0.17100599\n",
            " 0.16819462 0.17259503 0.18555189 0.18591861 0.16623886 0.1894634\n",
            " 0.2213666  0.20804302 0.20327588 0.18506296 0.23505684 0.22906736\n",
            " 0.2260115  0.23077863 0.23004522 0.22747833 0.22564481 0.2338345\n",
            " 0.24385774 0.24385774 0.23530132 0.23664591 0.24080187 0.23664591\n",
            " 0.24385774 0.27099376 0.24544677 0.25864811 0.24214646 0.23481239\n",
            " 0.23407898 0.22540033 0.22173329 0.21598826 0.22014426 0.20242026\n",
            " 0.15988265 0.15523776 0.15157072 0.1663611  0.16819462 0.15988265\n",
            " 0.14765921 0.1564601  0.17002813 0.161105   0.16599437 0.1575602\n",
            " 0.15670455 0.15450434 0.15279307 0.15451027 0.15311381 0.15196557\n",
            " 0.15088929 0.14982645 0.14875796 0.14767794]\n",
            "7 day output [[0.14658482]]\n",
            "8 day input [0.1422809  0.14142524 0.13751376 0.14570345 0.13396897 0.13702483\n",
            " 0.11942304 0.12712383 0.11416697 0.13030194 0.15939372 0.1444811\n",
            " 0.16049382 0.14264759 0.1486371  0.14130304 0.125657   0.12431242\n",
            " 0.1266349  0.13800269 0.13616917 0.15364869 0.1774844  0.18102923\n",
            " 0.17834006 0.16685003 0.18041806 0.17112824 0.16183841 0.15597117\n",
            " 0.16477203 0.16599437 0.1664833  0.17650654 0.17907347 0.17601761\n",
            " 0.16526096 0.16134948 0.1721061  0.16073831 0.17100599 0.16819462\n",
            " 0.17259503 0.18555189 0.18591861 0.16623886 0.1894634  0.2213666\n",
            " 0.20804302 0.20327588 0.18506296 0.23505684 0.22906736 0.2260115\n",
            " 0.23077863 0.23004522 0.22747833 0.22564481 0.2338345  0.24385774\n",
            " 0.24385774 0.23530132 0.23664591 0.24080187 0.23664591 0.24385774\n",
            " 0.27099376 0.24544677 0.25864811 0.24214646 0.23481239 0.23407898\n",
            " 0.22540033 0.22173329 0.21598826 0.22014426 0.20242026 0.15988265\n",
            " 0.15523776 0.15157072 0.1663611  0.16819462 0.15988265 0.14765921\n",
            " 0.1564601  0.17002813 0.161105   0.16599437 0.1575602  0.15670455\n",
            " 0.15450434 0.15279307 0.15451027 0.15311381 0.15196557 0.15088929\n",
            " 0.14982645 0.14875796 0.14767794 0.14658482]\n",
            "8 day output [[0.14547841]]\n",
            "9 day input [0.14142524 0.13751376 0.14570345 0.13396897 0.13702483 0.11942304\n",
            " 0.12712383 0.11416697 0.13030194 0.15939372 0.1444811  0.16049382\n",
            " 0.14264759 0.1486371  0.14130304 0.125657   0.12431242 0.1266349\n",
            " 0.13800269 0.13616917 0.15364869 0.1774844  0.18102923 0.17834006\n",
            " 0.16685003 0.18041806 0.17112824 0.16183841 0.15597117 0.16477203\n",
            " 0.16599437 0.1664833  0.17650654 0.17907347 0.17601761 0.16526096\n",
            " 0.16134948 0.1721061  0.16073831 0.17100599 0.16819462 0.17259503\n",
            " 0.18555189 0.18591861 0.16623886 0.1894634  0.2213666  0.20804302\n",
            " 0.20327588 0.18506296 0.23505684 0.22906736 0.2260115  0.23077863\n",
            " 0.23004522 0.22747833 0.22564481 0.2338345  0.24385774 0.24385774\n",
            " 0.23530132 0.23664591 0.24080187 0.23664591 0.24385774 0.27099376\n",
            " 0.24544677 0.25864811 0.24214646 0.23481239 0.23407898 0.22540033\n",
            " 0.22173329 0.21598826 0.22014426 0.20242026 0.15988265 0.15523776\n",
            " 0.15157072 0.1663611  0.16819462 0.15988265 0.14765921 0.1564601\n",
            " 0.17002813 0.161105   0.16599437 0.1575602  0.15670455 0.15450434\n",
            " 0.15279307 0.15451027 0.15311381 0.15196557 0.15088929 0.14982645\n",
            " 0.14875796 0.14767794 0.14658482 0.14547841]\n",
            "9 day output [[0.14435883]]\n",
            "10 day input [0.13751376 0.14570345 0.13396897 0.13702483 0.11942304 0.12712383\n",
            " 0.11416697 0.13030194 0.15939372 0.1444811  0.16049382 0.14264759\n",
            " 0.1486371  0.14130304 0.125657   0.12431242 0.1266349  0.13800269\n",
            " 0.13616917 0.15364869 0.1774844  0.18102923 0.17834006 0.16685003\n",
            " 0.18041806 0.17112824 0.16183841 0.15597117 0.16477203 0.16599437\n",
            " 0.1664833  0.17650654 0.17907347 0.17601761 0.16526096 0.16134948\n",
            " 0.1721061  0.16073831 0.17100599 0.16819462 0.17259503 0.18555189\n",
            " 0.18591861 0.16623886 0.1894634  0.2213666  0.20804302 0.20327588\n",
            " 0.18506296 0.23505684 0.22906736 0.2260115  0.23077863 0.23004522\n",
            " 0.22747833 0.22564481 0.2338345  0.24385774 0.24385774 0.23530132\n",
            " 0.23664591 0.24080187 0.23664591 0.24385774 0.27099376 0.24544677\n",
            " 0.25864811 0.24214646 0.23481239 0.23407898 0.22540033 0.22173329\n",
            " 0.21598826 0.22014426 0.20242026 0.15988265 0.15523776 0.15157072\n",
            " 0.1663611  0.16819462 0.15988265 0.14765921 0.1564601  0.17002813\n",
            " 0.161105   0.16599437 0.1575602  0.15670455 0.15450434 0.15279307\n",
            " 0.15451027 0.15311381 0.15196557 0.15088929 0.14982645 0.14875796\n",
            " 0.14767794 0.14658482 0.14547841 0.14435883]\n",
            "10 day output [[0.14322627]]\n",
            "11 day input [0.14570345 0.13396897 0.13702483 0.11942304 0.12712383 0.11416697\n",
            " 0.13030194 0.15939372 0.1444811  0.16049382 0.14264759 0.1486371\n",
            " 0.14130304 0.125657   0.12431242 0.1266349  0.13800269 0.13616917\n",
            " 0.15364869 0.1774844  0.18102923 0.17834006 0.16685003 0.18041806\n",
            " 0.17112824 0.16183841 0.15597117 0.16477203 0.16599437 0.1664833\n",
            " 0.17650654 0.17907347 0.17601761 0.16526096 0.16134948 0.1721061\n",
            " 0.16073831 0.17100599 0.16819462 0.17259503 0.18555189 0.18591861\n",
            " 0.16623886 0.1894634  0.2213666  0.20804302 0.20327588 0.18506296\n",
            " 0.23505684 0.22906736 0.2260115  0.23077863 0.23004522 0.22747833\n",
            " 0.22564481 0.2338345  0.24385774 0.24385774 0.23530132 0.23664591\n",
            " 0.24080187 0.23664591 0.24385774 0.27099376 0.24544677 0.25864811\n",
            " 0.24214646 0.23481239 0.23407898 0.22540033 0.22173329 0.21598826\n",
            " 0.22014426 0.20242026 0.15988265 0.15523776 0.15157072 0.1663611\n",
            " 0.16819462 0.15988265 0.14765921 0.1564601  0.17002813 0.161105\n",
            " 0.16599437 0.1575602  0.15670455 0.15450434 0.15279307 0.15451027\n",
            " 0.15311381 0.15196557 0.15088929 0.14982645 0.14875796 0.14767794\n",
            " 0.14658482 0.14547841 0.14435883 0.14322627]\n",
            "11 day output [[0.14208087]]\n",
            "12 day input [0.13396897 0.13702483 0.11942304 0.12712383 0.11416697 0.13030194\n",
            " 0.15939372 0.1444811  0.16049382 0.14264759 0.1486371  0.14130304\n",
            " 0.125657   0.12431242 0.1266349  0.13800269 0.13616917 0.15364869\n",
            " 0.1774844  0.18102923 0.17834006 0.16685003 0.18041806 0.17112824\n",
            " 0.16183841 0.15597117 0.16477203 0.16599437 0.1664833  0.17650654\n",
            " 0.17907347 0.17601761 0.16526096 0.16134948 0.1721061  0.16073831\n",
            " 0.17100599 0.16819462 0.17259503 0.18555189 0.18591861 0.16623886\n",
            " 0.1894634  0.2213666  0.20804302 0.20327588 0.18506296 0.23505684\n",
            " 0.22906736 0.2260115  0.23077863 0.23004522 0.22747833 0.22564481\n",
            " 0.2338345  0.24385774 0.24385774 0.23530132 0.23664591 0.24080187\n",
            " 0.23664591 0.24385774 0.27099376 0.24544677 0.25864811 0.24214646\n",
            " 0.23481239 0.23407898 0.22540033 0.22173329 0.21598826 0.22014426\n",
            " 0.20242026 0.15988265 0.15523776 0.15157072 0.1663611  0.16819462\n",
            " 0.15988265 0.14765921 0.1564601  0.17002813 0.161105   0.16599437\n",
            " 0.1575602  0.15670455 0.15450434 0.15279307 0.15451027 0.15311381\n",
            " 0.15196557 0.15088929 0.14982645 0.14875796 0.14767794 0.14658482\n",
            " 0.14547841 0.14435883 0.14322627 0.14208087]\n",
            "12 day output [[0.1409227]]\n",
            "13 day input [0.13702483 0.11942304 0.12712383 0.11416697 0.13030194 0.15939372\n",
            " 0.1444811  0.16049382 0.14264759 0.1486371  0.14130304 0.125657\n",
            " 0.12431242 0.1266349  0.13800269 0.13616917 0.15364869 0.1774844\n",
            " 0.18102923 0.17834006 0.16685003 0.18041806 0.17112824 0.16183841\n",
            " 0.15597117 0.16477203 0.16599437 0.1664833  0.17650654 0.17907347\n",
            " 0.17601761 0.16526096 0.16134948 0.1721061  0.16073831 0.17100599\n",
            " 0.16819462 0.17259503 0.18555189 0.18591861 0.16623886 0.1894634\n",
            " 0.2213666  0.20804302 0.20327588 0.18506296 0.23505684 0.22906736\n",
            " 0.2260115  0.23077863 0.23004522 0.22747833 0.22564481 0.2338345\n",
            " 0.24385774 0.24385774 0.23530132 0.23664591 0.24080187 0.23664591\n",
            " 0.24385774 0.27099376 0.24544677 0.25864811 0.24214646 0.23481239\n",
            " 0.23407898 0.22540033 0.22173329 0.21598826 0.22014426 0.20242026\n",
            " 0.15988265 0.15523776 0.15157072 0.1663611  0.16819462 0.15988265\n",
            " 0.14765921 0.1564601  0.17002813 0.161105   0.16599437 0.1575602\n",
            " 0.15670455 0.15450434 0.15279307 0.15451027 0.15311381 0.15196557\n",
            " 0.15088929 0.14982645 0.14875796 0.14767794 0.14658482 0.14547841\n",
            " 0.14435883 0.14322627 0.14208087 0.1409227 ]\n",
            "13 day output [[0.1397517]]\n",
            "14 day input [0.11942304 0.12712383 0.11416697 0.13030194 0.15939372 0.1444811\n",
            " 0.16049382 0.14264759 0.1486371  0.14130304 0.125657   0.12431242\n",
            " 0.1266349  0.13800269 0.13616917 0.15364869 0.1774844  0.18102923\n",
            " 0.17834006 0.16685003 0.18041806 0.17112824 0.16183841 0.15597117\n",
            " 0.16477203 0.16599437 0.1664833  0.17650654 0.17907347 0.17601761\n",
            " 0.16526096 0.16134948 0.1721061  0.16073831 0.17100599 0.16819462\n",
            " 0.17259503 0.18555189 0.18591861 0.16623886 0.1894634  0.2213666\n",
            " 0.20804302 0.20327588 0.18506296 0.23505684 0.22906736 0.2260115\n",
            " 0.23077863 0.23004522 0.22747833 0.22564481 0.2338345  0.24385774\n",
            " 0.24385774 0.23530132 0.23664591 0.24080187 0.23664591 0.24385774\n",
            " 0.27099376 0.24544677 0.25864811 0.24214646 0.23481239 0.23407898\n",
            " 0.22540033 0.22173329 0.21598826 0.22014426 0.20242026 0.15988265\n",
            " 0.15523776 0.15157072 0.1663611  0.16819462 0.15988265 0.14765921\n",
            " 0.1564601  0.17002813 0.161105   0.16599437 0.1575602  0.15670455\n",
            " 0.15450434 0.15279307 0.15451027 0.15311381 0.15196557 0.15088929\n",
            " 0.14982645 0.14875796 0.14767794 0.14658482 0.14547841 0.14435883\n",
            " 0.14322627 0.14208087 0.1409227  0.1397517 ]\n",
            "14 day output [[0.13856788]]\n",
            "15 day input [0.12712383 0.11416697 0.13030194 0.15939372 0.1444811  0.16049382\n",
            " 0.14264759 0.1486371  0.14130304 0.125657   0.12431242 0.1266349\n",
            " 0.13800269 0.13616917 0.15364869 0.1774844  0.18102923 0.17834006\n",
            " 0.16685003 0.18041806 0.17112824 0.16183841 0.15597117 0.16477203\n",
            " 0.16599437 0.1664833  0.17650654 0.17907347 0.17601761 0.16526096\n",
            " 0.16134948 0.1721061  0.16073831 0.17100599 0.16819462 0.17259503\n",
            " 0.18555189 0.18591861 0.16623886 0.1894634  0.2213666  0.20804302\n",
            " 0.20327588 0.18506296 0.23505684 0.22906736 0.2260115  0.23077863\n",
            " 0.23004522 0.22747833 0.22564481 0.2338345  0.24385774 0.24385774\n",
            " 0.23530132 0.23664591 0.24080187 0.23664591 0.24385774 0.27099376\n",
            " 0.24544677 0.25864811 0.24214646 0.23481239 0.23407898 0.22540033\n",
            " 0.22173329 0.21598826 0.22014426 0.20242026 0.15988265 0.15523776\n",
            " 0.15157072 0.1663611  0.16819462 0.15988265 0.14765921 0.1564601\n",
            " 0.17002813 0.161105   0.16599437 0.1575602  0.15670455 0.15450434\n",
            " 0.15279307 0.15451027 0.15311381 0.15196557 0.15088929 0.14982645\n",
            " 0.14875796 0.14767794 0.14658482 0.14547841 0.14435883 0.14322627\n",
            " 0.14208087 0.1409227  0.1397517  0.13856788]\n",
            "15 day output [[0.1373711]]\n",
            "16 day input [0.11416697 0.13030194 0.15939372 0.1444811  0.16049382 0.14264759\n",
            " 0.1486371  0.14130304 0.125657   0.12431242 0.1266349  0.13800269\n",
            " 0.13616917 0.15364869 0.1774844  0.18102923 0.17834006 0.16685003\n",
            " 0.18041806 0.17112824 0.16183841 0.15597117 0.16477203 0.16599437\n",
            " 0.1664833  0.17650654 0.17907347 0.17601761 0.16526096 0.16134948\n",
            " 0.1721061  0.16073831 0.17100599 0.16819462 0.17259503 0.18555189\n",
            " 0.18591861 0.16623886 0.1894634  0.2213666  0.20804302 0.20327588\n",
            " 0.18506296 0.23505684 0.22906736 0.2260115  0.23077863 0.23004522\n",
            " 0.22747833 0.22564481 0.2338345  0.24385774 0.24385774 0.23530132\n",
            " 0.23664591 0.24080187 0.23664591 0.24385774 0.27099376 0.24544677\n",
            " 0.25864811 0.24214646 0.23481239 0.23407898 0.22540033 0.22173329\n",
            " 0.21598826 0.22014426 0.20242026 0.15988265 0.15523776 0.15157072\n",
            " 0.1663611  0.16819462 0.15988265 0.14765921 0.1564601  0.17002813\n",
            " 0.161105   0.16599437 0.1575602  0.15670455 0.15450434 0.15279307\n",
            " 0.15451027 0.15311381 0.15196557 0.15088929 0.14982645 0.14875796\n",
            " 0.14767794 0.14658482 0.14547841 0.14435883 0.14322627 0.14208087\n",
            " 0.1409227  0.1397517  0.13856788 0.13737109]\n",
            "16 day output [[0.13616124]]\n",
            "17 day input [0.13030194 0.15939372 0.1444811  0.16049382 0.14264759 0.1486371\n",
            " 0.14130304 0.125657   0.12431242 0.1266349  0.13800269 0.13616917\n",
            " 0.15364869 0.1774844  0.18102923 0.17834006 0.16685003 0.18041806\n",
            " 0.17112824 0.16183841 0.15597117 0.16477203 0.16599437 0.1664833\n",
            " 0.17650654 0.17907347 0.17601761 0.16526096 0.16134948 0.1721061\n",
            " 0.16073831 0.17100599 0.16819462 0.17259503 0.18555189 0.18591861\n",
            " 0.16623886 0.1894634  0.2213666  0.20804302 0.20327588 0.18506296\n",
            " 0.23505684 0.22906736 0.2260115  0.23077863 0.23004522 0.22747833\n",
            " 0.22564481 0.2338345  0.24385774 0.24385774 0.23530132 0.23664591\n",
            " 0.24080187 0.23664591 0.24385774 0.27099376 0.24544677 0.25864811\n",
            " 0.24214646 0.23481239 0.23407898 0.22540033 0.22173329 0.21598826\n",
            " 0.22014426 0.20242026 0.15988265 0.15523776 0.15157072 0.1663611\n",
            " 0.16819462 0.15988265 0.14765921 0.1564601  0.17002813 0.161105\n",
            " 0.16599437 0.1575602  0.15670455 0.15450434 0.15279307 0.15451027\n",
            " 0.15311381 0.15196557 0.15088929 0.14982645 0.14875796 0.14767794\n",
            " 0.14658482 0.14547841 0.14435883 0.14322627 0.14208087 0.1409227\n",
            " 0.1397517  0.13856788 0.13737109 0.13616124]\n",
            "17 day output [[0.13493817]]\n",
            "18 day input [0.15939372 0.1444811  0.16049382 0.14264759 0.1486371  0.14130304\n",
            " 0.125657   0.12431242 0.1266349  0.13800269 0.13616917 0.15364869\n",
            " 0.1774844  0.18102923 0.17834006 0.16685003 0.18041806 0.17112824\n",
            " 0.16183841 0.15597117 0.16477203 0.16599437 0.1664833  0.17650654\n",
            " 0.17907347 0.17601761 0.16526096 0.16134948 0.1721061  0.16073831\n",
            " 0.17100599 0.16819462 0.17259503 0.18555189 0.18591861 0.16623886\n",
            " 0.1894634  0.2213666  0.20804302 0.20327588 0.18506296 0.23505684\n",
            " 0.22906736 0.2260115  0.23077863 0.23004522 0.22747833 0.22564481\n",
            " 0.2338345  0.24385774 0.24385774 0.23530132 0.23664591 0.24080187\n",
            " 0.23664591 0.24385774 0.27099376 0.24544677 0.25864811 0.24214646\n",
            " 0.23481239 0.23407898 0.22540033 0.22173329 0.21598826 0.22014426\n",
            " 0.20242026 0.15988265 0.15523776 0.15157072 0.1663611  0.16819462\n",
            " 0.15988265 0.14765921 0.1564601  0.17002813 0.161105   0.16599437\n",
            " 0.1575602  0.15670455 0.15450434 0.15279307 0.15451027 0.15311381\n",
            " 0.15196557 0.15088929 0.14982645 0.14875796 0.14767794 0.14658482\n",
            " 0.14547841 0.14435883 0.14322627 0.14208087 0.1409227  0.1397517\n",
            " 0.13856788 0.13737109 0.13616124 0.13493817]\n",
            "18 day output [[0.13370171]]\n",
            "19 day input [0.1444811  0.16049382 0.14264759 0.1486371  0.14130304 0.125657\n",
            " 0.12431242 0.1266349  0.13800269 0.13616917 0.15364869 0.1774844\n",
            " 0.18102923 0.17834006 0.16685003 0.18041806 0.17112824 0.16183841\n",
            " 0.15597117 0.16477203 0.16599437 0.1664833  0.17650654 0.17907347\n",
            " 0.17601761 0.16526096 0.16134948 0.1721061  0.16073831 0.17100599\n",
            " 0.16819462 0.17259503 0.18555189 0.18591861 0.16623886 0.1894634\n",
            " 0.2213666  0.20804302 0.20327588 0.18506296 0.23505684 0.22906736\n",
            " 0.2260115  0.23077863 0.23004522 0.22747833 0.22564481 0.2338345\n",
            " 0.24385774 0.24385774 0.23530132 0.23664591 0.24080187 0.23664591\n",
            " 0.24385774 0.27099376 0.24544677 0.25864811 0.24214646 0.23481239\n",
            " 0.23407898 0.22540033 0.22173329 0.21598826 0.22014426 0.20242026\n",
            " 0.15988265 0.15523776 0.15157072 0.1663611  0.16819462 0.15988265\n",
            " 0.14765921 0.1564601  0.17002813 0.161105   0.16599437 0.1575602\n",
            " 0.15670455 0.15450434 0.15279307 0.15451027 0.15311381 0.15196557\n",
            " 0.15088929 0.14982645 0.14875796 0.14767794 0.14658482 0.14547841\n",
            " 0.14435883 0.14322627 0.14208087 0.1409227  0.1397517  0.13856788\n",
            " 0.13737109 0.13616124 0.13493817 0.13370171]\n",
            "19 day output [[0.1324517]]\n",
            "20 day input [0.16049382 0.14264759 0.1486371  0.14130304 0.125657   0.12431242\n",
            " 0.1266349  0.13800269 0.13616917 0.15364869 0.1774844  0.18102923\n",
            " 0.17834006 0.16685003 0.18041806 0.17112824 0.16183841 0.15597117\n",
            " 0.16477203 0.16599437 0.1664833  0.17650654 0.17907347 0.17601761\n",
            " 0.16526096 0.16134948 0.1721061  0.16073831 0.17100599 0.16819462\n",
            " 0.17259503 0.18555189 0.18591861 0.16623886 0.1894634  0.2213666\n",
            " 0.20804302 0.20327588 0.18506296 0.23505684 0.22906736 0.2260115\n",
            " 0.23077863 0.23004522 0.22747833 0.22564481 0.2338345  0.24385774\n",
            " 0.24385774 0.23530132 0.23664591 0.24080187 0.23664591 0.24385774\n",
            " 0.27099376 0.24544677 0.25864811 0.24214646 0.23481239 0.23407898\n",
            " 0.22540033 0.22173329 0.21598826 0.22014426 0.20242026 0.15988265\n",
            " 0.15523776 0.15157072 0.1663611  0.16819462 0.15988265 0.14765921\n",
            " 0.1564601  0.17002813 0.161105   0.16599437 0.1575602  0.15670455\n",
            " 0.15450434 0.15279307 0.15451027 0.15311381 0.15196557 0.15088929\n",
            " 0.14982645 0.14875796 0.14767794 0.14658482 0.14547841 0.14435883\n",
            " 0.14322627 0.14208087 0.1409227  0.1397517  0.13856788 0.13737109\n",
            " 0.13616124 0.13493817 0.13370171 0.1324517 ]\n",
            "20 day output [[0.13118802]]\n",
            "21 day input [0.14264759 0.1486371  0.14130304 0.125657   0.12431242 0.1266349\n",
            " 0.13800269 0.13616917 0.15364869 0.1774844  0.18102923 0.17834006\n",
            " 0.16685003 0.18041806 0.17112824 0.16183841 0.15597117 0.16477203\n",
            " 0.16599437 0.1664833  0.17650654 0.17907347 0.17601761 0.16526096\n",
            " 0.16134948 0.1721061  0.16073831 0.17100599 0.16819462 0.17259503\n",
            " 0.18555189 0.18591861 0.16623886 0.1894634  0.2213666  0.20804302\n",
            " 0.20327588 0.18506296 0.23505684 0.22906736 0.2260115  0.23077863\n",
            " 0.23004522 0.22747833 0.22564481 0.2338345  0.24385774 0.24385774\n",
            " 0.23530132 0.23664591 0.24080187 0.23664591 0.24385774 0.27099376\n",
            " 0.24544677 0.25864811 0.24214646 0.23481239 0.23407898 0.22540033\n",
            " 0.22173329 0.21598826 0.22014426 0.20242026 0.15988265 0.15523776\n",
            " 0.15157072 0.1663611  0.16819462 0.15988265 0.14765921 0.1564601\n",
            " 0.17002813 0.161105   0.16599437 0.1575602  0.15670455 0.15450434\n",
            " 0.15279307 0.15451027 0.15311381 0.15196557 0.15088929 0.14982645\n",
            " 0.14875796 0.14767794 0.14658482 0.14547841 0.14435883 0.14322627\n",
            " 0.14208087 0.1409227  0.1397517  0.13856788 0.13737109 0.13616124\n",
            " 0.13493817 0.13370171 0.1324517  0.13118802]\n",
            "21 day output [[0.1299105]]\n",
            "22 day input [0.1486371  0.14130304 0.125657   0.12431242 0.1266349  0.13800269\n",
            " 0.13616917 0.15364869 0.1774844  0.18102923 0.17834006 0.16685003\n",
            " 0.18041806 0.17112824 0.16183841 0.15597117 0.16477203 0.16599437\n",
            " 0.1664833  0.17650654 0.17907347 0.17601761 0.16526096 0.16134948\n",
            " 0.1721061  0.16073831 0.17100599 0.16819462 0.17259503 0.18555189\n",
            " 0.18591861 0.16623886 0.1894634  0.2213666  0.20804302 0.20327588\n",
            " 0.18506296 0.23505684 0.22906736 0.2260115  0.23077863 0.23004522\n",
            " 0.22747833 0.22564481 0.2338345  0.24385774 0.24385774 0.23530132\n",
            " 0.23664591 0.24080187 0.23664591 0.24385774 0.27099376 0.24544677\n",
            " 0.25864811 0.24214646 0.23481239 0.23407898 0.22540033 0.22173329\n",
            " 0.21598826 0.22014426 0.20242026 0.15988265 0.15523776 0.15157072\n",
            " 0.1663611  0.16819462 0.15988265 0.14765921 0.1564601  0.17002813\n",
            " 0.161105   0.16599437 0.1575602  0.15670455 0.15450434 0.15279307\n",
            " 0.15451027 0.15311381 0.15196557 0.15088929 0.14982645 0.14875796\n",
            " 0.14767794 0.14658482 0.14547841 0.14435883 0.14322627 0.14208087\n",
            " 0.1409227  0.1397517  0.13856788 0.13737109 0.13616124 0.13493817\n",
            " 0.13370171 0.1324517  0.13118802 0.1299105 ]\n",
            "22 day output [[0.128619]]\n",
            "23 day input [0.14130304 0.125657   0.12431242 0.1266349  0.13800269 0.13616917\n",
            " 0.15364869 0.1774844  0.18102923 0.17834006 0.16685003 0.18041806\n",
            " 0.17112824 0.16183841 0.15597117 0.16477203 0.16599437 0.1664833\n",
            " 0.17650654 0.17907347 0.17601761 0.16526096 0.16134948 0.1721061\n",
            " 0.16073831 0.17100599 0.16819462 0.17259503 0.18555189 0.18591861\n",
            " 0.16623886 0.1894634  0.2213666  0.20804302 0.20327588 0.18506296\n",
            " 0.23505684 0.22906736 0.2260115  0.23077863 0.23004522 0.22747833\n",
            " 0.22564481 0.2338345  0.24385774 0.24385774 0.23530132 0.23664591\n",
            " 0.24080187 0.23664591 0.24385774 0.27099376 0.24544677 0.25864811\n",
            " 0.24214646 0.23481239 0.23407898 0.22540033 0.22173329 0.21598826\n",
            " 0.22014426 0.20242026 0.15988265 0.15523776 0.15157072 0.1663611\n",
            " 0.16819462 0.15988265 0.14765921 0.1564601  0.17002813 0.161105\n",
            " 0.16599437 0.1575602  0.15670455 0.15450434 0.15279307 0.15451027\n",
            " 0.15311381 0.15196557 0.15088929 0.14982645 0.14875796 0.14767794\n",
            " 0.14658482 0.14547841 0.14435883 0.14322627 0.14208087 0.1409227\n",
            " 0.1397517  0.13856788 0.13737109 0.13616124 0.13493817 0.13370171\n",
            " 0.1324517  0.13118802 0.1299105  0.128619  ]\n",
            "23 day output [[0.12731335]]\n",
            "24 day input [0.125657   0.12431242 0.1266349  0.13800269 0.13616917 0.15364869\n",
            " 0.1774844  0.18102923 0.17834006 0.16685003 0.18041806 0.17112824\n",
            " 0.16183841 0.15597117 0.16477203 0.16599437 0.1664833  0.17650654\n",
            " 0.17907347 0.17601761 0.16526096 0.16134948 0.1721061  0.16073831\n",
            " 0.17100599 0.16819462 0.17259503 0.18555189 0.18591861 0.16623886\n",
            " 0.1894634  0.2213666  0.20804302 0.20327588 0.18506296 0.23505684\n",
            " 0.22906736 0.2260115  0.23077863 0.23004522 0.22747833 0.22564481\n",
            " 0.2338345  0.24385774 0.24385774 0.23530132 0.23664591 0.24080187\n",
            " 0.23664591 0.24385774 0.27099376 0.24544677 0.25864811 0.24214646\n",
            " 0.23481239 0.23407898 0.22540033 0.22173329 0.21598826 0.22014426\n",
            " 0.20242026 0.15988265 0.15523776 0.15157072 0.1663611  0.16819462\n",
            " 0.15988265 0.14765921 0.1564601  0.17002813 0.161105   0.16599437\n",
            " 0.1575602  0.15670455 0.15450434 0.15279307 0.15451027 0.15311381\n",
            " 0.15196557 0.15088929 0.14982645 0.14875796 0.14767794 0.14658482\n",
            " 0.14547841 0.14435883 0.14322627 0.14208087 0.1409227  0.1397517\n",
            " 0.13856788 0.13737109 0.13616124 0.13493817 0.13370171 0.1324517\n",
            " 0.13118802 0.1299105  0.128619   0.12731335]\n",
            "24 day output [[0.12599343]]\n",
            "25 day input [0.12431242 0.1266349  0.13800269 0.13616917 0.15364869 0.1774844\n",
            " 0.18102923 0.17834006 0.16685003 0.18041806 0.17112824 0.16183841\n",
            " 0.15597117 0.16477203 0.16599437 0.1664833  0.17650654 0.17907347\n",
            " 0.17601761 0.16526096 0.16134948 0.1721061  0.16073831 0.17100599\n",
            " 0.16819462 0.17259503 0.18555189 0.18591861 0.16623886 0.1894634\n",
            " 0.2213666  0.20804302 0.20327588 0.18506296 0.23505684 0.22906736\n",
            " 0.2260115  0.23077863 0.23004522 0.22747833 0.22564481 0.2338345\n",
            " 0.24385774 0.24385774 0.23530132 0.23664591 0.24080187 0.23664591\n",
            " 0.24385774 0.27099376 0.24544677 0.25864811 0.24214646 0.23481239\n",
            " 0.23407898 0.22540033 0.22173329 0.21598826 0.22014426 0.20242026\n",
            " 0.15988265 0.15523776 0.15157072 0.1663611  0.16819462 0.15988265\n",
            " 0.14765921 0.1564601  0.17002813 0.161105   0.16599437 0.1575602\n",
            " 0.15670455 0.15450434 0.15279307 0.15451027 0.15311381 0.15196557\n",
            " 0.15088929 0.14982645 0.14875796 0.14767794 0.14658482 0.14547841\n",
            " 0.14435883 0.14322627 0.14208087 0.1409227  0.1397517  0.13856788\n",
            " 0.13737109 0.13616124 0.13493817 0.13370171 0.1324517  0.13118802\n",
            " 0.1299105  0.128619   0.12731335 0.12599343]\n",
            "25 day output [[0.12465912]]\n",
            "26 day input [0.1266349  0.13800269 0.13616917 0.15364869 0.1774844  0.18102923\n",
            " 0.17834006 0.16685003 0.18041806 0.17112824 0.16183841 0.15597117\n",
            " 0.16477203 0.16599437 0.1664833  0.17650654 0.17907347 0.17601761\n",
            " 0.16526096 0.16134948 0.1721061  0.16073831 0.17100599 0.16819462\n",
            " 0.17259503 0.18555189 0.18591861 0.16623886 0.1894634  0.2213666\n",
            " 0.20804302 0.20327588 0.18506296 0.23505684 0.22906736 0.2260115\n",
            " 0.23077863 0.23004522 0.22747833 0.22564481 0.2338345  0.24385774\n",
            " 0.24385774 0.23530132 0.23664591 0.24080187 0.23664591 0.24385774\n",
            " 0.27099376 0.24544677 0.25864811 0.24214646 0.23481239 0.23407898\n",
            " 0.22540033 0.22173329 0.21598826 0.22014426 0.20242026 0.15988265\n",
            " 0.15523776 0.15157072 0.1663611  0.16819462 0.15988265 0.14765921\n",
            " 0.1564601  0.17002813 0.161105   0.16599437 0.1575602  0.15670455\n",
            " 0.15450434 0.15279307 0.15451027 0.15311381 0.15196557 0.15088929\n",
            " 0.14982645 0.14875796 0.14767794 0.14658482 0.14547841 0.14435883\n",
            " 0.14322627 0.14208087 0.1409227  0.1397517  0.13856788 0.13737109\n",
            " 0.13616124 0.13493817 0.13370171 0.1324517  0.13118802 0.1299105\n",
            " 0.128619   0.12731335 0.12599343 0.12465912]\n",
            "26 day output [[0.12331027]]\n",
            "27 day input [0.13800269 0.13616917 0.15364869 0.1774844  0.18102923 0.17834006\n",
            " 0.16685003 0.18041806 0.17112824 0.16183841 0.15597117 0.16477203\n",
            " 0.16599437 0.1664833  0.17650654 0.17907347 0.17601761 0.16526096\n",
            " 0.16134948 0.1721061  0.16073831 0.17100599 0.16819462 0.17259503\n",
            " 0.18555189 0.18591861 0.16623886 0.1894634  0.2213666  0.20804302\n",
            " 0.20327588 0.18506296 0.23505684 0.22906736 0.2260115  0.23077863\n",
            " 0.23004522 0.22747833 0.22564481 0.2338345  0.24385774 0.24385774\n",
            " 0.23530132 0.23664591 0.24080187 0.23664591 0.24385774 0.27099376\n",
            " 0.24544677 0.25864811 0.24214646 0.23481239 0.23407898 0.22540033\n",
            " 0.22173329 0.21598826 0.22014426 0.20242026 0.15988265 0.15523776\n",
            " 0.15157072 0.1663611  0.16819462 0.15988265 0.14765921 0.1564601\n",
            " 0.17002813 0.161105   0.16599437 0.1575602  0.15670455 0.15450434\n",
            " 0.15279307 0.15451027 0.15311381 0.15196557 0.15088929 0.14982645\n",
            " 0.14875796 0.14767794 0.14658482 0.14547841 0.14435883 0.14322627\n",
            " 0.14208087 0.1409227  0.1397517  0.13856788 0.13737109 0.13616124\n",
            " 0.13493817 0.13370171 0.1324517  0.13118802 0.1299105  0.128619\n",
            " 0.12731335 0.12599343 0.12465912 0.12331027]\n",
            "27 day output [[0.12194677]]\n",
            "28 day input [0.13616917 0.15364869 0.1774844  0.18102923 0.17834006 0.16685003\n",
            " 0.18041806 0.17112824 0.16183841 0.15597117 0.16477203 0.16599437\n",
            " 0.1664833  0.17650654 0.17907347 0.17601761 0.16526096 0.16134948\n",
            " 0.1721061  0.16073831 0.17100599 0.16819462 0.17259503 0.18555189\n",
            " 0.18591861 0.16623886 0.1894634  0.2213666  0.20804302 0.20327588\n",
            " 0.18506296 0.23505684 0.22906736 0.2260115  0.23077863 0.23004522\n",
            " 0.22747833 0.22564481 0.2338345  0.24385774 0.24385774 0.23530132\n",
            " 0.23664591 0.24080187 0.23664591 0.24385774 0.27099376 0.24544677\n",
            " 0.25864811 0.24214646 0.23481239 0.23407898 0.22540033 0.22173329\n",
            " 0.21598826 0.22014426 0.20242026 0.15988265 0.15523776 0.15157072\n",
            " 0.1663611  0.16819462 0.15988265 0.14765921 0.1564601  0.17002813\n",
            " 0.161105   0.16599437 0.1575602  0.15670455 0.15450434 0.15279307\n",
            " 0.15451027 0.15311381 0.15196557 0.15088929 0.14982645 0.14875796\n",
            " 0.14767794 0.14658482 0.14547841 0.14435883 0.14322627 0.14208087\n",
            " 0.1409227  0.1397517  0.13856788 0.13737109 0.13616124 0.13493817\n",
            " 0.13370171 0.1324517  0.13118802 0.1299105  0.128619   0.12731335\n",
            " 0.12599343 0.12465912 0.12331027 0.12194677]\n",
            "28 day output [[0.1205685]]\n",
            "29 day input [0.15364869 0.1774844  0.18102923 0.17834006 0.16685003 0.18041806\n",
            " 0.17112824 0.16183841 0.15597117 0.16477203 0.16599437 0.1664833\n",
            " 0.17650654 0.17907347 0.17601761 0.16526096 0.16134948 0.1721061\n",
            " 0.16073831 0.17100599 0.16819462 0.17259503 0.18555189 0.18591861\n",
            " 0.16623886 0.1894634  0.2213666  0.20804302 0.20327588 0.18506296\n",
            " 0.23505684 0.22906736 0.2260115  0.23077863 0.23004522 0.22747833\n",
            " 0.22564481 0.2338345  0.24385774 0.24385774 0.23530132 0.23664591\n",
            " 0.24080187 0.23664591 0.24385774 0.27099376 0.24544677 0.25864811\n",
            " 0.24214646 0.23481239 0.23407898 0.22540033 0.22173329 0.21598826\n",
            " 0.22014426 0.20242026 0.15988265 0.15523776 0.15157072 0.1663611\n",
            " 0.16819462 0.15988265 0.14765921 0.1564601  0.17002813 0.161105\n",
            " 0.16599437 0.1575602  0.15670455 0.15450434 0.15279307 0.15451027\n",
            " 0.15311381 0.15196557 0.15088929 0.14982645 0.14875796 0.14767794\n",
            " 0.14658482 0.14547841 0.14435883 0.14322627 0.14208087 0.1409227\n",
            " 0.1397517  0.13856788 0.13737109 0.13616124 0.13493817 0.13370171\n",
            " 0.1324517  0.13118802 0.1299105  0.128619   0.12731335 0.12599343\n",
            " 0.12465912 0.12331027 0.12194677 0.1205685 ]\n",
            "29 day output [[0.11917534]]\n",
            "[[0.1545102745294571], [0.15311381220817566], [0.15196557343006134], [0.1508892923593521], [0.14982645213603973], [0.1487579643726349], [0.147677943110466], [0.14658482372760773], [0.14547841250896454], [0.144358828663826], [0.1432262659072876], [0.1420808732509613], [0.1409226953983307], [0.13975170254707336], [0.13856787979602814], [0.13737109303474426], [0.13616123795509338], [0.13493816554546356], [0.13370171189308167], [0.13245169818401337], [0.1311880201101303], [0.12991049885749817], [0.1286190003156662], [0.12731334567070007], [0.12599343061447144], [0.12465912103652954], [0.12331026792526245], [0.12194676697254181], [0.12056849896907806], [0.11917534470558167]]\n"
          ],
          "name": "stdout"
        }
      ]
    },
    {
      "cell_type": "code",
      "metadata": {
        "id": "5s3IrPNZcps5"
      },
      "source": [
        "day_new=np.arange(1,101)\n",
        "day_pred=np.arange(101,131)"
      ],
      "execution_count": 56,
      "outputs": []
    },
    {
      "cell_type": "code",
      "metadata": {
        "id": "FauilxhLcss7"
      },
      "source": [
        "import matplotlib.pyplot as plt"
      ],
      "execution_count": 57,
      "outputs": []
    },
    {
      "cell_type": "code",
      "metadata": {
        "id": "C2S0OuBZdHFb",
        "outputId": "92e02f85-220c-4f71-a0f9-9b31f20b5470",
        "colab": {
          "base_uri": "https://localhost:8080/",
          "height": 1000
        }
      },
      "source": [
        "day_new,scaler.inverse_transform(scaled_data[1136:])"
      ],
      "execution_count": 58,
      "outputs": [
        {
          "output_type": "execute_result",
          "data": {
            "text/plain": [
              "(array([  1,   2,   3,   4,   5,   6,   7,   8,   9,  10,  11,  12,  13,\n",
              "         14,  15,  16,  17,  18,  19,  20,  21,  22,  23,  24,  25,  26,\n",
              "         27,  28,  29,  30,  31,  32,  33,  34,  35,  36,  37,  38,  39,\n",
              "         40,  41,  42,  43,  44,  45,  46,  47,  48,  49,  50,  51,  52,\n",
              "         53,  54,  55,  56,  57,  58,  59,  60,  61,  62,  63,  64,  65,\n",
              "         66,  67,  68,  69,  70,  71,  72,  73,  74,  75,  76,  77,  78,\n",
              "         79,  80,  81,  82,  83,  84,  85,  86,  87,  88,  89,  90,  91,\n",
              "         92,  93,  94,  95,  96,  97,  98,  99, 100]), array([[176.05000305],\n",
              "        [175.55000305],\n",
              "        [176.1000061 ],\n",
              "        [176.8500061 ],\n",
              "        [178.6000061 ],\n",
              "        [183.5       ],\n",
              "        [189.94999695],\n",
              "        [187.19999695],\n",
              "        [191.5       ],\n",
              "        [191.1499939 ],\n",
              "        [189.55000305],\n",
              "        [192.8999939 ],\n",
              "        [188.1000061 ],\n",
              "        [189.3500061 ],\n",
              "        [182.1499939 ],\n",
              "        [185.30000305],\n",
              "        [180.        ],\n",
              "        [186.6000061 ],\n",
              "        [198.5       ],\n",
              "        [192.3999939 ],\n",
              "        [198.94999695],\n",
              "        [191.6499939 ],\n",
              "        [194.1000061 ],\n",
              "        [191.1000061 ],\n",
              "        [184.69999695],\n",
              "        [184.1499939 ],\n",
              "        [185.1000061 ],\n",
              "        [189.75      ],\n",
              "        [189.        ],\n",
              "        [196.1499939 ],\n",
              "        [205.8999939 ],\n",
              "        [207.3500061 ],\n",
              "        [206.25      ],\n",
              "        [201.55000305],\n",
              "        [207.1000061 ],\n",
              "        [203.30000305],\n",
              "        [199.5       ],\n",
              "        [197.1000061 ],\n",
              "        [200.69999695],\n",
              "        [201.19999695],\n",
              "        [201.3999939 ],\n",
              "        [205.5       ],\n",
              "        [206.55000305],\n",
              "        [205.30000305],\n",
              "        [200.8999939 ],\n",
              "        [199.30000305],\n",
              "        [203.69999695],\n",
              "        [199.05000305],\n",
              "        [203.25      ],\n",
              "        [202.1000061 ],\n",
              "        [203.8999939 ],\n",
              "        [209.19999695],\n",
              "        [209.3500061 ],\n",
              "        [201.30000305],\n",
              "        [210.80000305],\n",
              "        [223.8500061 ],\n",
              "        [218.3999939 ],\n",
              "        [216.44999695],\n",
              "        [209.        ],\n",
              "        [229.44999695],\n",
              "        [227.        ],\n",
              "        [225.75      ],\n",
              "        [227.69999695],\n",
              "        [227.3999939 ],\n",
              "        [226.3500061 ],\n",
              "        [225.6000061 ],\n",
              "        [228.94999695],\n",
              "        [233.05000305],\n",
              "        [233.05000305],\n",
              "        [229.55000305],\n",
              "        [230.1000061 ],\n",
              "        [231.80000305],\n",
              "        [230.1000061 ],\n",
              "        [233.05000305],\n",
              "        [244.1499939 ],\n",
              "        [233.69999695],\n",
              "        [239.1000061 ],\n",
              "        [232.3500061 ],\n",
              "        [229.3500061 ],\n",
              "        [229.05000305],\n",
              "        [225.5       ],\n",
              "        [224.        ],\n",
              "        [221.6499939 ],\n",
              "        [223.3500061 ],\n",
              "        [216.1000061 ],\n",
              "        [198.69999695],\n",
              "        [196.80000305],\n",
              "        [195.30000305],\n",
              "        [201.3500061 ],\n",
              "        [202.1000061 ],\n",
              "        [198.69999695],\n",
              "        [193.69999695],\n",
              "        [197.30000305],\n",
              "        [202.8500061 ],\n",
              "        [199.19999695],\n",
              "        [201.19999695],\n",
              "        [197.75      ],\n",
              "        [197.3999939 ],\n",
              "        [196.5       ],\n",
              "        [195.80000305]]))"
            ]
          },
          "metadata": {
            "tags": []
          },
          "execution_count": 58
        }
      ]
    },
    {
      "cell_type": "code",
      "metadata": {
        "id": "ucT6aPkdcu3G",
        "outputId": "09d3d01e-3866-420a-b411-7733de9de23d",
        "colab": {
          "base_uri": "https://localhost:8080/",
          "height": 554
        }
      },
      "source": [
        "#Predictions of 13 october to 23 october.\n",
        "day_pred,scaler.inverse_transform(lst_output)"
      ],
      "execution_count": 59,
      "outputs": [
        {
          "output_type": "execute_result",
          "data": {
            "text/plain": [
              "(array([101, 102, 103, 104, 105, 106, 107, 108, 109, 110, 111, 112, 113,\n",
              "        114, 115, 116, 117, 118, 119, 120, 121, 122, 123, 124, 125, 126,\n",
              "        127, 128, 129, 130]), array([[196.5024266 ],\n",
              "        [195.93120373],\n",
              "        [195.46151669],\n",
              "        [195.02126395],\n",
              "        [194.58650918],\n",
              "        [194.14944429],\n",
              "        [193.70766162],\n",
              "        [193.26052117],\n",
              "        [192.80794369],\n",
              "        [192.34997795],\n",
              "        [191.88670319],\n",
              "        [191.41818035],\n",
              "        [190.94442773],\n",
              "        [190.46543314],\n",
              "        [189.98119048],\n",
              "        [189.49164488],\n",
              "        [188.9967537 ],\n",
              "        [188.49645596],\n",
              "        [187.99068463],\n",
              "        [187.47936656],\n",
              "        [186.96245907],\n",
              "        [186.43988904],\n",
              "        [185.9116016 ],\n",
              "        [185.3775236 ],\n",
              "        [184.83761238],\n",
              "        [184.29181309],\n",
              "        [183.74006476],\n",
              "        [183.18232473],\n",
              "        [182.61854424],\n",
              "        [182.04867453]]))"
            ]
          },
          "metadata": {
            "tags": []
          },
          "execution_count": 59
        }
      ]
    },
    {
      "cell_type": "code",
      "metadata": {
        "id": "dslFl60AehUB",
        "outputId": "5eddf60b-25aa-4a19-e7bc-91cb9c45c84c",
        "colab": {
          "base_uri": "https://localhost:8080/",
          "height": 299
        }
      },
      "source": [
        "plt.plot(day_new,scaler.inverse_transform(scaled_data[1136:]))\n",
        "plt.plot(day_pred,scaler.inverse_transform(lst_output))"
      ],
      "execution_count": 61,
      "outputs": [
        {
          "output_type": "execute_result",
          "data": {
            "text/plain": [
              "[<matplotlib.lines.Line2D at 0x7f1934b34278>]"
            ]
          },
          "metadata": {
            "tags": []
          },
          "execution_count": 61
        },
        {
          "output_type": "display_data",
          "data": {
            "image/png": "[encoded data removed]",
            "text/plain": [
              "<Figure size 432x288 with 1 Axes>"
            ]
          },
          "metadata": {
            "tags": []
          }
        }
      ]
    },
    {
      "cell_type": "code",
      "metadata": {
        "id": "OQLnGiqtjBRS"
      },
      "source": [
        "#Create a new dataframe to predict the next day open price 19th oct.\n",
        "#new_df = df.filter(['Open'])\n",
        "#Get teh last 60 day closing price \n",
        "###last_60_days = new_df[-60:].values\n",
        "#Scale the data to be values between 0 and 1\n",
        "#last_60_days_scaled = scaler.transform(last_60_days)\n",
        "#Create an empty list\n",
        "#X_test = []\n",
        "#Append teh past 60 days\n",
        "#X_test.append(last_60_days_scaled)\n",
        "#Convert the X_test data set to a numpy array\n",
        "#X_test = np.array(X_test)\n",
        "#Reshape the data\n",
        "#X_test = np.reshape(X_test, (X_test.shape[0], X_test.shape[1], 1))\n",
        "#Get the predicted scaled price\n",
        "#pred_price_open = model.predict(X_test)\n",
        "#undo the scaling \n",
        "#pred_price_open = scaler.inverse_transform(pred_price_open)"
      ],
      "execution_count": null,
      "outputs": []
    },
    {
      "cell_type": "code",
      "metadata": {
        "id": "AX2AIH6xjP6m"
      },
      "source": [
        "#getting the Last 60 data to predict the next day ie...8th october with 99% accuracy.\n",
        "#pred_price_open"
      ],
      "execution_count": null,
      "outputs": []
    }
  ]
}