{
  "nbformat": 4,
  "nbformat_minor": 0,
  "metadata": {
    "colab": {
      "name": "Stock_Prediction_LSTM_inox.ipynb",
      "provenance": [],
      "collapsed_sections": []
    },
    "kernelspec": {
      "name": "python3",
      "display_name": "Python 3"
    }
  },
  "cells": [
    {
      "cell_type": "code",
      "metadata": {
        "id": "5IBke2ie86wU"
      },
      "source": [
        "import math\n",
        "import pandas as pd\n",
        "import numpy as np\n",
        "from sklearn.preprocessing import MinMaxScaler\n",
        "from keras.models import Sequential\n",
        "from keras.layers import Dense,LSTM\n",
        "import matplotlib.pyplot as plt\n",
        "plt.style.use('fivethirtyeight')\n",
        "import seaborn as sns\n",
        "import pandas_datareader as dr\n",
        "\n"
      ],
      "execution_count": 1,
      "outputs": []
    },
    {
      "cell_type": "code",
      "metadata": {
        "id": "1JpVhWJL-7Y9"
      },
      "source": [
        "df=dr.data.get_data_yahoo('INOXLEISUR.NS',start='2015-10-6',end='2020-10-11')\n"
      ],
      "execution_count": 2,
      "outputs": []
    },
    {
      "cell_type": "code",
      "metadata": {
        "id": "weAVldoi_GN8",
        "outputId": "61affb6a-e6cf-453c-d122-6e67a1b86003",
        "colab": {
          "base_uri": "https://localhost:8080/",
          "height": 431
        }
      },
      "source": [
        "df"
      ],
      "execution_count": 3,
      "outputs": [
        {
          "output_type": "execute_result",
          "data": {
            "text/html": [
              "<div>\n",
              "<style scoped>\n",
              "    .dataframe tbody tr th:only-of-type {\n",
              "        vertical-align: middle;\n",
              "    }\n",
              "\n",
              "    .dataframe tbody tr th {\n",
              "        vertical-align: top;\n",
              "    }\n",
              "\n",
              "    .dataframe thead th {\n",
              "        text-align: right;\n",
              "    }\n",
              "</style>\n",
              "<table border=\"1\" class=\"dataframe\">\n",
              "  <thead>\n",
              "    <tr style=\"text-align: right;\">\n",
              "      <th></th>\n",
              "      <th>High</th>\n",
              "      <th>Low</th>\n",
              "      <th>Open</th>\n",
              "      <th>Close</th>\n",
              "      <th>Volume</th>\n",
              "      <th>Adj Close</th>\n",
              "    </tr>\n",
              "    <tr>\n",
              "      <th>Date</th>\n",
              "      <th></th>\n",
              "      <th></th>\n",
              "      <th></th>\n",
              "      <th></th>\n",
              "      <th></th>\n",
              "      <th></th>\n",
              "    </tr>\n",
              "  </thead>\n",
              "  <tbody>\n",
              "    <tr>\n",
              "      <th>2015-10-06</th>\n",
              "      <td>251.750000</td>\n",
              "      <td>235.000000</td>\n",
              "      <td>239.500000</td>\n",
              "      <td>247.300003</td>\n",
              "      <td>691478.0</td>\n",
              "      <td>246.653717</td>\n",
              "    </tr>\n",
              "    <tr>\n",
              "      <th>2015-10-07</th>\n",
              "      <td>249.899994</td>\n",
              "      <td>241.199997</td>\n",
              "      <td>248.250000</td>\n",
              "      <td>244.350006</td>\n",
              "      <td>163062.0</td>\n",
              "      <td>243.711426</td>\n",
              "    </tr>\n",
              "    <tr>\n",
              "      <th>2015-10-08</th>\n",
              "      <td>246.000000</td>\n",
              "      <td>238.000000</td>\n",
              "      <td>246.000000</td>\n",
              "      <td>244.550003</td>\n",
              "      <td>97633.0</td>\n",
              "      <td>243.910904</td>\n",
              "    </tr>\n",
              "    <tr>\n",
              "      <th>2015-10-09</th>\n",
              "      <td>248.800003</td>\n",
              "      <td>243.000000</td>\n",
              "      <td>247.100006</td>\n",
              "      <td>244.350006</td>\n",
              "      <td>80928.0</td>\n",
              "      <td>243.711426</td>\n",
              "    </tr>\n",
              "    <tr>\n",
              "      <th>2015-10-12</th>\n",
              "      <td>257.000000</td>\n",
              "      <td>245.050003</td>\n",
              "      <td>245.050003</td>\n",
              "      <td>251.649994</td>\n",
              "      <td>388593.0</td>\n",
              "      <td>250.992340</td>\n",
              "    </tr>\n",
              "    <tr>\n",
              "      <th>...</th>\n",
              "      <td>...</td>\n",
              "      <td>...</td>\n",
              "      <td>...</td>\n",
              "      <td>...</td>\n",
              "      <td>...</td>\n",
              "      <td>...</td>\n",
              "    </tr>\n",
              "    <tr>\n",
              "      <th>2020-10-06</th>\n",
              "      <td>290.799988</td>\n",
              "      <td>281.549988</td>\n",
              "      <td>290.799988</td>\n",
              "      <td>282.850006</td>\n",
              "      <td>445133.0</td>\n",
              "      <td>282.850006</td>\n",
              "    </tr>\n",
              "    <tr>\n",
              "      <th>2020-10-07</th>\n",
              "      <td>285.450012</td>\n",
              "      <td>278.299988</td>\n",
              "      <td>285.450012</td>\n",
              "      <td>281.450012</td>\n",
              "      <td>400273.0</td>\n",
              "      <td>281.450012</td>\n",
              "    </tr>\n",
              "    <tr>\n",
              "      <th>2020-10-08</th>\n",
              "      <td>287.000000</td>\n",
              "      <td>278.649994</td>\n",
              "      <td>285.000000</td>\n",
              "      <td>281.450012</td>\n",
              "      <td>513714.0</td>\n",
              "      <td>281.450012</td>\n",
              "    </tr>\n",
              "    <tr>\n",
              "      <th>2020-10-09</th>\n",
              "      <td>286.500000</td>\n",
              "      <td>281.000000</td>\n",
              "      <td>283.450012</td>\n",
              "      <td>284.149994</td>\n",
              "      <td>674598.0</td>\n",
              "      <td>284.149994</td>\n",
              "    </tr>\n",
              "    <tr>\n",
              "      <th>2020-10-12</th>\n",
              "      <td>286.600006</td>\n",
              "      <td>277.000000</td>\n",
              "      <td>285.899994</td>\n",
              "      <td>279.350006</td>\n",
              "      <td>370842.0</td>\n",
              "      <td>279.350006</td>\n",
              "    </tr>\n",
              "  </tbody>\n",
              "</table>\n",
              "<p>1235 rows × 6 columns</p>\n",
              "</div>"
            ],
            "text/plain": [
              "                  High         Low  ...    Volume   Adj Close\n",
              "Date                                ...                      \n",
              "2015-10-06  251.750000  235.000000  ...  691478.0  246.653717\n",
              "2015-10-07  249.899994  241.199997  ...  163062.0  243.711426\n",
              "2015-10-08  246.000000  238.000000  ...   97633.0  243.910904\n",
              "2015-10-09  248.800003  243.000000  ...   80928.0  243.711426\n",
              "2015-10-12  257.000000  245.050003  ...  388593.0  250.992340\n",
              "...                ...         ...  ...       ...         ...\n",
              "2020-10-06  290.799988  281.549988  ...  445133.0  282.850006\n",
              "2020-10-07  285.450012  278.299988  ...  400273.0  281.450012\n",
              "2020-10-08  287.000000  278.649994  ...  513714.0  281.450012\n",
              "2020-10-09  286.500000  281.000000  ...  674598.0  284.149994\n",
              "2020-10-12  286.600006  277.000000  ...  370842.0  279.350006\n",
              "\n",
              "[1235 rows x 6 columns]"
            ]
          },
          "metadata": {
            "tags": []
          },
          "execution_count": 3
        }
      ]
    },
    {
      "cell_type": "code",
      "metadata": {
        "id": "caItNRPx_hAH",
        "outputId": "ba8522be-035c-4f77-fc83-870f971dd4b1",
        "colab": {
          "base_uri": "https://localhost:8080/",
          "height": 518
        }
      },
      "source": [
        "#visuliazing the close price \n",
        "plt.figure(figsize=(16,8))\n",
        "plt.title('Close Price History')\n",
        "plt.plot(df['Close'])\n",
        "plt.xlabel('Date',fontsize=18)\n",
        "plt.ylabel('Close Price',fontsize=18)\n",
        "plt.show()"
      ],
      "execution_count": 4,
      "outputs": [
        {
          "output_type": "display_data",
          "data": {
            "image/png": "[encoded data removed]",
            "text/plain": [
              "<Figure size 1152x576 with 1 Axes>"
            ]
          },
          "metadata": {
            "tags": [],
            "needs_background": "light"
          }
        }
      ]
    },
    {
      "cell_type": "code",
      "metadata": {
        "id": "FCgSxftXAxuA",
        "outputId": "293532da-c577-4d68-b47c-4c6d312740f0",
        "colab": {
          "base_uri": "https://localhost:8080/",
          "height": 34
        }
      },
      "source": [
        "#new dataframe\n",
        "data=df.filter(['Close'])\n",
        "#coverting to numpy\n",
        "dataset=data.values\n",
        "training_data_len=math.ceil(len(dataset)*.8)\n",
        "training_data_len"
      ],
      "execution_count": 5,
      "outputs": [
        {
          "output_type": "execute_result",
          "data": {
            "text/plain": [
              "988"
            ]
          },
          "metadata": {
            "tags": []
          },
          "execution_count": 5
        }
      ]
    },
    {
      "cell_type": "code",
      "metadata": {
        "id": "jHaNY0VhBSHn",
        "outputId": "43dd9a43-9e48-4119-dd27-a8e3753d13c9",
        "colab": {
          "base_uri": "https://localhost:8080/",
          "height": 134
        }
      },
      "source": [
        "#scaling the datas\n",
        "scaler=MinMaxScaler(feature_range=(0,1))\n",
        "scaled_data=scaler.fit_transform(dataset)\n",
        "scaled_data"
      ],
      "execution_count": 6,
      "outputs": [
        {
          "output_type": "execute_result",
          "data": {
            "text/plain": [
              "array([[0.24901489],\n",
              "       [0.24007279],\n",
              "       [0.24067903],\n",
              "       ...,\n",
              "       [0.35253113],\n",
              "       [0.36071537],\n",
              "       [0.34616555]])"
            ]
          },
          "metadata": {
            "tags": []
          },
          "execution_count": 6
        }
      ]
    },
    {
      "cell_type": "code",
      "metadata": {
        "id": "rASzqFhGBp3B",
        "outputId": "57108bc3-fe65-41f4-c719-c9cd80942b79",
        "colab": {
          "base_uri": "https://localhost:8080/",
          "height": 252
        }
      },
      "source": [
        "#creating the dataset\n",
        "train_data=scaled_data[0:training_data_len,:]\n",
        "#split\n",
        "x_train=[]\n",
        "y_train=[]\n",
        "for i in range(60,len(train_data)):\n",
        "  x_train.append(train_data[i-60:i,0])\n",
        "  y_train.append(train_data[i,0])\n",
        "  if i<=60:\n",
        "    print(x_train)\n",
        "    print(y_train)\n",
        "    print()"
      ],
      "execution_count": 7,
      "outputs": [
        {
          "output_type": "stream",
          "text": [
            "[array([0.24901489, 0.24007279, 0.24067903, 0.24007279, 0.26220067,\n",
            "       0.25689603, 0.26902092, 0.27432556, 0.27235528, 0.27902401,\n",
            "       0.29524097, 0.31691428, 0.23673843, 0.23325254, 0.23658686,\n",
            "       0.22643229, 0.20688088, 0.19217948, 0.18020616, 0.19096696,\n",
            "       0.19869659, 0.19960596, 0.19960596, 0.19399818, 0.18278267,\n",
            "       0.17747804, 0.18020616, 0.17959988, 0.1721734 , 0.17672023,\n",
            "       0.19020916, 0.20081843, 0.20642621, 0.21097304, 0.22461354,\n",
            "       0.24507429, 0.24931798, 0.25068207, 0.24295244, 0.24946955,\n",
            "       0.25447109, 0.22991818, 0.21203399, 0.22840257, 0.21718706,\n",
            "       0.20869963, 0.19960596, 0.21370113, 0.23916342, 0.23734466,\n",
            "       0.2559867 , 0.24401334, 0.24765084, 0.23810247, 0.23689   ,\n",
            "       0.22612915, 0.2224917 , 0.2232495 , 0.22506821, 0.21445893])]\n",
            "[0.2165808230643701]\n",
            "\n"
          ],
          "name": "stdout"
        }
      ]
    },
    {
      "cell_type": "code",
      "metadata": {
        "id": "W0bpxQUiCzNQ"
      },
      "source": [
        "#converting to numpy\n",
        "x_train,y_train=np.array(x_train),np.array(y_train)"
      ],
      "execution_count": 8,
      "outputs": []
    },
    {
      "cell_type": "code",
      "metadata": {
        "id": "A_8ZiuIEDANW",
        "outputId": "cc9817dd-085e-47ae-f08e-6984a2d25a04",
        "colab": {
          "base_uri": "https://localhost:8080/",
          "height": 34
        }
      },
      "source": [
        "#reshaping the data\n",
        "x_train=np.reshape(x_train,(x_train.shape[0],x_train.shape[1],1))\n",
        "x_train.shape\n"
      ],
      "execution_count": 9,
      "outputs": [
        {
          "output_type": "execute_result",
          "data": {
            "text/plain": [
              "(928, 60, 1)"
            ]
          },
          "metadata": {
            "tags": []
          },
          "execution_count": 9
        }
      ]
    },
    {
      "cell_type": "code",
      "metadata": {
        "id": "rSp-YKc9DdYZ"
      },
      "source": [
        "#LSTM Model\n",
        "model=Sequential()\n",
        "model.add(LSTM(50,return_sequences=True,input_shape=(x_train.shape[1],1)))\n",
        "model.add(LSTM(50,return_sequences=False))\n",
        "model.add(Dense(25))\n",
        "model.add(Dense(1))\n",
        "\n"
      ],
      "execution_count": 10,
      "outputs": []
    },
    {
      "cell_type": "code",
      "metadata": {
        "id": "15HSgrDwENWm"
      },
      "source": [
        "#Compile the model\n",
        "model.compile(optimizer='adam',loss='mean_squared_error')"
      ],
      "execution_count": 11,
      "outputs": []
    },
    {
      "cell_type": "code",
      "metadata": {
        "id": "wmEg73VNEdHP",
        "outputId": "baf79065-21e3-4e42-9482-4fe5fa4d24e6",
        "colab": {
          "base_uri": "https://localhost:8080/",
          "height": 134
        }
      },
      "source": [
        "model.fit(x_train,y_train,batch_size=1,epochs=3)"
      ],
      "execution_count": 12,
      "outputs": [
        {
          "output_type": "stream",
          "text": [
            "Epoch 1/3\n",
            "928/928 [==============================] - 20s 22ms/step - loss: 0.0025\n",
            "Epoch 2/3\n",
            "928/928 [==============================] - 20s 21ms/step - loss: 0.0011\n",
            "Epoch 3/3\n",
            "928/928 [==============================] - 20s 21ms/step - loss: 6.9975e-04\n"
          ],
          "name": "stdout"
        },
        {
          "output_type": "execute_result",
          "data": {
            "text/plain": [
              "<tensorflow.python.keras.callbacks.History at 0x7f8cd4e8ff28>"
            ]
          },
          "metadata": {
            "tags": []
          },
          "execution_count": 12
        }
      ]
    },
    {
      "cell_type": "code",
      "metadata": {
        "id": "r3Y2o__aEp5N"
      },
      "source": [
        "#creating rhe testing data\n",
        "test_data=scaled_data[training_data_len-60:,:]\n",
        "x_test=[]\n",
        "y_test=dataset[training_data_len:,:]\n",
        "for i in range(60,len(test_data)):\n",
        "  x_test.append(test_data[i-60:i,0])"
      ],
      "execution_count": 13,
      "outputs": []
    },
    {
      "cell_type": "code",
      "metadata": {
        "id": "oo836ft6E1wn"
      },
      "source": [
        "#numpy to array\n",
        "x_test=np.array(x_test)"
      ],
      "execution_count": 14,
      "outputs": []
    },
    {
      "cell_type": "code",
      "metadata": {
        "id": "zT6c_SQeFkkt"
      },
      "source": [
        "x_test=np.reshape(x_test,(x_test.shape[0],x_test.shape[1],1))"
      ],
      "execution_count": 15,
      "outputs": []
    },
    {
      "cell_type": "code",
      "metadata": {
        "id": "1AQuDto9Fw64"
      },
      "source": [
        "#get the models prediction\n",
        "predictions=model.predict(x_test)\n",
        "predictions=scaler.inverse_transform(predictions)\n"
      ],
      "execution_count": 16,
      "outputs": []
    },
    {
      "cell_type": "code",
      "metadata": {
        "id": "4z3qOKS7GI-R",
        "outputId": "f3cf6832-d6b1-4998-867b-badc035e5da7",
        "colab": {
          "base_uri": "https://localhost:8080/",
          "height": 34
        }
      },
      "source": [
        "#RMSE\n",
        "rmse=np.sqrt(np.mean(((predictions- y_test)**2)))\n",
        "rmse\n"
      ],
      "execution_count": 17,
      "outputs": [
        {
          "output_type": "execute_result",
          "data": {
            "text/plain": [
              "13.046433992314991"
            ]
          },
          "metadata": {
            "tags": []
          },
          "execution_count": 17
        }
      ]
    },
    {
      "cell_type": "code",
      "metadata": {
        "id": "SurOJaraHc4T",
        "outputId": "ba6ad0bf-431b-41c3-bc02-9ad838132900",
        "colab": {
          "base_uri": "https://localhost:8080/",
          "height": 619
        }
      },
      "source": [
        "#Plot/Create the data for the graph\n",
        "train = data[:training_data_len]\n",
        "valid = data[training_data_len:]\n",
        "valid['Predictions'] = predictions\n",
        "#Visualize the data\n",
        "plt.figure(figsize=(16,8))\n",
        "plt.title('Model')\n",
        "plt.xlabel('Date', fontsize=18)\n",
        "plt.ylabel('Close Price', fontsize=18)\n",
        "plt.plot(train['Close'])\n",
        "plt.plot(valid[['Close', 'Predictions']])\n",
        "plt.legend(['Train', 'Val', 'Predictions'], loc='lower right')\n",
        "plt.show()"
      ],
      "execution_count": 18,
      "outputs": [
        {
          "output_type": "stream",
          "text": [
            "/usr/local/lib/python3.6/dist-packages/ipykernel_launcher.py:4: SettingWithCopyWarning: \n",
            "A value is trying to be set on a copy of a slice from a DataFrame.\n",
            "Try using .loc[row_indexer,col_indexer] = value instead\n",
            "\n",
            "See the caveats in the documentation: https://pandas.pydata.org/pandas-docs/stable/user_guide/indexing.html#returning-a-view-versus-a-copy\n",
            "  after removing the cwd from sys.path.\n"
          ],
          "name": "stderr"
        },
        {
          "output_type": "display_data",
          "data": {
            "image/png": "[encoded data removed]",
            "text/plain": [
              "<Figure size 1152x576 with 1 Axes>"
            ]
          },
          "metadata": {
            "tags": [],
            "needs_background": "light"
          }
        }
      ]
    },
    {
      "cell_type": "code",
      "metadata": {
        "id": "TTvvGYsHHwRI",
        "outputId": "5fc5cc2a-c59e-44b3-94cf-fe42b252cfa4",
        "colab": {
          "base_uri": "https://localhost:8080/",
          "height": 431
        }
      },
      "source": [
        "valid"
      ],
      "execution_count": 19,
      "outputs": [
        {
          "output_type": "execute_result",
          "data": {
            "text/html": [
              "<div>\n",
              "<style scoped>\n",
              "    .dataframe tbody tr th:only-of-type {\n",
              "        vertical-align: middle;\n",
              "    }\n",
              "\n",
              "    .dataframe tbody tr th {\n",
              "        vertical-align: top;\n",
              "    }\n",
              "\n",
              "    .dataframe thead th {\n",
              "        text-align: right;\n",
              "    }\n",
              "</style>\n",
              "<table border=\"1\" class=\"dataframe\">\n",
              "  <thead>\n",
              "    <tr style=\"text-align: right;\">\n",
              "      <th></th>\n",
              "      <th>Close</th>\n",
              "      <th>Predictions</th>\n",
              "    </tr>\n",
              "    <tr>\n",
              "      <th>Date</th>\n",
              "      <th></th>\n",
              "      <th></th>\n",
              "    </tr>\n",
              "  </thead>\n",
              "  <tbody>\n",
              "    <tr>\n",
              "      <th>2019-10-15</th>\n",
              "      <td>333.600006</td>\n",
              "      <td>330.160889</td>\n",
              "    </tr>\n",
              "    <tr>\n",
              "      <th>2019-10-16</th>\n",
              "      <td>328.700012</td>\n",
              "      <td>330.677856</td>\n",
              "    </tr>\n",
              "    <tr>\n",
              "      <th>2019-10-17</th>\n",
              "      <td>339.500000</td>\n",
              "      <td>327.939911</td>\n",
              "    </tr>\n",
              "    <tr>\n",
              "      <th>2019-10-18</th>\n",
              "      <td>351.850006</td>\n",
              "      <td>331.759460</td>\n",
              "    </tr>\n",
              "    <tr>\n",
              "      <th>2019-10-22</th>\n",
              "      <td>356.250000</td>\n",
              "      <td>341.282104</td>\n",
              "    </tr>\n",
              "    <tr>\n",
              "      <th>...</th>\n",
              "      <td>...</td>\n",
              "      <td>...</td>\n",
              "    </tr>\n",
              "    <tr>\n",
              "      <th>2020-10-06</th>\n",
              "      <td>282.850006</td>\n",
              "      <td>281.960510</td>\n",
              "    </tr>\n",
              "    <tr>\n",
              "      <th>2020-10-07</th>\n",
              "      <td>281.450012</td>\n",
              "      <td>281.568542</td>\n",
              "    </tr>\n",
              "    <tr>\n",
              "      <th>2020-10-08</th>\n",
              "      <td>281.450012</td>\n",
              "      <td>279.234070</td>\n",
              "    </tr>\n",
              "    <tr>\n",
              "      <th>2020-10-09</th>\n",
              "      <td>284.149994</td>\n",
              "      <td>277.596375</td>\n",
              "    </tr>\n",
              "    <tr>\n",
              "      <th>2020-10-12</th>\n",
              "      <td>279.350006</td>\n",
              "      <td>278.264740</td>\n",
              "    </tr>\n",
              "  </tbody>\n",
              "</table>\n",
              "<p>247 rows × 2 columns</p>\n",
              "</div>"
            ],
            "text/plain": [
              "                 Close  Predictions\n",
              "Date                               \n",
              "2019-10-15  333.600006   330.160889\n",
              "2019-10-16  328.700012   330.677856\n",
              "2019-10-17  339.500000   327.939911\n",
              "2019-10-18  351.850006   331.759460\n",
              "2019-10-22  356.250000   341.282104\n",
              "...                ...          ...\n",
              "2020-10-06  282.850006   281.960510\n",
              "2020-10-07  281.450012   281.568542\n",
              "2020-10-08  281.450012   279.234070\n",
              "2020-10-09  284.149994   277.596375\n",
              "2020-10-12  279.350006   278.264740\n",
              "\n",
              "[247 rows x 2 columns]"
            ]
          },
          "metadata": {
            "tags": []
          },
          "execution_count": 19
        }
      ]
    },
    {
      "cell_type": "code",
      "metadata": {
        "id": "M_m9uh72b9-i",
        "outputId": "1cc6a78f-4437-4cf9-be36-cd7a93528c1b",
        "colab": {
          "base_uri": "https://localhost:8080/",
          "height": 34
        }
      },
      "source": [
        "len(test_data)"
      ],
      "execution_count": 20,
      "outputs": [
        {
          "output_type": "execute_result",
          "data": {
            "text/plain": [
              "307"
            ]
          },
          "metadata": {
            "tags": []
          },
          "execution_count": 20
        }
      ]
    },
    {
      "cell_type": "code",
      "metadata": {
        "id": "KfHL2xJ7cM8S",
        "outputId": "7ea9a70d-4d22-4eb0-aa16-83782c3a5937",
        "colab": {
          "base_uri": "https://localhost:8080/",
          "height": 34
        }
      },
      "source": [
        "x_input=test_data[207:].reshape(1,-1)\n",
        "x_input.shape\n"
      ],
      "execution_count": 21,
      "outputs": [
        {
          "output_type": "execute_result",
          "data": {
            "text/plain": [
              "(1, 100)"
            ]
          },
          "metadata": {
            "tags": []
          },
          "execution_count": 21
        }
      ]
    },
    {
      "cell_type": "code",
      "metadata": {
        "id": "m6yVGqWRcS_f"
      },
      "source": [
        "temp_input=list(x_input)\n",
        "temp_input=temp_input[0].tolist()"
      ],
      "execution_count": 22,
      "outputs": []
    },
    {
      "cell_type": "code",
      "metadata": {
        "id": "2cxsfpkLcWDy",
        "outputId": "6c1b54a4-7f8e-47fb-f93a-5779db7c1e6c",
        "colab": {
          "base_uri": "https://localhost:8080/",
          "height": 1000
        }
      },
      "source": [
        "temp_input"
      ],
      "execution_count": 23,
      "outputs": [
        {
          "output_type": "execute_result",
          "data": {
            "text/plain": [
              "[0.13973933603036326,\n",
              " 0.12488636850341661,\n",
              " 0.12018796571337542,\n",
              " 0.13337375208865954,\n",
              " 0.12200667094473971,\n",
              " 0.16868751192743348,\n",
              " 0.17232496864293345,\n",
              " 0.20430436617838232,\n",
              " 0.31585333172127006,\n",
              " 0.3732949262652191,\n",
              " 0.35783576991392263,\n",
              " 0.2705365312252923,\n",
              " 0.21779329321861285,\n",
              " 0.25174296631789916,\n",
              " 0.24249773107029005,\n",
              " 0.23325254207545254,\n",
              " 0.21673234714407175,\n",
              " 0.2118824202743289,\n",
              " 0.22067294452451824,\n",
              " 0.23219159600091133,\n",
              " 0.24749927452527776,\n",
              " 0.27963019614042817,\n",
              " 0.26568660435554947,\n",
              " 0.2562897987754671,\n",
              " 0.24143683124852044,\n",
              " 0.22218855534370752,\n",
              " 0.1861170363481105,\n",
              " 0.1958169363403678,\n",
              " 0.20915429304812516,\n",
              " 0.20521374192045017,\n",
              " 0.20430436617838232,\n",
              " 0.21915733370532897,\n",
              " 0.2208245148569915,\n",
              " 0.2079418228938823,\n",
              " 0.2065777824071663,\n",
              " 0.19036072814073202,\n",
              " 0.17550776061378537,\n",
              " 0.1789936469968122,\n",
              " 0.17975145240640678,\n",
              " 0.18308581470973195,\n",
              " 0.1882388822444213,\n",
              " 0.20521374192045017,\n",
              " 0.2179448635510861,\n",
              " 0.2334040661551542,\n",
              " 0.2265838174688023,\n",
              " 0.2684146853289816,\n",
              " 0.2749318396031586,\n",
              " 0.2741740341935639,\n",
              " 0.2215823202665862,\n",
              " 0.1979387822366786,\n",
              " 0.19369509044405708,\n",
              " 0.216883917476545,\n",
              " 0.21051837978761279,\n",
              " 0.2108214741997877,\n",
              " 0.20536526600015192,\n",
              " 0.196877882414909,\n",
              " 0.21354960142599144,\n",
              " 0.260836631233035,\n",
              " 0.28584425600243024,\n",
              " 0.2784177259861854,\n",
              " 0.2788723907308336,\n",
              " 0.29478630433232134,\n",
              " 0.35344046153605635,\n",
              " 0.4366475325117669,\n",
              " 0.41967267283573795,\n",
              " 0.40966958592576264,\n",
              " 0.382994872510248,\n",
              " 0.3854198128187336,\n",
              " 0.39208853742538385,\n",
              " 0.421339807734629,\n",
              " 0.35919976414786714,\n",
              " 0.38026679153681586,\n",
              " 0.37678090515378904,\n",
              " 0.39890878611173575,\n",
              " 0.3782965159729784,\n",
              " 0.37132465070138165,\n",
              " 0.35783576991392263,\n",
              " 0.35995756955746183,\n",
              " 0.38178240235600513,\n",
              " 0.37556834249400306,\n",
              " 0.38784484563276245,\n",
              " 0.3851167646593303,\n",
              " 0.3898151211965999,\n",
              " 0.3911792079360875,\n",
              " 0.3664746775788672,\n",
              " 0.33585941303567757,\n",
              " 0.31842988861500054,\n",
              " 0.3064565261411877,\n",
              " 0.2559867043632922,\n",
              " 0.271294336634887,\n",
              " 0.31827827202975567,\n",
              " 0.30857841829027,\n",
              " 0.3193392181042969,\n",
              " 0.36920285105784245,\n",
              " 0.3722340726962211,\n",
              " 0.3567748238393815,\n",
              " 0.35253113204676,\n",
              " 0.35253113204676,\n",
              " 0.3607153749670564,\n",
              " 0.3461655481050563]"
            ]
          },
          "metadata": {
            "tags": []
          },
          "execution_count": 23
        }
      ]
    },
    {
      "cell_type": "code",
      "metadata": {
        "id": "yD4PBnCScWC2",
        "outputId": "ade68661-37c6-47f8-9854-dbf78d46fc0c",
        "colab": {
          "base_uri": "https://localhost:8080/",
          "height": 1000
        }
      },
      "source": [
        "#predicting the next 10 days\n",
        "from numpy import array\n",
        "\n",
        "lst_output=[]\n",
        "n_steps=100\n",
        "i=0\n",
        "while(i<30):\n",
        "    \n",
        "    if(len(temp_input)>100):\n",
        "        #print(temp_input)\n",
        "        x_input=np.array(temp_input[1:])\n",
        "        print(\"{} day input {}\".format(i,x_input))\n",
        "        x_input=x_input.reshape(1,-1)\n",
        "        x_input = x_input.reshape((1, n_steps, 1))\n",
        "        #print(x_input)\n",
        "        yhat = model.predict(x_input, verbose=0)\n",
        "        print(\"{} day output {}\".format(i,yhat))\n",
        "        temp_input.extend(yhat[0].tolist())\n",
        "        temp_input=temp_input[1:]\n",
        "        #print(temp_input)\n",
        "        lst_output.extend(yhat.tolist())\n",
        "        i=i+1\n",
        "    else:\n",
        "        x_input = x_input.reshape((1, n_steps,1))\n",
        "        yhat = model.predict(x_input, verbose=0)\n",
        "        print(yhat[0])\n",
        "        temp_input.extend(yhat[0].tolist())\n",
        "        print(len(temp_input))\n",
        "        lst_output.extend(yhat.tolist())\n",
        "        i=i+1\n",
        "    \n",
        "\n",
        "print(lst_output)"
      ],
      "execution_count": 24,
      "outputs": [
        {
          "output_type": "stream",
          "text": [
            "WARNING:tensorflow:Model was constructed with shape (None, 60, 1) for input Tensor(\"lstm_input:0\", shape=(None, 60, 1), dtype=float32), but it was called on an input with incompatible shape (None, 100, 1).\n",
            "[0.33854905]\n",
            "101\n",
            "1 day input [0.12488637 0.12018797 0.13337375 0.12200667 0.16868751 0.17232497\n",
            " 0.20430437 0.31585333 0.37329493 0.35783577 0.27053653 0.21779329\n",
            " 0.25174297 0.24249773 0.23325254 0.21673235 0.21188242 0.22067294\n",
            " 0.2321916  0.24749927 0.2796302  0.2656866  0.2562898  0.24143683\n",
            " 0.22218856 0.18611704 0.19581694 0.20915429 0.20521374 0.20430437\n",
            " 0.21915733 0.22082451 0.20794182 0.20657778 0.19036073 0.17550776\n",
            " 0.17899365 0.17975145 0.18308581 0.18823888 0.20521374 0.21794486\n",
            " 0.23340407 0.22658382 0.26841469 0.27493184 0.27417403 0.22158232\n",
            " 0.19793878 0.19369509 0.21688392 0.21051838 0.21082147 0.20536527\n",
            " 0.19687788 0.2135496  0.26083663 0.28584426 0.27841773 0.27887239\n",
            " 0.2947863  0.35344046 0.43664753 0.41967267 0.40966959 0.38299487\n",
            " 0.38541981 0.39208854 0.42133981 0.35919976 0.38026679 0.37678091\n",
            " 0.39890879 0.37829652 0.37132465 0.35783577 0.35995757 0.3817824\n",
            " 0.37556834 0.38784485 0.38511676 0.38981512 0.39117921 0.36647468\n",
            " 0.33585941 0.31842989 0.30645653 0.2559867  0.27129434 0.31827827\n",
            " 0.30857842 0.31933922 0.36920285 0.37223407 0.35677482 0.35253113\n",
            " 0.35253113 0.36071537 0.34616555 0.33854905]\n",
            "1 day output [[0.3319598]]\n",
            "2 day input [0.12018797 0.13337375 0.12200667 0.16868751 0.17232497 0.20430437\n",
            " 0.31585333 0.37329493 0.35783577 0.27053653 0.21779329 0.25174297\n",
            " 0.24249773 0.23325254 0.21673235 0.21188242 0.22067294 0.2321916\n",
            " 0.24749927 0.2796302  0.2656866  0.2562898  0.24143683 0.22218856\n",
            " 0.18611704 0.19581694 0.20915429 0.20521374 0.20430437 0.21915733\n",
            " 0.22082451 0.20794182 0.20657778 0.19036073 0.17550776 0.17899365\n",
            " 0.17975145 0.18308581 0.18823888 0.20521374 0.21794486 0.23340407\n",
            " 0.22658382 0.26841469 0.27493184 0.27417403 0.22158232 0.19793878\n",
            " 0.19369509 0.21688392 0.21051838 0.21082147 0.20536527 0.19687788\n",
            " 0.2135496  0.26083663 0.28584426 0.27841773 0.27887239 0.2947863\n",
            " 0.35344046 0.43664753 0.41967267 0.40966959 0.38299487 0.38541981\n",
            " 0.39208854 0.42133981 0.35919976 0.38026679 0.37678091 0.39890879\n",
            " 0.37829652 0.37132465 0.35783577 0.35995757 0.3817824  0.37556834\n",
            " 0.38784485 0.38511676 0.38981512 0.39117921 0.36647468 0.33585941\n",
            " 0.31842989 0.30645653 0.2559867  0.27129434 0.31827827 0.30857842\n",
            " 0.31933922 0.36920285 0.37223407 0.35677482 0.35253113 0.35253113\n",
            " 0.36071537 0.34616555 0.33854905 0.33195981]\n",
            "2 day output [[0.32546076]]\n",
            "3 day input [0.13337375 0.12200667 0.16868751 0.17232497 0.20430437 0.31585333\n",
            " 0.37329493 0.35783577 0.27053653 0.21779329 0.25174297 0.24249773\n",
            " 0.23325254 0.21673235 0.21188242 0.22067294 0.2321916  0.24749927\n",
            " 0.2796302  0.2656866  0.2562898  0.24143683 0.22218856 0.18611704\n",
            " 0.19581694 0.20915429 0.20521374 0.20430437 0.21915733 0.22082451\n",
            " 0.20794182 0.20657778 0.19036073 0.17550776 0.17899365 0.17975145\n",
            " 0.18308581 0.18823888 0.20521374 0.21794486 0.23340407 0.22658382\n",
            " 0.26841469 0.27493184 0.27417403 0.22158232 0.19793878 0.19369509\n",
            " 0.21688392 0.21051838 0.21082147 0.20536527 0.19687788 0.2135496\n",
            " 0.26083663 0.28584426 0.27841773 0.27887239 0.2947863  0.35344046\n",
            " 0.43664753 0.41967267 0.40966959 0.38299487 0.38541981 0.39208854\n",
            " 0.42133981 0.35919976 0.38026679 0.37678091 0.39890879 0.37829652\n",
            " 0.37132465 0.35783577 0.35995757 0.3817824  0.37556834 0.38784485\n",
            " 0.38511676 0.38981512 0.39117921 0.36647468 0.33585941 0.31842989\n",
            " 0.30645653 0.2559867  0.27129434 0.31827827 0.30857842 0.31933922\n",
            " 0.36920285 0.37223407 0.35677482 0.35253113 0.35253113 0.36071537\n",
            " 0.34616555 0.33854905 0.33195981 0.32546076]\n",
            "3 day output [[0.31948423]]\n",
            "4 day input [0.12200667 0.16868751 0.17232497 0.20430437 0.31585333 0.37329493\n",
            " 0.35783577 0.27053653 0.21779329 0.25174297 0.24249773 0.23325254\n",
            " 0.21673235 0.21188242 0.22067294 0.2321916  0.24749927 0.2796302\n",
            " 0.2656866  0.2562898  0.24143683 0.22218856 0.18611704 0.19581694\n",
            " 0.20915429 0.20521374 0.20430437 0.21915733 0.22082451 0.20794182\n",
            " 0.20657778 0.19036073 0.17550776 0.17899365 0.17975145 0.18308581\n",
            " 0.18823888 0.20521374 0.21794486 0.23340407 0.22658382 0.26841469\n",
            " 0.27493184 0.27417403 0.22158232 0.19793878 0.19369509 0.21688392\n",
            " 0.21051838 0.21082147 0.20536527 0.19687788 0.2135496  0.26083663\n",
            " 0.28584426 0.27841773 0.27887239 0.2947863  0.35344046 0.43664753\n",
            " 0.41967267 0.40966959 0.38299487 0.38541981 0.39208854 0.42133981\n",
            " 0.35919976 0.38026679 0.37678091 0.39890879 0.37829652 0.37132465\n",
            " 0.35783577 0.35995757 0.3817824  0.37556834 0.38784485 0.38511676\n",
            " 0.38981512 0.39117921 0.36647468 0.33585941 0.31842989 0.30645653\n",
            " 0.2559867  0.27129434 0.31827827 0.30857842 0.31933922 0.36920285\n",
            " 0.37223407 0.35677482 0.35253113 0.35253113 0.36071537 0.34616555\n",
            " 0.33854905 0.33195981 0.32546076 0.31948423]\n",
            "4 day output [[0.31405064]]\n",
            "5 day input [0.16868751 0.17232497 0.20430437 0.31585333 0.37329493 0.35783577\n",
            " 0.27053653 0.21779329 0.25174297 0.24249773 0.23325254 0.21673235\n",
            " 0.21188242 0.22067294 0.2321916  0.24749927 0.2796302  0.2656866\n",
            " 0.2562898  0.24143683 0.22218856 0.18611704 0.19581694 0.20915429\n",
            " 0.20521374 0.20430437 0.21915733 0.22082451 0.20794182 0.20657778\n",
            " 0.19036073 0.17550776 0.17899365 0.17975145 0.18308581 0.18823888\n",
            " 0.20521374 0.21794486 0.23340407 0.22658382 0.26841469 0.27493184\n",
            " 0.27417403 0.22158232 0.19793878 0.19369509 0.21688392 0.21051838\n",
            " 0.21082147 0.20536527 0.19687788 0.2135496  0.26083663 0.28584426\n",
            " 0.27841773 0.27887239 0.2947863  0.35344046 0.43664753 0.41967267\n",
            " 0.40966959 0.38299487 0.38541981 0.39208854 0.42133981 0.35919976\n",
            " 0.38026679 0.37678091 0.39890879 0.37829652 0.37132465 0.35783577\n",
            " 0.35995757 0.3817824  0.37556834 0.38784485 0.38511676 0.38981512\n",
            " 0.39117921 0.36647468 0.33585941 0.31842989 0.30645653 0.2559867\n",
            " 0.27129434 0.31827827 0.30857842 0.31933922 0.36920285 0.37223407\n",
            " 0.35677482 0.35253113 0.35253113 0.36071537 0.34616555 0.33854905\n",
            " 0.33195981 0.32546076 0.31948423 0.31405064]\n",
            "5 day output [[0.309064]]\n",
            "6 day input [0.17232497 0.20430437 0.31585333 0.37329493 0.35783577 0.27053653\n",
            " 0.21779329 0.25174297 0.24249773 0.23325254 0.21673235 0.21188242\n",
            " 0.22067294 0.2321916  0.24749927 0.2796302  0.2656866  0.2562898\n",
            " 0.24143683 0.22218856 0.18611704 0.19581694 0.20915429 0.20521374\n",
            " 0.20430437 0.21915733 0.22082451 0.20794182 0.20657778 0.19036073\n",
            " 0.17550776 0.17899365 0.17975145 0.18308581 0.18823888 0.20521374\n",
            " 0.21794486 0.23340407 0.22658382 0.26841469 0.27493184 0.27417403\n",
            " 0.22158232 0.19793878 0.19369509 0.21688392 0.21051838 0.21082147\n",
            " 0.20536527 0.19687788 0.2135496  0.26083663 0.28584426 0.27841773\n",
            " 0.27887239 0.2947863  0.35344046 0.43664753 0.41967267 0.40966959\n",
            " 0.38299487 0.38541981 0.39208854 0.42133981 0.35919976 0.38026679\n",
            " 0.37678091 0.39890879 0.37829652 0.37132465 0.35783577 0.35995757\n",
            " 0.3817824  0.37556834 0.38784485 0.38511676 0.38981512 0.39117921\n",
            " 0.36647468 0.33585941 0.31842989 0.30645653 0.2559867  0.27129434\n",
            " 0.31827827 0.30857842 0.31933922 0.36920285 0.37223407 0.35677482\n",
            " 0.35253113 0.35253113 0.36071537 0.34616555 0.33854905 0.33195981\n",
            " 0.32546076 0.31948423 0.31405064 0.309064  ]\n",
            "6 day output [[0.30439585]]\n",
            "7 day input [0.20430437 0.31585333 0.37329493 0.35783577 0.27053653 0.21779329\n",
            " 0.25174297 0.24249773 0.23325254 0.21673235 0.21188242 0.22067294\n",
            " 0.2321916  0.24749927 0.2796302  0.2656866  0.2562898  0.24143683\n",
            " 0.22218856 0.18611704 0.19581694 0.20915429 0.20521374 0.20430437\n",
            " 0.21915733 0.22082451 0.20794182 0.20657778 0.19036073 0.17550776\n",
            " 0.17899365 0.17975145 0.18308581 0.18823888 0.20521374 0.21794486\n",
            " 0.23340407 0.22658382 0.26841469 0.27493184 0.27417403 0.22158232\n",
            " 0.19793878 0.19369509 0.21688392 0.21051838 0.21082147 0.20536527\n",
            " 0.19687788 0.2135496  0.26083663 0.28584426 0.27841773 0.27887239\n",
            " 0.2947863  0.35344046 0.43664753 0.41967267 0.40966959 0.38299487\n",
            " 0.38541981 0.39208854 0.42133981 0.35919976 0.38026679 0.37678091\n",
            " 0.39890879 0.37829652 0.37132465 0.35783577 0.35995757 0.3817824\n",
            " 0.37556834 0.38784485 0.38511676 0.38981512 0.39117921 0.36647468\n",
            " 0.33585941 0.31842989 0.30645653 0.2559867  0.27129434 0.31827827\n",
            " 0.30857842 0.31933922 0.36920285 0.37223407 0.35677482 0.35253113\n",
            " 0.35253113 0.36071537 0.34616555 0.33854905 0.33195981 0.32546076\n",
            " 0.31948423 0.31405064 0.309064   0.30439585]\n",
            "7 day output [[0.29992154]]\n",
            "8 day input [0.31585333 0.37329493 0.35783577 0.27053653 0.21779329 0.25174297\n",
            " 0.24249773 0.23325254 0.21673235 0.21188242 0.22067294 0.2321916\n",
            " 0.24749927 0.2796302  0.2656866  0.2562898  0.24143683 0.22218856\n",
            " 0.18611704 0.19581694 0.20915429 0.20521374 0.20430437 0.21915733\n",
            " 0.22082451 0.20794182 0.20657778 0.19036073 0.17550776 0.17899365\n",
            " 0.17975145 0.18308581 0.18823888 0.20521374 0.21794486 0.23340407\n",
            " 0.22658382 0.26841469 0.27493184 0.27417403 0.22158232 0.19793878\n",
            " 0.19369509 0.21688392 0.21051838 0.21082147 0.20536527 0.19687788\n",
            " 0.2135496  0.26083663 0.28584426 0.27841773 0.27887239 0.2947863\n",
            " 0.35344046 0.43664753 0.41967267 0.40966959 0.38299487 0.38541981\n",
            " 0.39208854 0.42133981 0.35919976 0.38026679 0.37678091 0.39890879\n",
            " 0.37829652 0.37132465 0.35783577 0.35995757 0.3817824  0.37556834\n",
            " 0.38784485 0.38511676 0.38981512 0.39117921 0.36647468 0.33585941\n",
            " 0.31842989 0.30645653 0.2559867  0.27129434 0.31827827 0.30857842\n",
            " 0.31933922 0.36920285 0.37223407 0.35677482 0.35253113 0.35253113\n",
            " 0.36071537 0.34616555 0.33854905 0.33195981 0.32546076 0.31948423\n",
            " 0.31405064 0.309064   0.30439585 0.29992154]\n",
            "8 day output [[0.29553735]]\n",
            "9 day input [0.37329493 0.35783577 0.27053653 0.21779329 0.25174297 0.24249773\n",
            " 0.23325254 0.21673235 0.21188242 0.22067294 0.2321916  0.24749927\n",
            " 0.2796302  0.2656866  0.2562898  0.24143683 0.22218856 0.18611704\n",
            " 0.19581694 0.20915429 0.20521374 0.20430437 0.21915733 0.22082451\n",
            " 0.20794182 0.20657778 0.19036073 0.17550776 0.17899365 0.17975145\n",
            " 0.18308581 0.18823888 0.20521374 0.21794486 0.23340407 0.22658382\n",
            " 0.26841469 0.27493184 0.27417403 0.22158232 0.19793878 0.19369509\n",
            " 0.21688392 0.21051838 0.21082147 0.20536527 0.19687788 0.2135496\n",
            " 0.26083663 0.28584426 0.27841773 0.27887239 0.2947863  0.35344046\n",
            " 0.43664753 0.41967267 0.40966959 0.38299487 0.38541981 0.39208854\n",
            " 0.42133981 0.35919976 0.38026679 0.37678091 0.39890879 0.37829652\n",
            " 0.37132465 0.35783577 0.35995757 0.3817824  0.37556834 0.38784485\n",
            " 0.38511676 0.38981512 0.39117921 0.36647468 0.33585941 0.31842989\n",
            " 0.30645653 0.2559867  0.27129434 0.31827827 0.30857842 0.31933922\n",
            " 0.36920285 0.37223407 0.35677482 0.35253113 0.35253113 0.36071537\n",
            " 0.34616555 0.33854905 0.33195981 0.32546076 0.31948423 0.31405064\n",
            " 0.309064   0.30439585 0.29992154 0.29553735]\n",
            "9 day output [[0.29116753]]\n",
            "10 day input [0.35783577 0.27053653 0.21779329 0.25174297 0.24249773 0.23325254\n",
            " 0.21673235 0.21188242 0.22067294 0.2321916  0.24749927 0.2796302\n",
            " 0.2656866  0.2562898  0.24143683 0.22218856 0.18611704 0.19581694\n",
            " 0.20915429 0.20521374 0.20430437 0.21915733 0.22082451 0.20794182\n",
            " 0.20657778 0.19036073 0.17550776 0.17899365 0.17975145 0.18308581\n",
            " 0.18823888 0.20521374 0.21794486 0.23340407 0.22658382 0.26841469\n",
            " 0.27493184 0.27417403 0.22158232 0.19793878 0.19369509 0.21688392\n",
            " 0.21051838 0.21082147 0.20536527 0.19687788 0.2135496  0.26083663\n",
            " 0.28584426 0.27841773 0.27887239 0.2947863  0.35344046 0.43664753\n",
            " 0.41967267 0.40966959 0.38299487 0.38541981 0.39208854 0.42133981\n",
            " 0.35919976 0.38026679 0.37678091 0.39890879 0.37829652 0.37132465\n",
            " 0.35783577 0.35995757 0.3817824  0.37556834 0.38784485 0.38511676\n",
            " 0.38981512 0.39117921 0.36647468 0.33585941 0.31842989 0.30645653\n",
            " 0.2559867  0.27129434 0.31827827 0.30857842 0.31933922 0.36920285\n",
            " 0.37223407 0.35677482 0.35253113 0.35253113 0.36071537 0.34616555\n",
            " 0.33854905 0.33195981 0.32546076 0.31948423 0.31405064 0.309064\n",
            " 0.30439585 0.29992154 0.29553735 0.29116753]\n",
            "10 day output [[0.2867642]]\n",
            "11 day input [0.27053653 0.21779329 0.25174297 0.24249773 0.23325254 0.21673235\n",
            " 0.21188242 0.22067294 0.2321916  0.24749927 0.2796302  0.2656866\n",
            " 0.2562898  0.24143683 0.22218856 0.18611704 0.19581694 0.20915429\n",
            " 0.20521374 0.20430437 0.21915733 0.22082451 0.20794182 0.20657778\n",
            " 0.19036073 0.17550776 0.17899365 0.17975145 0.18308581 0.18823888\n",
            " 0.20521374 0.21794486 0.23340407 0.22658382 0.26841469 0.27493184\n",
            " 0.27417403 0.22158232 0.19793878 0.19369509 0.21688392 0.21051838\n",
            " 0.21082147 0.20536527 0.19687788 0.2135496  0.26083663 0.28584426\n",
            " 0.27841773 0.27887239 0.2947863  0.35344046 0.43664753 0.41967267\n",
            " 0.40966959 0.38299487 0.38541981 0.39208854 0.42133981 0.35919976\n",
            " 0.38026679 0.37678091 0.39890879 0.37829652 0.37132465 0.35783577\n",
            " 0.35995757 0.3817824  0.37556834 0.38784485 0.38511676 0.38981512\n",
            " 0.39117921 0.36647468 0.33585941 0.31842989 0.30645653 0.2559867\n",
            " 0.27129434 0.31827827 0.30857842 0.31933922 0.36920285 0.37223407\n",
            " 0.35677482 0.35253113 0.35253113 0.36071537 0.34616555 0.33854905\n",
            " 0.33195981 0.32546076 0.31948423 0.31405064 0.309064   0.30439585\n",
            " 0.29992154 0.29553735 0.29116753 0.2867642 ]\n",
            "11 day output [[0.28230324]]\n",
            "12 day input [0.21779329 0.25174297 0.24249773 0.23325254 0.21673235 0.21188242\n",
            " 0.22067294 0.2321916  0.24749927 0.2796302  0.2656866  0.2562898\n",
            " 0.24143683 0.22218856 0.18611704 0.19581694 0.20915429 0.20521374\n",
            " 0.20430437 0.21915733 0.22082451 0.20794182 0.20657778 0.19036073\n",
            " 0.17550776 0.17899365 0.17975145 0.18308581 0.18823888 0.20521374\n",
            " 0.21794486 0.23340407 0.22658382 0.26841469 0.27493184 0.27417403\n",
            " 0.22158232 0.19793878 0.19369509 0.21688392 0.21051838 0.21082147\n",
            " 0.20536527 0.19687788 0.2135496  0.26083663 0.28584426 0.27841773\n",
            " 0.27887239 0.2947863  0.35344046 0.43664753 0.41967267 0.40966959\n",
            " 0.38299487 0.38541981 0.39208854 0.42133981 0.35919976 0.38026679\n",
            " 0.37678091 0.39890879 0.37829652 0.37132465 0.35783577 0.35995757\n",
            " 0.3817824  0.37556834 0.38784485 0.38511676 0.38981512 0.39117921\n",
            " 0.36647468 0.33585941 0.31842989 0.30645653 0.2559867  0.27129434\n",
            " 0.31827827 0.30857842 0.31933922 0.36920285 0.37223407 0.35677482\n",
            " 0.35253113 0.35253113 0.36071537 0.34616555 0.33854905 0.33195981\n",
            " 0.32546076 0.31948423 0.31405064 0.309064   0.30439585 0.29992154\n",
            " 0.29553735 0.29116753 0.2867642  0.28230324]\n",
            "12 day output [[0.2777782]]\n",
            "13 day input [0.25174297 0.24249773 0.23325254 0.21673235 0.21188242 0.22067294\n",
            " 0.2321916  0.24749927 0.2796302  0.2656866  0.2562898  0.24143683\n",
            " 0.22218856 0.18611704 0.19581694 0.20915429 0.20521374 0.20430437\n",
            " 0.21915733 0.22082451 0.20794182 0.20657778 0.19036073 0.17550776\n",
            " 0.17899365 0.17975145 0.18308581 0.18823888 0.20521374 0.21794486\n",
            " 0.23340407 0.22658382 0.26841469 0.27493184 0.27417403 0.22158232\n",
            " 0.19793878 0.19369509 0.21688392 0.21051838 0.21082147 0.20536527\n",
            " 0.19687788 0.2135496  0.26083663 0.28584426 0.27841773 0.27887239\n",
            " 0.2947863  0.35344046 0.43664753 0.41967267 0.40966959 0.38299487\n",
            " 0.38541981 0.39208854 0.42133981 0.35919976 0.38026679 0.37678091\n",
            " 0.39890879 0.37829652 0.37132465 0.35783577 0.35995757 0.3817824\n",
            " 0.37556834 0.38784485 0.38511676 0.38981512 0.39117921 0.36647468\n",
            " 0.33585941 0.31842989 0.30645653 0.2559867  0.27129434 0.31827827\n",
            " 0.30857842 0.31933922 0.36920285 0.37223407 0.35677482 0.35253113\n",
            " 0.35253113 0.36071537 0.34616555 0.33854905 0.33195981 0.32546076\n",
            " 0.31948423 0.31405064 0.309064   0.30439585 0.29992154 0.29553735\n",
            " 0.29116753 0.2867642  0.28230324 0.27777821]\n",
            "13 day output [[0.2731945]]\n",
            "14 day input [0.24249773 0.23325254 0.21673235 0.21188242 0.22067294 0.2321916\n",
            " 0.24749927 0.2796302  0.2656866  0.2562898  0.24143683 0.22218856\n",
            " 0.18611704 0.19581694 0.20915429 0.20521374 0.20430437 0.21915733\n",
            " 0.22082451 0.20794182 0.20657778 0.19036073 0.17550776 0.17899365\n",
            " 0.17975145 0.18308581 0.18823888 0.20521374 0.21794486 0.23340407\n",
            " 0.22658382 0.26841469 0.27493184 0.27417403 0.22158232 0.19793878\n",
            " 0.19369509 0.21688392 0.21051838 0.21082147 0.20536527 0.19687788\n",
            " 0.2135496  0.26083663 0.28584426 0.27841773 0.27887239 0.2947863\n",
            " 0.35344046 0.43664753 0.41967267 0.40966959 0.38299487 0.38541981\n",
            " 0.39208854 0.42133981 0.35919976 0.38026679 0.37678091 0.39890879\n",
            " 0.37829652 0.37132465 0.35783577 0.35995757 0.3817824  0.37556834\n",
            " 0.38784485 0.38511676 0.38981512 0.39117921 0.36647468 0.33585941\n",
            " 0.31842989 0.30645653 0.2559867  0.27129434 0.31827827 0.30857842\n",
            " 0.31933922 0.36920285 0.37223407 0.35677482 0.35253113 0.35253113\n",
            " 0.36071537 0.34616555 0.33854905 0.33195981 0.32546076 0.31948423\n",
            " 0.31405064 0.309064   0.30439585 0.29992154 0.29553735 0.29116753\n",
            " 0.2867642  0.28230324 0.27777821 0.27319449]\n",
            "14 day output [[0.2685636]]\n",
            "15 day input [0.23325254 0.21673235 0.21188242 0.22067294 0.2321916  0.24749927\n",
            " 0.2796302  0.2656866  0.2562898  0.24143683 0.22218856 0.18611704\n",
            " 0.19581694 0.20915429 0.20521374 0.20430437 0.21915733 0.22082451\n",
            " 0.20794182 0.20657778 0.19036073 0.17550776 0.17899365 0.17975145\n",
            " 0.18308581 0.18823888 0.20521374 0.21794486 0.23340407 0.22658382\n",
            " 0.26841469 0.27493184 0.27417403 0.22158232 0.19793878 0.19369509\n",
            " 0.21688392 0.21051838 0.21082147 0.20536527 0.19687788 0.2135496\n",
            " 0.26083663 0.28584426 0.27841773 0.27887239 0.2947863  0.35344046\n",
            " 0.43664753 0.41967267 0.40966959 0.38299487 0.38541981 0.39208854\n",
            " 0.42133981 0.35919976 0.38026679 0.37678091 0.39890879 0.37829652\n",
            " 0.37132465 0.35783577 0.35995757 0.3817824  0.37556834 0.38784485\n",
            " 0.38511676 0.38981512 0.39117921 0.36647468 0.33585941 0.31842989\n",
            " 0.30645653 0.2559867  0.27129434 0.31827827 0.30857842 0.31933922\n",
            " 0.36920285 0.37223407 0.35677482 0.35253113 0.35253113 0.36071537\n",
            " 0.34616555 0.33854905 0.33195981 0.32546076 0.31948423 0.31405064\n",
            " 0.309064   0.30439585 0.29992154 0.29553735 0.29116753 0.2867642\n",
            " 0.28230324 0.27777821 0.27319449 0.2685636 ]\n",
            "15 day output [[0.2638993]]\n",
            "16 day input [0.21673235 0.21188242 0.22067294 0.2321916  0.24749927 0.2796302\n",
            " 0.2656866  0.2562898  0.24143683 0.22218856 0.18611704 0.19581694\n",
            " 0.20915429 0.20521374 0.20430437 0.21915733 0.22082451 0.20794182\n",
            " 0.20657778 0.19036073 0.17550776 0.17899365 0.17975145 0.18308581\n",
            " 0.18823888 0.20521374 0.21794486 0.23340407 0.22658382 0.26841469\n",
            " 0.27493184 0.27417403 0.22158232 0.19793878 0.19369509 0.21688392\n",
            " 0.21051838 0.21082147 0.20536527 0.19687788 0.2135496  0.26083663\n",
            " 0.28584426 0.27841773 0.27887239 0.2947863  0.35344046 0.43664753\n",
            " 0.41967267 0.40966959 0.38299487 0.38541981 0.39208854 0.42133981\n",
            " 0.35919976 0.38026679 0.37678091 0.39890879 0.37829652 0.37132465\n",
            " 0.35783577 0.35995757 0.3817824  0.37556834 0.38784485 0.38511676\n",
            " 0.38981512 0.39117921 0.36647468 0.33585941 0.31842989 0.30645653\n",
            " 0.2559867  0.27129434 0.31827827 0.30857842 0.31933922 0.36920285\n",
            " 0.37223407 0.35677482 0.35253113 0.35253113 0.36071537 0.34616555\n",
            " 0.33854905 0.33195981 0.32546076 0.31948423 0.31405064 0.309064\n",
            " 0.30439585 0.29992154 0.29553735 0.29116753 0.2867642  0.28230324\n",
            " 0.27777821 0.27319449 0.2685636  0.2638993 ]\n",
            "16 day output [[0.2592146]]\n",
            "17 day input [0.21188242 0.22067294 0.2321916  0.24749927 0.2796302  0.2656866\n",
            " 0.2562898  0.24143683 0.22218856 0.18611704 0.19581694 0.20915429\n",
            " 0.20521374 0.20430437 0.21915733 0.22082451 0.20794182 0.20657778\n",
            " 0.19036073 0.17550776 0.17899365 0.17975145 0.18308581 0.18823888\n",
            " 0.20521374 0.21794486 0.23340407 0.22658382 0.26841469 0.27493184\n",
            " 0.27417403 0.22158232 0.19793878 0.19369509 0.21688392 0.21051838\n",
            " 0.21082147 0.20536527 0.19687788 0.2135496  0.26083663 0.28584426\n",
            " 0.27841773 0.27887239 0.2947863  0.35344046 0.43664753 0.41967267\n",
            " 0.40966959 0.38299487 0.38541981 0.39208854 0.42133981 0.35919976\n",
            " 0.38026679 0.37678091 0.39890879 0.37829652 0.37132465 0.35783577\n",
            " 0.35995757 0.3817824  0.37556834 0.38784485 0.38511676 0.38981512\n",
            " 0.39117921 0.36647468 0.33585941 0.31842989 0.30645653 0.2559867\n",
            " 0.27129434 0.31827827 0.30857842 0.31933922 0.36920285 0.37223407\n",
            " 0.35677482 0.35253113 0.35253113 0.36071537 0.34616555 0.33854905\n",
            " 0.33195981 0.32546076 0.31948423 0.31405064 0.309064   0.30439585\n",
            " 0.29992154 0.29553735 0.29116753 0.2867642  0.28230324 0.27777821\n",
            " 0.27319449 0.2685636  0.2638993  0.25921461]\n",
            "17 day output [[0.25452042]]\n",
            "18 day input [0.22067294 0.2321916  0.24749927 0.2796302  0.2656866  0.2562898\n",
            " 0.24143683 0.22218856 0.18611704 0.19581694 0.20915429 0.20521374\n",
            " 0.20430437 0.21915733 0.22082451 0.20794182 0.20657778 0.19036073\n",
            " 0.17550776 0.17899365 0.17975145 0.18308581 0.18823888 0.20521374\n",
            " 0.21794486 0.23340407 0.22658382 0.26841469 0.27493184 0.27417403\n",
            " 0.22158232 0.19793878 0.19369509 0.21688392 0.21051838 0.21082147\n",
            " 0.20536527 0.19687788 0.2135496  0.26083663 0.28584426 0.27841773\n",
            " 0.27887239 0.2947863  0.35344046 0.43664753 0.41967267 0.40966959\n",
            " 0.38299487 0.38541981 0.39208854 0.42133981 0.35919976 0.38026679\n",
            " 0.37678091 0.39890879 0.37829652 0.37132465 0.35783577 0.35995757\n",
            " 0.3817824  0.37556834 0.38784485 0.38511676 0.38981512 0.39117921\n",
            " 0.36647468 0.33585941 0.31842989 0.30645653 0.2559867  0.27129434\n",
            " 0.31827827 0.30857842 0.31933922 0.36920285 0.37223407 0.35677482\n",
            " 0.35253113 0.35253113 0.36071537 0.34616555 0.33854905 0.33195981\n",
            " 0.32546076 0.31948423 0.31405064 0.309064   0.30439585 0.29992154\n",
            " 0.29553735 0.29116753 0.2867642  0.28230324 0.27777821 0.27319449\n",
            " 0.2685636  0.2638993  0.25921461 0.25452042]\n",
            "18 day output [[0.24982479]]\n",
            "19 day input [0.2321916  0.24749927 0.2796302  0.2656866  0.2562898  0.24143683\n",
            " 0.22218856 0.18611704 0.19581694 0.20915429 0.20521374 0.20430437\n",
            " 0.21915733 0.22082451 0.20794182 0.20657778 0.19036073 0.17550776\n",
            " 0.17899365 0.17975145 0.18308581 0.18823888 0.20521374 0.21794486\n",
            " 0.23340407 0.22658382 0.26841469 0.27493184 0.27417403 0.22158232\n",
            " 0.19793878 0.19369509 0.21688392 0.21051838 0.21082147 0.20536527\n",
            " 0.19687788 0.2135496  0.26083663 0.28584426 0.27841773 0.27887239\n",
            " 0.2947863  0.35344046 0.43664753 0.41967267 0.40966959 0.38299487\n",
            " 0.38541981 0.39208854 0.42133981 0.35919976 0.38026679 0.37678091\n",
            " 0.39890879 0.37829652 0.37132465 0.35783577 0.35995757 0.3817824\n",
            " 0.37556834 0.38784485 0.38511676 0.38981512 0.39117921 0.36647468\n",
            " 0.33585941 0.31842989 0.30645653 0.2559867  0.27129434 0.31827827\n",
            " 0.30857842 0.31933922 0.36920285 0.37223407 0.35677482 0.35253113\n",
            " 0.35253113 0.36071537 0.34616555 0.33854905 0.33195981 0.32546076\n",
            " 0.31948423 0.31405064 0.309064   0.30439585 0.29992154 0.29553735\n",
            " 0.29116753 0.2867642  0.28230324 0.27777821 0.27319449 0.2685636\n",
            " 0.2638993  0.25921461 0.25452042 0.24982479]\n",
            "19 day output [[0.24513283]]\n",
            "20 day input [0.24749927 0.2796302  0.2656866  0.2562898  0.24143683 0.22218856\n",
            " 0.18611704 0.19581694 0.20915429 0.20521374 0.20430437 0.21915733\n",
            " 0.22082451 0.20794182 0.20657778 0.19036073 0.17550776 0.17899365\n",
            " 0.17975145 0.18308581 0.18823888 0.20521374 0.21794486 0.23340407\n",
            " 0.22658382 0.26841469 0.27493184 0.27417403 0.22158232 0.19793878\n",
            " 0.19369509 0.21688392 0.21051838 0.21082147 0.20536527 0.19687788\n",
            " 0.2135496  0.26083663 0.28584426 0.27841773 0.27887239 0.2947863\n",
            " 0.35344046 0.43664753 0.41967267 0.40966959 0.38299487 0.38541981\n",
            " 0.39208854 0.42133981 0.35919976 0.38026679 0.37678091 0.39890879\n",
            " 0.37829652 0.37132465 0.35783577 0.35995757 0.3817824  0.37556834\n",
            " 0.38784485 0.38511676 0.38981512 0.39117921 0.36647468 0.33585941\n",
            " 0.31842989 0.30645653 0.2559867  0.27129434 0.31827827 0.30857842\n",
            " 0.31933922 0.36920285 0.37223407 0.35677482 0.35253113 0.35253113\n",
            " 0.36071537 0.34616555 0.33854905 0.33195981 0.32546076 0.31948423\n",
            " 0.31405064 0.309064   0.30439585 0.29992154 0.29553735 0.29116753\n",
            " 0.2867642  0.28230324 0.27777821 0.27319449 0.2685636  0.2638993\n",
            " 0.25921461 0.25452042 0.24982479 0.24513283]\n",
            "20 day output [[0.2404474]]\n",
            "21 day input [0.2796302  0.2656866  0.2562898  0.24143683 0.22218856 0.18611704\n",
            " 0.19581694 0.20915429 0.20521374 0.20430437 0.21915733 0.22082451\n",
            " 0.20794182 0.20657778 0.19036073 0.17550776 0.17899365 0.17975145\n",
            " 0.18308581 0.18823888 0.20521374 0.21794486 0.23340407 0.22658382\n",
            " 0.26841469 0.27493184 0.27417403 0.22158232 0.19793878 0.19369509\n",
            " 0.21688392 0.21051838 0.21082147 0.20536527 0.19687788 0.2135496\n",
            " 0.26083663 0.28584426 0.27841773 0.27887239 0.2947863  0.35344046\n",
            " 0.43664753 0.41967267 0.40966959 0.38299487 0.38541981 0.39208854\n",
            " 0.42133981 0.35919976 0.38026679 0.37678091 0.39890879 0.37829652\n",
            " 0.37132465 0.35783577 0.35995757 0.3817824  0.37556834 0.38784485\n",
            " 0.38511676 0.38981512 0.39117921 0.36647468 0.33585941 0.31842989\n",
            " 0.30645653 0.2559867  0.27129434 0.31827827 0.30857842 0.31933922\n",
            " 0.36920285 0.37223407 0.35677482 0.35253113 0.35253113 0.36071537\n",
            " 0.34616555 0.33854905 0.33195981 0.32546076 0.31948423 0.31405064\n",
            " 0.309064   0.30439585 0.29992154 0.29553735 0.29116753 0.2867642\n",
            " 0.28230324 0.27777821 0.27319449 0.2685636  0.2638993  0.25921461\n",
            " 0.25452042 0.24982479 0.24513283 0.2404474 ]\n",
            "21 day output [[0.2357696]]\n",
            "22 day input [0.2656866  0.2562898  0.24143683 0.22218856 0.18611704 0.19581694\n",
            " 0.20915429 0.20521374 0.20430437 0.21915733 0.22082451 0.20794182\n",
            " 0.20657778 0.19036073 0.17550776 0.17899365 0.17975145 0.18308581\n",
            " 0.18823888 0.20521374 0.21794486 0.23340407 0.22658382 0.26841469\n",
            " 0.27493184 0.27417403 0.22158232 0.19793878 0.19369509 0.21688392\n",
            " 0.21051838 0.21082147 0.20536527 0.19687788 0.2135496  0.26083663\n",
            " 0.28584426 0.27841773 0.27887239 0.2947863  0.35344046 0.43664753\n",
            " 0.41967267 0.40966959 0.38299487 0.38541981 0.39208854 0.42133981\n",
            " 0.35919976 0.38026679 0.37678091 0.39890879 0.37829652 0.37132465\n",
            " 0.35783577 0.35995757 0.3817824  0.37556834 0.38784485 0.38511676\n",
            " 0.38981512 0.39117921 0.36647468 0.33585941 0.31842989 0.30645653\n",
            " 0.2559867  0.27129434 0.31827827 0.30857842 0.31933922 0.36920285\n",
            " 0.37223407 0.35677482 0.35253113 0.35253113 0.36071537 0.34616555\n",
            " 0.33854905 0.33195981 0.32546076 0.31948423 0.31405064 0.309064\n",
            " 0.30439585 0.29992154 0.29553735 0.29116753 0.2867642  0.28230324\n",
            " 0.27777821 0.27319449 0.2685636  0.2638993  0.25921461 0.25452042\n",
            " 0.24982479 0.24513283 0.2404474  0.2357696 ]\n",
            "22 day output [[0.23109931]]\n",
            "23 day input [0.2562898  0.24143683 0.22218856 0.18611704 0.19581694 0.20915429\n",
            " 0.20521374 0.20430437 0.21915733 0.22082451 0.20794182 0.20657778\n",
            " 0.19036073 0.17550776 0.17899365 0.17975145 0.18308581 0.18823888\n",
            " 0.20521374 0.21794486 0.23340407 0.22658382 0.26841469 0.27493184\n",
            " 0.27417403 0.22158232 0.19793878 0.19369509 0.21688392 0.21051838\n",
            " 0.21082147 0.20536527 0.19687788 0.2135496  0.26083663 0.28584426\n",
            " 0.27841773 0.27887239 0.2947863  0.35344046 0.43664753 0.41967267\n",
            " 0.40966959 0.38299487 0.38541981 0.39208854 0.42133981 0.35919976\n",
            " 0.38026679 0.37678091 0.39890879 0.37829652 0.37132465 0.35783577\n",
            " 0.35995757 0.3817824  0.37556834 0.38784485 0.38511676 0.38981512\n",
            " 0.39117921 0.36647468 0.33585941 0.31842989 0.30645653 0.2559867\n",
            " 0.27129434 0.31827827 0.30857842 0.31933922 0.36920285 0.37223407\n",
            " 0.35677482 0.35253113 0.35253113 0.36071537 0.34616555 0.33854905\n",
            " 0.33195981 0.32546076 0.31948423 0.31405064 0.309064   0.30439585\n",
            " 0.29992154 0.29553735 0.29116753 0.2867642  0.28230324 0.27777821\n",
            " 0.27319449 0.2685636  0.2638993  0.25921461 0.25452042 0.24982479\n",
            " 0.24513283 0.2404474  0.2357696  0.23109931]\n",
            "23 day output [[0.22643577]]\n",
            "24 day input [0.24143683 0.22218856 0.18611704 0.19581694 0.20915429 0.20521374\n",
            " 0.20430437 0.21915733 0.22082451 0.20794182 0.20657778 0.19036073\n",
            " 0.17550776 0.17899365 0.17975145 0.18308581 0.18823888 0.20521374\n",
            " 0.21794486 0.23340407 0.22658382 0.26841469 0.27493184 0.27417403\n",
            " 0.22158232 0.19793878 0.19369509 0.21688392 0.21051838 0.21082147\n",
            " 0.20536527 0.19687788 0.2135496  0.26083663 0.28584426 0.27841773\n",
            " 0.27887239 0.2947863  0.35344046 0.43664753 0.41967267 0.40966959\n",
            " 0.38299487 0.38541981 0.39208854 0.42133981 0.35919976 0.38026679\n",
            " 0.37678091 0.39890879 0.37829652 0.37132465 0.35783577 0.35995757\n",
            " 0.3817824  0.37556834 0.38784485 0.38511676 0.38981512 0.39117921\n",
            " 0.36647468 0.33585941 0.31842989 0.30645653 0.2559867  0.27129434\n",
            " 0.31827827 0.30857842 0.31933922 0.36920285 0.37223407 0.35677482\n",
            " 0.35253113 0.35253113 0.36071537 0.34616555 0.33854905 0.33195981\n",
            " 0.32546076 0.31948423 0.31405064 0.309064   0.30439585 0.29992154\n",
            " 0.29553735 0.29116753 0.2867642  0.28230324 0.27777821 0.27319449\n",
            " 0.2685636  0.2638993  0.25921461 0.25452042 0.24982479 0.24513283\n",
            " 0.2404474  0.2357696  0.23109931 0.22643577]\n",
            "24 day output [[0.22177802]]\n",
            "25 day input [0.22218856 0.18611704 0.19581694 0.20915429 0.20521374 0.20430437\n",
            " 0.21915733 0.22082451 0.20794182 0.20657778 0.19036073 0.17550776\n",
            " 0.17899365 0.17975145 0.18308581 0.18823888 0.20521374 0.21794486\n",
            " 0.23340407 0.22658382 0.26841469 0.27493184 0.27417403 0.22158232\n",
            " 0.19793878 0.19369509 0.21688392 0.21051838 0.21082147 0.20536527\n",
            " 0.19687788 0.2135496  0.26083663 0.28584426 0.27841773 0.27887239\n",
            " 0.2947863  0.35344046 0.43664753 0.41967267 0.40966959 0.38299487\n",
            " 0.38541981 0.39208854 0.42133981 0.35919976 0.38026679 0.37678091\n",
            " 0.39890879 0.37829652 0.37132465 0.35783577 0.35995757 0.3817824\n",
            " 0.37556834 0.38784485 0.38511676 0.38981512 0.39117921 0.36647468\n",
            " 0.33585941 0.31842989 0.30645653 0.2559867  0.27129434 0.31827827\n",
            " 0.30857842 0.31933922 0.36920285 0.37223407 0.35677482 0.35253113\n",
            " 0.35253113 0.36071537 0.34616555 0.33854905 0.33195981 0.32546076\n",
            " 0.31948423 0.31405064 0.309064   0.30439585 0.29992154 0.29553735\n",
            " 0.29116753 0.2867642  0.28230324 0.27777821 0.27319449 0.2685636\n",
            " 0.2638993  0.25921461 0.25452042 0.24982479 0.24513283 0.2404474\n",
            " 0.2357696  0.23109931 0.22643577 0.22177802]\n",
            "25 day output [[0.21712518]]\n",
            "26 day input [0.18611704 0.19581694 0.20915429 0.20521374 0.20430437 0.21915733\n",
            " 0.22082451 0.20794182 0.20657778 0.19036073 0.17550776 0.17899365\n",
            " 0.17975145 0.18308581 0.18823888 0.20521374 0.21794486 0.23340407\n",
            " 0.22658382 0.26841469 0.27493184 0.27417403 0.22158232 0.19793878\n",
            " 0.19369509 0.21688392 0.21051838 0.21082147 0.20536527 0.19687788\n",
            " 0.2135496  0.26083663 0.28584426 0.27841773 0.27887239 0.2947863\n",
            " 0.35344046 0.43664753 0.41967267 0.40966959 0.38299487 0.38541981\n",
            " 0.39208854 0.42133981 0.35919976 0.38026679 0.37678091 0.39890879\n",
            " 0.37829652 0.37132465 0.35783577 0.35995757 0.3817824  0.37556834\n",
            " 0.38784485 0.38511676 0.38981512 0.39117921 0.36647468 0.33585941\n",
            " 0.31842989 0.30645653 0.2559867  0.27129434 0.31827827 0.30857842\n",
            " 0.31933922 0.36920285 0.37223407 0.35677482 0.35253113 0.35253113\n",
            " 0.36071537 0.34616555 0.33854905 0.33195981 0.32546076 0.31948423\n",
            " 0.31405064 0.309064   0.30439585 0.29992154 0.29553735 0.29116753\n",
            " 0.2867642  0.28230324 0.27777821 0.27319449 0.2685636  0.2638993\n",
            " 0.25921461 0.25452042 0.24982479 0.24513283 0.2404474  0.2357696\n",
            " 0.23109931 0.22643577 0.22177802 0.21712518]\n",
            "26 day output [[0.2124765]]\n",
            "27 day input [0.19581694 0.20915429 0.20521374 0.20430437 0.21915733 0.22082451\n",
            " 0.20794182 0.20657778 0.19036073 0.17550776 0.17899365 0.17975145\n",
            " 0.18308581 0.18823888 0.20521374 0.21794486 0.23340407 0.22658382\n",
            " 0.26841469 0.27493184 0.27417403 0.22158232 0.19793878 0.19369509\n",
            " 0.21688392 0.21051838 0.21082147 0.20536527 0.19687788 0.2135496\n",
            " 0.26083663 0.28584426 0.27841773 0.27887239 0.2947863  0.35344046\n",
            " 0.43664753 0.41967267 0.40966959 0.38299487 0.38541981 0.39208854\n",
            " 0.42133981 0.35919976 0.38026679 0.37678091 0.39890879 0.37829652\n",
            " 0.37132465 0.35783577 0.35995757 0.3817824  0.37556834 0.38784485\n",
            " 0.38511676 0.38981512 0.39117921 0.36647468 0.33585941 0.31842989\n",
            " 0.30645653 0.2559867  0.27129434 0.31827827 0.30857842 0.31933922\n",
            " 0.36920285 0.37223407 0.35677482 0.35253113 0.35253113 0.36071537\n",
            " 0.34616555 0.33854905 0.33195981 0.32546076 0.31948423 0.31405064\n",
            " 0.309064   0.30439585 0.29992154 0.29553735 0.29116753 0.2867642\n",
            " 0.28230324 0.27777821 0.27319449 0.2685636  0.2638993  0.25921461\n",
            " 0.25452042 0.24982479 0.24513283 0.2404474  0.2357696  0.23109931\n",
            " 0.22643577 0.22177802 0.21712518 0.21247651]\n",
            "27 day output [[0.2078316]]\n",
            "28 day input [0.20915429 0.20521374 0.20430437 0.21915733 0.22082451 0.20794182\n",
            " 0.20657778 0.19036073 0.17550776 0.17899365 0.17975145 0.18308581\n",
            " 0.18823888 0.20521374 0.21794486 0.23340407 0.22658382 0.26841469\n",
            " 0.27493184 0.27417403 0.22158232 0.19793878 0.19369509 0.21688392\n",
            " 0.21051838 0.21082147 0.20536527 0.19687788 0.2135496  0.26083663\n",
            " 0.28584426 0.27841773 0.27887239 0.2947863  0.35344046 0.43664753\n",
            " 0.41967267 0.40966959 0.38299487 0.38541981 0.39208854 0.42133981\n",
            " 0.35919976 0.38026679 0.37678091 0.39890879 0.37829652 0.37132465\n",
            " 0.35783577 0.35995757 0.3817824  0.37556834 0.38784485 0.38511676\n",
            " 0.38981512 0.39117921 0.36647468 0.33585941 0.31842989 0.30645653\n",
            " 0.2559867  0.27129434 0.31827827 0.30857842 0.31933922 0.36920285\n",
            " 0.37223407 0.35677482 0.35253113 0.35253113 0.36071537 0.34616555\n",
            " 0.33854905 0.33195981 0.32546076 0.31948423 0.31405064 0.309064\n",
            " 0.30439585 0.29992154 0.29553735 0.29116753 0.2867642  0.28230324\n",
            " 0.27777821 0.27319449 0.2685636  0.2638993  0.25921461 0.25452042\n",
            " 0.24982479 0.24513283 0.2404474  0.2357696  0.23109931 0.22643577\n",
            " 0.22177802 0.21712518 0.21247651 0.20783161]\n",
            "28 day output [[0.20319028]]\n",
            "29 day input [0.20521374 0.20430437 0.21915733 0.22082451 0.20794182 0.20657778\n",
            " 0.19036073 0.17550776 0.17899365 0.17975145 0.18308581 0.18823888\n",
            " 0.20521374 0.21794486 0.23340407 0.22658382 0.26841469 0.27493184\n",
            " 0.27417403 0.22158232 0.19793878 0.19369509 0.21688392 0.21051838\n",
            " 0.21082147 0.20536527 0.19687788 0.2135496  0.26083663 0.28584426\n",
            " 0.27841773 0.27887239 0.2947863  0.35344046 0.43664753 0.41967267\n",
            " 0.40966959 0.38299487 0.38541981 0.39208854 0.42133981 0.35919976\n",
            " 0.38026679 0.37678091 0.39890879 0.37829652 0.37132465 0.35783577\n",
            " 0.35995757 0.3817824  0.37556834 0.38784485 0.38511676 0.38981512\n",
            " 0.39117921 0.36647468 0.33585941 0.31842989 0.30645653 0.2559867\n",
            " 0.27129434 0.31827827 0.30857842 0.31933922 0.36920285 0.37223407\n",
            " 0.35677482 0.35253113 0.35253113 0.36071537 0.34616555 0.33854905\n",
            " 0.33195981 0.32546076 0.31948423 0.31405064 0.309064   0.30439585\n",
            " 0.29992154 0.29553735 0.29116753 0.2867642  0.28230324 0.27777821\n",
            " 0.27319449 0.2685636  0.2638993  0.25921461 0.25452042 0.24982479\n",
            " 0.24513283 0.2404474  0.2357696  0.23109931 0.22643577 0.22177802\n",
            " 0.21712518 0.21247651 0.20783161 0.20319028]\n",
            "29 day output [[0.19855264]]\n",
            "[[0.33854904770851135], [0.3319598138332367], [0.3254607617855072], [0.31948423385620117], [0.3140506446361542], [0.30906400084495544], [0.304395854473114], [0.29992154240608215], [0.2955373525619507], [0.2911675274372101], [0.2867642045021057], [0.28230324387550354], [0.2777782082557678], [0.27319449186325073], [0.2685635983943939], [0.2638992965221405], [0.2592146098613739], [0.2545204162597656], [0.24982479214668274], [0.24513283371925354], [0.24044740200042725], [0.2357695996761322], [0.23109930753707886], [0.22643576562404633], [0.2217780202627182], [0.21712517738342285], [0.21247650682926178], [0.20783160626888275], [0.20319028198719025], [0.19855263829231262]]\n"
          ],
          "name": "stdout"
        }
      ]
    },
    {
      "cell_type": "code",
      "metadata": {
        "id": "5s3IrPNZcps5"
      },
      "source": [
        "day_new=np.arange(1,101)\n",
        "day_pred=np.arange(101,131)"
      ],
      "execution_count": 25,
      "outputs": []
    },
    {
      "cell_type": "code",
      "metadata": {
        "id": "FauilxhLcss7"
      },
      "source": [
        "import matplotlib.pyplot as plt"
      ],
      "execution_count": 26,
      "outputs": []
    },
    {
      "cell_type": "code",
      "metadata": {
        "id": "C2S0OuBZdHFb",
        "outputId": "424ab6ef-42cd-43c3-a444-17c2594f66dc",
        "colab": {
          "base_uri": "https://localhost:8080/",
          "height": 1000
        }
      },
      "source": [
        "day_new,scaler.inverse_transform(scaled_data[1136:])"
      ],
      "execution_count": 27,
      "outputs": [
        {
          "output_type": "execute_result",
          "data": {
            "text/plain": [
              "(array([  1,   2,   3,   4,   5,   6,   7,   8,   9,  10,  11,  12,  13,\n",
              "         14,  15,  16,  17,  18,  19,  20,  21,  22,  23,  24,  25,  26,\n",
              "         27,  28,  29,  30,  31,  32,  33,  34,  35,  36,  37,  38,  39,\n",
              "         40,  41,  42,  43,  44,  45,  46,  47,  48,  49,  50,  51,  52,\n",
              "         53,  54,  55,  56,  57,  58,  59,  60,  61,  62,  63,  64,  65,\n",
              "         66,  67,  68,  69,  70,  71,  72,  73,  74,  75,  76,  77,  78,\n",
              "         79,  80,  81,  82,  83,  84,  85,  86,  87,  88,  89,  90,  91,\n",
              "         92,  93,  94,  95,  96,  97,  98,  99, 100]), array([[206.3500061 ],\n",
              "        [204.80000305],\n",
              "        [209.1499939 ],\n",
              "        [205.3999939 ],\n",
              "        [220.80000305],\n",
              "        [222.        ],\n",
              "        [232.55000305],\n",
              "        [269.3500061 ],\n",
              "        [288.29998779],\n",
              "        [283.20001221],\n",
              "        [254.3999939 ],\n",
              "        [237.        ],\n",
              "        [248.19999695],\n",
              "        [245.1499939 ],\n",
              "        [242.1000061 ],\n",
              "        [236.6499939 ],\n",
              "        [235.05000305],\n",
              "        [237.94999695],\n",
              "        [241.75      ],\n",
              "        [246.80000305],\n",
              "        [257.3999939 ],\n",
              "        [252.80000305],\n",
              "        [249.69999695],\n",
              "        [244.80000305],\n",
              "        [238.44999695],\n",
              "        [226.55000305],\n",
              "        [229.75      ],\n",
              "        [234.1499939 ],\n",
              "        [232.8500061 ],\n",
              "        [232.55000305],\n",
              "        [237.44999695],\n",
              "        [238.        ],\n",
              "        [233.75      ],\n",
              "        [233.30000305],\n",
              "        [227.94999695],\n",
              "        [223.05000305],\n",
              "        [224.19999695],\n",
              "        [224.44999695],\n",
              "        [225.55000305],\n",
              "        [227.25      ],\n",
              "        [232.8500061 ],\n",
              "        [237.05000305],\n",
              "        [242.1499939 ],\n",
              "        [239.8999939 ],\n",
              "        [253.69999695],\n",
              "        [255.8500061 ],\n",
              "        [255.6000061 ],\n",
              "        [238.25      ],\n",
              "        [230.44999695],\n",
              "        [229.05000305],\n",
              "        [236.69999695],\n",
              "        [234.6000061 ],\n",
              "        [234.69999695],\n",
              "        [232.8999939 ],\n",
              "        [230.1000061 ],\n",
              "        [235.6000061 ],\n",
              "        [251.19999695],\n",
              "        [259.45001221],\n",
              "        [257.        ],\n",
              "        [257.1499939 ],\n",
              "        [262.3999939 ],\n",
              "        [281.75      ],\n",
              "        [309.20001221],\n",
              "        [303.6000061 ],\n",
              "        [300.29998779],\n",
              "        [291.5       ],\n",
              "        [292.29998779],\n",
              "        [294.5       ],\n",
              "        [304.1499939 ],\n",
              "        [283.6499939 ],\n",
              "        [290.6000061 ],\n",
              "        [289.45001221],\n",
              "        [296.75      ],\n",
              "        [289.95001221],\n",
              "        [287.6499939 ],\n",
              "        [283.20001221],\n",
              "        [283.8999939 ],\n",
              "        [291.1000061 ],\n",
              "        [289.04998779],\n",
              "        [293.1000061 ],\n",
              "        [292.20001221],\n",
              "        [293.75      ],\n",
              "        [294.20001221],\n",
              "        [286.04998779],\n",
              "        [275.95001221],\n",
              "        [270.20001221],\n",
              "        [266.25      ],\n",
              "        [249.6000061 ],\n",
              "        [254.6499939 ],\n",
              "        [270.1499939 ],\n",
              "        [266.95001221],\n",
              "        [270.5       ],\n",
              "        [286.95001221],\n",
              "        [287.95001221],\n",
              "        [282.8500061 ],\n",
              "        [281.45001221],\n",
              "        [281.45001221],\n",
              "        [284.1499939 ],\n",
              "        [279.3500061 ]]))"
            ]
          },
          "metadata": {
            "tags": []
          },
          "execution_count": 27
        }
      ]
    },
    {
      "cell_type": "code",
      "metadata": {
        "id": "ucT6aPkdcu3G",
        "outputId": "ece6ed97-7bc7-4851-fd0f-0d4205a9348e",
        "colab": {
          "base_uri": "https://localhost:8080/",
          "height": 554
        }
      },
      "source": [
        "#Predictions of 13 october to 23 october.\n",
        "day_pred,scaler.inverse_transform(lst_output)"
      ],
      "execution_count": 28,
      "outputs": [
        {
          "output_type": "execute_result",
          "data": {
            "text/plain": [
              "(array([101, 102, 103, 104, 105, 106, 107, 108, 109, 110, 111, 112, 113,\n",
              "        114, 115, 116, 117, 118, 119, 120, 121, 122, 123, 124, 125, 126,\n",
              "        127, 128, 129, 130]), array([[276.83732267],\n",
              "        [274.66353445],\n",
              "        [272.51949722],\n",
              "        [270.5478407 ],\n",
              "        [268.75529965],\n",
              "        [267.11020589],\n",
              "        [265.57018443],\n",
              "        [264.09410891],\n",
              "        [262.6477647 ],\n",
              "        [261.20615942],\n",
              "        [259.75350321],\n",
              "        [258.28183233],\n",
              "        [256.7890231 ],\n",
              "        [255.27685509],\n",
              "        [253.74912337],\n",
              "        [252.21037021],\n",
              "        [250.66489211],\n",
              "        [249.11627767],\n",
              "        [247.5671913 ],\n",
              "        [246.01931424],\n",
              "        [244.47359035],\n",
              "        [242.93038339],\n",
              "        [241.38965404],\n",
              "        [239.85115159],\n",
              "        [238.31456143],\n",
              "        [236.77958859],\n",
              "        [235.2459922 ],\n",
              "        [233.71363954],\n",
              "        [232.18246668],\n",
              "        [230.65250806]]))"
            ]
          },
          "metadata": {
            "tags": []
          },
          "execution_count": 28
        }
      ]
    },
    {
      "cell_type": "code",
      "metadata": {
        "id": "dslFl60AehUB",
        "outputId": "05b66902-3e72-4a3c-fb96-04d7a955fa38",
        "colab": {
          "base_uri": "https://localhost:8080/",
          "height": 279
        }
      },
      "source": [
        "plt.plot(day_new,scaler.inverse_transform(scaled_data[1135:]))\n",
        "plt.plot(day_pred,scaler.inverse_transform(lst_output))"
      ],
      "execution_count": 29,
      "outputs": [
        {
          "output_type": "execute_result",
          "data": {
            "text/plain": [
              "[<matplotlib.lines.Line2D at 0x7f8cdcdcae80>]"
            ]
          },
          "metadata": {
            "tags": []
          },
          "execution_count": 29
        },
        {
          "output_type": "display_data",
          "data": {
            "image/png": "[encoded data removed]",
            "text/plain": [
              "<Figure size 432x288 with 1 Axes>"
            ]
          },
          "metadata": {
            "tags": [],
            "needs_background": "light"
          }
        }
      ]
    },
    {
      "cell_type": "code",
      "metadata": {
        "id": "OQLnGiqtjBRS"
      },
      "source": [
        "#Create a new dataframe to predict the next day open price 19th oct.\n",
        "#new_df = df.filter(['Open'])\n",
        "#Get teh last 60 day closing price \n",
        "###last_60_days = new_df[-60:].values\n",
        "#Scale the data to be values between 0 and 1\n",
        "#last_60_days_scaled = scaler.transform(last_60_days)\n",
        "#Create an empty list\n",
        "#X_test = []\n",
        "#Append teh past 60 days\n",
        "#X_test.append(last_60_days_scaled)\n",
        "#Convert the X_test data set to a numpy array\n",
        "#X_test = np.array(X_test)\n",
        "#Reshape the data\n",
        "#X_test = np.reshape(X_test, (X_test.shape[0], X_test.shape[1], 1))\n",
        "#Get the predicted scaled price\n",
        "#pred_price_open = model.predict(X_test)\n",
        "#undo the scaling \n",
        "#pred_price_open = scaler.inverse_transform(pred_price_open)"
      ],
      "execution_count": 30,
      "outputs": []
    },
    {
      "cell_type": "code",
      "metadata": {
        "id": "AX2AIH6xjP6m"
      },
      "source": [
        "#getting the Last 60 data to predict the next day ie...8th october with 99% accuracy.\n",
        "#pred_price_open"
      ],
      "execution_count": 31,
      "outputs": []
    }
  ]
}