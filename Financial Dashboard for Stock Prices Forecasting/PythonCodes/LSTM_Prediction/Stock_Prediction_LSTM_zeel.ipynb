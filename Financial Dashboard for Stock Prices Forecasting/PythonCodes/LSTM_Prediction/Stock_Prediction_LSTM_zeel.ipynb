{
  "nbformat": 4,
  "nbformat_minor": 0,
  "metadata": {
    "colab": {
      "name": "Stock_Prediction_LSTM_zeel.ipynb",
      "provenance": [],
      "collapsed_sections": []
    },
    "kernelspec": {
      "name": "python3",
      "display_name": "Python 3"
    }
  },
  "cells": [
    {
      "cell_type": "code",
      "metadata": {
        "id": "5IBke2ie86wU"
      },
      "source": [
        "import math\n",
        "import pandas as pd\n",
        "import numpy as np\n",
        "from sklearn.preprocessing import MinMaxScaler\n",
        "from keras.models import Sequential\n",
        "from keras.layers import Dense,LSTM\n",
        "import matplotlib.pyplot as plt\n",
        "plt.style.use('fivethirtyeight')\n",
        "import seaborn as sns\n",
        "import pandas_datareader as dr\n",
        "\n"
      ],
      "execution_count": 32,
      "outputs": []
    },
    {
      "cell_type": "code",
      "metadata": {
        "id": "1JpVhWJL-7Y9"
      },
      "source": [
        "df=dr.data.get_data_yahoo('ZEEL.NS',start='2015-10-6',end='2020-10-11')\n"
      ],
      "execution_count": 33,
      "outputs": []
    },
    {
      "cell_type": "code",
      "metadata": {
        "id": "weAVldoi_GN8",
        "outputId": "d8e09705-4519-424e-d089-48d10798bfdc",
        "colab": {
          "base_uri": "https://localhost:8080/",
          "height": 431
        }
      },
      "source": [
        "df"
      ],
      "execution_count": 34,
      "outputs": [
        {
          "output_type": "execute_result",
          "data": {
            "text/html": [
              "<div>\n",
              "<style scoped>\n",
              "    .dataframe tbody tr th:only-of-type {\n",
              "        vertical-align: middle;\n",
              "    }\n",
              "\n",
              "    .dataframe tbody tr th {\n",
              "        vertical-align: top;\n",
              "    }\n",
              "\n",
              "    .dataframe thead th {\n",
              "        text-align: right;\n",
              "    }\n",
              "</style>\n",
              "<table border=\"1\" class=\"dataframe\">\n",
              "  <thead>\n",
              "    <tr style=\"text-align: right;\">\n",
              "      <th></th>\n",
              "      <th>High</th>\n",
              "      <th>Low</th>\n",
              "      <th>Open</th>\n",
              "      <th>Close</th>\n",
              "      <th>Volume</th>\n",
              "      <th>Adj Close</th>\n",
              "    </tr>\n",
              "    <tr>\n",
              "      <th>Date</th>\n",
              "      <th></th>\n",
              "      <th></th>\n",
              "      <th></th>\n",
              "      <th></th>\n",
              "      <th></th>\n",
              "      <th></th>\n",
              "    </tr>\n",
              "  </thead>\n",
              "  <tbody>\n",
              "    <tr>\n",
              "      <th>2015-10-06</th>\n",
              "      <td>405.000000</td>\n",
              "      <td>397.500000</td>\n",
              "      <td>405.000000</td>\n",
              "      <td>399.000000</td>\n",
              "      <td>1360555.0</td>\n",
              "      <td>386.613281</td>\n",
              "    </tr>\n",
              "    <tr>\n",
              "      <th>2015-10-07</th>\n",
              "      <td>401.000000</td>\n",
              "      <td>392.500000</td>\n",
              "      <td>399.100006</td>\n",
              "      <td>399.399994</td>\n",
              "      <td>1217685.0</td>\n",
              "      <td>387.000854</td>\n",
              "    </tr>\n",
              "    <tr>\n",
              "      <th>2015-10-08</th>\n",
              "      <td>403.950012</td>\n",
              "      <td>395.299988</td>\n",
              "      <td>400.200012</td>\n",
              "      <td>397.549988</td>\n",
              "      <td>946190.0</td>\n",
              "      <td>385.208313</td>\n",
              "    </tr>\n",
              "    <tr>\n",
              "      <th>2015-10-09</th>\n",
              "      <td>403.899994</td>\n",
              "      <td>398.250000</td>\n",
              "      <td>403.899994</td>\n",
              "      <td>401.450012</td>\n",
              "      <td>1368389.0</td>\n",
              "      <td>388.987213</td>\n",
              "    </tr>\n",
              "    <tr>\n",
              "      <th>2015-10-12</th>\n",
              "      <td>405.899994</td>\n",
              "      <td>398.350006</td>\n",
              "      <td>403.200012</td>\n",
              "      <td>401.299988</td>\n",
              "      <td>569277.0</td>\n",
              "      <td>388.841858</td>\n",
              "    </tr>\n",
              "    <tr>\n",
              "      <th>...</th>\n",
              "      <td>...</td>\n",
              "      <td>...</td>\n",
              "      <td>...</td>\n",
              "      <td>...</td>\n",
              "      <td>...</td>\n",
              "      <td>...</td>\n",
              "    </tr>\n",
              "    <tr>\n",
              "      <th>2020-10-06</th>\n",
              "      <td>219.550003</td>\n",
              "      <td>208.449997</td>\n",
              "      <td>211.000000</td>\n",
              "      <td>216.899994</td>\n",
              "      <td>26397296.0</td>\n",
              "      <td>216.899994</td>\n",
              "    </tr>\n",
              "    <tr>\n",
              "      <th>2020-10-07</th>\n",
              "      <td>218.500000</td>\n",
              "      <td>203.800003</td>\n",
              "      <td>217.600006</td>\n",
              "      <td>205.949997</td>\n",
              "      <td>33782509.0</td>\n",
              "      <td>205.949997</td>\n",
              "    </tr>\n",
              "    <tr>\n",
              "      <th>2020-10-08</th>\n",
              "      <td>212.949997</td>\n",
              "      <td>204.149994</td>\n",
              "      <td>209.899994</td>\n",
              "      <td>205.899994</td>\n",
              "      <td>24845156.0</td>\n",
              "      <td>205.899994</td>\n",
              "    </tr>\n",
              "    <tr>\n",
              "      <th>2020-10-09</th>\n",
              "      <td>208.100006</td>\n",
              "      <td>198.000000</td>\n",
              "      <td>207.149994</td>\n",
              "      <td>200.550003</td>\n",
              "      <td>23605416.0</td>\n",
              "      <td>200.550003</td>\n",
              "    </tr>\n",
              "    <tr>\n",
              "      <th>2020-10-12</th>\n",
              "      <td>198.000000</td>\n",
              "      <td>186.550003</td>\n",
              "      <td>196.350006</td>\n",
              "      <td>189.850006</td>\n",
              "      <td>47814117.0</td>\n",
              "      <td>189.850006</td>\n",
              "    </tr>\n",
              "  </tbody>\n",
              "</table>\n",
              "<p>1235 rows × 6 columns</p>\n",
              "</div>"
            ],
            "text/plain": [
              "                  High         Low  ...      Volume   Adj Close\n",
              "Date                                ...                        \n",
              "2015-10-06  405.000000  397.500000  ...   1360555.0  386.613281\n",
              "2015-10-07  401.000000  392.500000  ...   1217685.0  387.000854\n",
              "2015-10-08  403.950012  395.299988  ...    946190.0  385.208313\n",
              "2015-10-09  403.899994  398.250000  ...   1368389.0  388.987213\n",
              "2015-10-12  405.899994  398.350006  ...    569277.0  388.841858\n",
              "...                ...         ...  ...         ...         ...\n",
              "2020-10-06  219.550003  208.449997  ...  26397296.0  216.899994\n",
              "2020-10-07  218.500000  203.800003  ...  33782509.0  205.949997\n",
              "2020-10-08  212.949997  204.149994  ...  24845156.0  205.899994\n",
              "2020-10-09  208.100006  198.000000  ...  23605416.0  200.550003\n",
              "2020-10-12  198.000000  186.550003  ...  47814117.0  189.850006\n",
              "\n",
              "[1235 rows x 6 columns]"
            ]
          },
          "metadata": {
            "tags": []
          },
          "execution_count": 34
        }
      ]
    },
    {
      "cell_type": "code",
      "metadata": {
        "id": "caItNRPx_hAH",
        "outputId": "7ecc68d5-88a2-4ca0-ea76-475b0c47e7d2",
        "colab": {
          "base_uri": "https://localhost:8080/",
          "height": 558
        }
      },
      "source": [
        "#visuliazing the close price \n",
        "plt.figure(figsize=(16,8))\n",
        "plt.title('Close Price History')\n",
        "plt.plot(df['Close'])\n",
        "plt.xlabel('Date',fontsize=18)\n",
        "plt.ylabel('Close Price',fontsize=18)\n",
        "plt.show()"
      ],
      "execution_count": 35,
      "outputs": [
        {
          "output_type": "display_data",
          "data": {
            "image/png": "[encoded data removed]",
            "text/plain": [
              "<Figure size 1152x576 with 1 Axes>"
            ]
          },
          "metadata": {
            "tags": []
          }
        }
      ]
    },
    {
      "cell_type": "code",
      "metadata": {
        "id": "FCgSxftXAxuA",
        "outputId": "3940b986-9bdc-4ed4-dc52-fd03b179809e",
        "colab": {
          "base_uri": "https://localhost:8080/",
          "height": 34
        }
      },
      "source": [
        "#new dataframe\n",
        "data=df.filter(['Close'])\n",
        "#coverting to numpy\n",
        "dataset=data.values\n",
        "training_data_len=math.ceil(len(dataset)*.8)\n",
        "training_data_len"
      ],
      "execution_count": 36,
      "outputs": [
        {
          "output_type": "execute_result",
          "data": {
            "text/plain": [
              "988"
            ]
          },
          "metadata": {
            "tags": []
          },
          "execution_count": 36
        }
      ]
    },
    {
      "cell_type": "code",
      "metadata": {
        "id": "jHaNY0VhBSHn",
        "outputId": "da3abed6-ae60-412e-c811-6ce882585828",
        "colab": {
          "base_uri": "https://localhost:8080/",
          "height": 134
        }
      },
      "source": [
        "#scaling the datas\n",
        "scaler=MinMaxScaler(feature_range=(0,1))\n",
        "scaled_data=scaler.fit_transform(dataset)\n",
        "scaled_data"
      ],
      "execution_count": 37,
      "outputs": [
        {
          "output_type": "execute_result",
          "data": {
            "text/plain": [
              "array([[0.5662114 ],\n",
              "       [0.5670207 ],\n",
              "       [0.56327764],\n",
              "       ...,\n",
              "       [0.17551844],\n",
              "       [0.16469398],\n",
              "       [0.14304502]])"
            ]
          },
          "metadata": {
            "tags": []
          },
          "execution_count": 37
        }
      ]
    },
    {
      "cell_type": "code",
      "metadata": {
        "id": "rASzqFhGBp3B",
        "outputId": "4589bfab-f737-4622-a304-adfbe3d26b14",
        "colab": {
          "base_uri": "https://localhost:8080/",
          "height": 252
        }
      },
      "source": [
        "#creating the dataset\n",
        "train_data=scaled_data[0:training_data_len,:]\n",
        "#split\n",
        "x_train=[]\n",
        "y_train=[]\n",
        "for i in range(60,len(train_data)):\n",
        "  x_train.append(train_data[i-60:i,0])\n",
        "  y_train.append(train_data[i,0])\n",
        "  if i<=60:\n",
        "    print(x_train)\n",
        "    print(y_train)\n",
        "    print()"
      ],
      "execution_count": 38,
      "outputs": [
        {
          "output_type": "stream",
          "text": [
            "[array([0.5662114 , 0.5670207 , 0.56327764, 0.57116843, 0.57086489,\n",
            "       0.57086489, 0.5411229 , 0.60617093, 0.61568032, 0.62964085,\n",
            "       0.64036414, 0.6372281 , 0.63328271, 0.61871522, 0.61841168,\n",
            "       0.61031861, 0.59999999, 0.58573592, 0.59433481, 0.59838134,\n",
            "       0.59888716, 0.58047541, 0.56509863, 0.54982292, 0.54233687,\n",
            "       0.52240767, 0.52594839, 0.52756698, 0.52594839, 0.55083456,\n",
            "       0.56074856, 0.58290336, 0.57147191, 0.58644408, 0.59332317,\n",
            "       0.58472429, 0.59747091, 0.59595346, 0.58765805, 0.55943344,\n",
            "       0.56843701, 0.56985326, 0.56004046, 0.57268588, 0.56368232,\n",
            "       0.57986846, 0.58512897, 0.58573592, 0.59868482, 0.59564992,\n",
            "       0.60313603, 0.59939298, 0.60677789, 0.5899848 , 0.59160338,\n",
            "       0.60131511, 0.62529084, 0.64360138, 0.63480016, 0.61264542])]\n",
            "[0.6189174953994793]\n",
            "\n"
          ],
          "name": "stdout"
        }
      ]
    },
    {
      "cell_type": "code",
      "metadata": {
        "id": "W0bpxQUiCzNQ"
      },
      "source": [
        "#converting to numpy\n",
        "x_train,y_train=np.array(x_train),np.array(y_train)"
      ],
      "execution_count": 39,
      "outputs": []
    },
    {
      "cell_type": "code",
      "metadata": {
        "id": "A_8ZiuIEDANW",
        "outputId": "345ffd7a-bcee-4efa-8b7b-a08416d64bc3",
        "colab": {
          "base_uri": "https://localhost:8080/",
          "height": 34
        }
      },
      "source": [
        "#reshaping the data\n",
        "x_train=np.reshape(x_train,(x_train.shape[0],x_train.shape[1],1))\n",
        "x_train.shape\n"
      ],
      "execution_count": 40,
      "outputs": [
        {
          "output_type": "execute_result",
          "data": {
            "text/plain": [
              "(928, 60, 1)"
            ]
          },
          "metadata": {
            "tags": []
          },
          "execution_count": 40
        }
      ]
    },
    {
      "cell_type": "code",
      "metadata": {
        "id": "rSp-YKc9DdYZ"
      },
      "source": [
        "#LSTM Model\n",
        "model=Sequential()\n",
        "model.add(LSTM(50,return_sequences=True,input_shape=(x_train.shape[1],1)))\n",
        "model.add(LSTM(50,return_sequences=False))\n",
        "model.add(Dense(25))\n",
        "model.add(Dense(1))\n",
        "\n"
      ],
      "execution_count": 41,
      "outputs": []
    },
    {
      "cell_type": "code",
      "metadata": {
        "id": "15HSgrDwENWm"
      },
      "source": [
        "#Compile the model\n",
        "model.compile(optimizer='adam',loss='mean_squared_error')"
      ],
      "execution_count": 42,
      "outputs": []
    },
    {
      "cell_type": "code",
      "metadata": {
        "id": "wmEg73VNEdHP",
        "outputId": "df764dd6-a015-47c0-a608-818d476c5fa2",
        "colab": {
          "base_uri": "https://localhost:8080/",
          "height": 134
        }
      },
      "source": [
        "model.fit(x_train,y_train,batch_size=1,epochs=3)"
      ],
      "execution_count": 43,
      "outputs": [
        {
          "output_type": "stream",
          "text": [
            "Epoch 1/3\n",
            "928/928 [==============================] - 22s 24ms/step - loss: 0.0046\n",
            "Epoch 2/3\n",
            "928/928 [==============================] - 21s 23ms/step - loss: 0.0015\n",
            "Epoch 3/3\n",
            "928/928 [==============================] - 21s 22ms/step - loss: 0.0012\n"
          ],
          "name": "stdout"
        },
        {
          "output_type": "execute_result",
          "data": {
            "text/plain": [
              "<tensorflow.python.keras.callbacks.History at 0x7f8ccf471d68>"
            ]
          },
          "metadata": {
            "tags": []
          },
          "execution_count": 43
        }
      ]
    },
    {
      "cell_type": "code",
      "metadata": {
        "id": "r3Y2o__aEp5N"
      },
      "source": [
        "#creating rhe testing data\n",
        "test_data=scaled_data[training_data_len-60:,:]\n",
        "x_test=[]\n",
        "y_test=dataset[training_data_len:,:]\n",
        "for i in range(60,len(test_data)):\n",
        "  x_test.append(test_data[i-60:i,0])"
      ],
      "execution_count": 44,
      "outputs": []
    },
    {
      "cell_type": "code",
      "metadata": {
        "id": "oo836ft6E1wn"
      },
      "source": [
        "#numpy to array\n",
        "x_test=np.array(x_test)"
      ],
      "execution_count": 45,
      "outputs": []
    },
    {
      "cell_type": "code",
      "metadata": {
        "id": "zT6c_SQeFkkt"
      },
      "source": [
        "x_test=np.reshape(x_test,(x_test.shape[0],x_test.shape[1],1))"
      ],
      "execution_count": 46,
      "outputs": []
    },
    {
      "cell_type": "code",
      "metadata": {
        "id": "1AQuDto9Fw64"
      },
      "source": [
        "#get the models prediction\n",
        "predictions=model.predict(x_test)\n",
        "predictions=scaler.inverse_transform(predictions)\n"
      ],
      "execution_count": 47,
      "outputs": []
    },
    {
      "cell_type": "code",
      "metadata": {
        "id": "4z3qOKS7GI-R",
        "outputId": "7c0da33b-164e-4518-99bc-9b4e48344de9",
        "colab": {
          "base_uri": "https://localhost:8080/",
          "height": 34
        }
      },
      "source": [
        "#RMSE\n",
        "rmse=np.sqrt(np.mean(((predictions- y_test)**2)))\n",
        "rmse\n"
      ],
      "execution_count": 48,
      "outputs": [
        {
          "output_type": "execute_result",
          "data": {
            "text/plain": [
              "16.408980198292657"
            ]
          },
          "metadata": {
            "tags": []
          },
          "execution_count": 48
        }
      ]
    },
    {
      "cell_type": "code",
      "metadata": {
        "id": "SurOJaraHc4T",
        "outputId": "e82ed629-deea-4373-9709-395a451c8169",
        "colab": {
          "base_uri": "https://localhost:8080/",
          "height": 659
        }
      },
      "source": [
        "#Plot/Create the data for the graph\n",
        "train = data[:training_data_len]\n",
        "valid = data[training_data_len:]\n",
        "valid['Predictions'] = predictions\n",
        "#Visualize the data\n",
        "plt.figure(figsize=(16,8))\n",
        "plt.title('Model')\n",
        "plt.xlabel('Date', fontsize=18)\n",
        "plt.ylabel('Close Price', fontsize=18)\n",
        "plt.plot(train['Close'])\n",
        "plt.plot(valid[['Close', 'Predictions']])\n",
        "plt.legend(['Train', 'Val', 'Predictions'], loc='lower right')\n",
        "plt.show()"
      ],
      "execution_count": 49,
      "outputs": [
        {
          "output_type": "stream",
          "text": [
            "/usr/local/lib/python3.6/dist-packages/ipykernel_launcher.py:4: SettingWithCopyWarning: \n",
            "A value is trying to be set on a copy of a slice from a DataFrame.\n",
            "Try using .loc[row_indexer,col_indexer] = value instead\n",
            "\n",
            "See the caveats in the documentation: https://pandas.pydata.org/pandas-docs/stable/user_guide/indexing.html#returning-a-view-versus-a-copy\n",
            "  after removing the cwd from sys.path.\n"
          ],
          "name": "stderr"
        },
        {
          "output_type": "display_data",
          "data": {
            "image/png": "[encoded data removed]",
            "text/plain": [
              "<Figure size 1152x576 with 1 Axes>"
            ]
          },
          "metadata": {
            "tags": []
          }
        }
      ]
    },
    {
      "cell_type": "code",
      "metadata": {
        "id": "TTvvGYsHHwRI",
        "outputId": "edd0aac1-fc33-4ada-ad95-32dd065d98d3",
        "colab": {
          "base_uri": "https://localhost:8080/",
          "height": 431
        }
      },
      "source": [
        "valid"
      ],
      "execution_count": 50,
      "outputs": [
        {
          "output_type": "execute_result",
          "data": {
            "text/html": [
              "<div>\n",
              "<style scoped>\n",
              "    .dataframe tbody tr th:only-of-type {\n",
              "        vertical-align: middle;\n",
              "    }\n",
              "\n",
              "    .dataframe tbody tr th {\n",
              "        vertical-align: top;\n",
              "    }\n",
              "\n",
              "    .dataframe thead th {\n",
              "        text-align: right;\n",
              "    }\n",
              "</style>\n",
              "<table border=\"1\" class=\"dataframe\">\n",
              "  <thead>\n",
              "    <tr style=\"text-align: right;\">\n",
              "      <th></th>\n",
              "      <th>Close</th>\n",
              "      <th>Predictions</th>\n",
              "    </tr>\n",
              "    <tr>\n",
              "      <th>Date</th>\n",
              "      <th></th>\n",
              "      <th></th>\n",
              "    </tr>\n",
              "  </thead>\n",
              "  <tbody>\n",
              "    <tr>\n",
              "      <th>2019-10-15</th>\n",
              "      <td>250.699997</td>\n",
              "      <td>240.934830</td>\n",
              "    </tr>\n",
              "    <tr>\n",
              "      <th>2019-10-16</th>\n",
              "      <td>259.649994</td>\n",
              "      <td>241.861465</td>\n",
              "    </tr>\n",
              "    <tr>\n",
              "      <th>2019-10-17</th>\n",
              "      <td>264.450012</td>\n",
              "      <td>245.232758</td>\n",
              "    </tr>\n",
              "    <tr>\n",
              "      <th>2019-10-18</th>\n",
              "      <td>250.199997</td>\n",
              "      <td>249.828079</td>\n",
              "    </tr>\n",
              "    <tr>\n",
              "      <th>2019-10-22</th>\n",
              "      <td>250.449997</td>\n",
              "      <td>250.502701</td>\n",
              "    </tr>\n",
              "    <tr>\n",
              "      <th>...</th>\n",
              "      <td>...</td>\n",
              "      <td>...</td>\n",
              "    </tr>\n",
              "    <tr>\n",
              "      <th>2020-10-06</th>\n",
              "      <td>216.899994</td>\n",
              "      <td>200.755020</td>\n",
              "    </tr>\n",
              "    <tr>\n",
              "      <th>2020-10-07</th>\n",
              "      <td>205.949997</td>\n",
              "      <td>203.203430</td>\n",
              "    </tr>\n",
              "    <tr>\n",
              "      <th>2020-10-08</th>\n",
              "      <td>205.899994</td>\n",
              "      <td>202.987885</td>\n",
              "    </tr>\n",
              "    <tr>\n",
              "      <th>2020-10-09</th>\n",
              "      <td>200.550003</td>\n",
              "      <td>201.596695</td>\n",
              "    </tr>\n",
              "    <tr>\n",
              "      <th>2020-10-12</th>\n",
              "      <td>189.850006</td>\n",
              "      <td>198.815308</td>\n",
              "    </tr>\n",
              "  </tbody>\n",
              "</table>\n",
              "<p>247 rows × 2 columns</p>\n",
              "</div>"
            ],
            "text/plain": [
              "                 Close  Predictions\n",
              "Date                               \n",
              "2019-10-15  250.699997   240.934830\n",
              "2019-10-16  259.649994   241.861465\n",
              "2019-10-17  264.450012   245.232758\n",
              "2019-10-18  250.199997   249.828079\n",
              "2019-10-22  250.449997   250.502701\n",
              "...                ...          ...\n",
              "2020-10-06  216.899994   200.755020\n",
              "2020-10-07  205.949997   203.203430\n",
              "2020-10-08  205.899994   202.987885\n",
              "2020-10-09  200.550003   201.596695\n",
              "2020-10-12  189.850006   198.815308\n",
              "\n",
              "[247 rows x 2 columns]"
            ]
          },
          "metadata": {
            "tags": []
          },
          "execution_count": 50
        }
      ]
    },
    {
      "cell_type": "code",
      "metadata": {
        "id": "M_m9uh72b9-i",
        "outputId": "362960ff-3b2e-4ce4-a115-a85b75255cf1",
        "colab": {
          "base_uri": "https://localhost:8080/",
          "height": 34
        }
      },
      "source": [
        "len(test_data)"
      ],
      "execution_count": 51,
      "outputs": [
        {
          "output_type": "execute_result",
          "data": {
            "text/plain": [
              "307"
            ]
          },
          "metadata": {
            "tags": []
          },
          "execution_count": 51
        }
      ]
    },
    {
      "cell_type": "code",
      "metadata": {
        "id": "KfHL2xJ7cM8S",
        "outputId": "fdd64e67-8835-4856-d55a-71694ad84297",
        "colab": {
          "base_uri": "https://localhost:8080/",
          "height": 34
        }
      },
      "source": [
        "x_input=test_data[207:].reshape(1,-1)\n",
        "x_input.shape\n"
      ],
      "execution_count": 52,
      "outputs": [
        {
          "output_type": "execute_result",
          "data": {
            "text/plain": [
              "(1, 100)"
            ]
          },
          "metadata": {
            "tags": []
          },
          "execution_count": 52
        }
      ]
    },
    {
      "cell_type": "code",
      "metadata": {
        "id": "m6yVGqWRcS_f"
      },
      "source": [
        "temp_input=list(x_input)\n",
        "temp_input=temp_input[0].tolist()"
      ],
      "execution_count": 53,
      "outputs": []
    },
    {
      "cell_type": "code",
      "metadata": {
        "id": "2cxsfpkLcWDy",
        "outputId": "52e6fe15-865d-42d1-e9a0-f30c0a3a4a97",
        "colab": {
          "base_uri": "https://localhost:8080/",
          "height": 1000
        }
      },
      "source": [
        "temp_input"
      ],
      "execution_count": 54,
      "outputs": [
        {
          "output_type": "execute_result",
          "data": {
            "text/plain": [
              "[0.08922609293251979,\n",
              " 0.09317145835070881,\n",
              " 0.09165400773812751,\n",
              " 0.1245321043440559,\n",
              " 0.13029842902090957,\n",
              " 0.13505308908343058,\n",
              " 0.16145673591686774,\n",
              " 0.15488111659568207,\n",
              " 0.17491148320532238,\n",
              " 0.17612542517182037,\n",
              " 0.1576125400473731,\n",
              " 0.14820432772580197,\n",
              " 0.14294385079242047,\n",
              " 0.11492158379770759,\n",
              " 0.0999494167692834,\n",
              " 0.09377844477026373,\n",
              " 0.09054120444771221,\n",
              " 0.09276681102854281,\n",
              " 0.11178551302385056,\n",
              " 0.10885178134738235,\n",
              " 0.11714719037853819,\n",
              " 0.12706118869835806,\n",
              " 0.11117855747690744,\n",
              " 0.10763783938088436,\n",
              " 0.11552857021726246,\n",
              " 0.1070308529613295,\n",
              " 0.10510875502658215,\n",
              " 0.11380878050729229,\n",
              " 0.11178551302385056,\n",
              " 0.1074355002834955,\n",
              " 0.11310065541165473,\n",
              " 0.1237228096997239,\n",
              " 0.10723316118610662,\n",
              " 0.10672734431524619,\n",
              " 0.10308548754314042,\n",
              " 0.11047040150865808,\n",
              " 0.09539706493153946,\n",
              " 0.08315629048219456,\n",
              " 0.07738996580534088,\n",
              " 0.07738996580534088,\n",
              " 0.07202831932326495,\n",
              " 0.07000505183982322,\n",
              " 0.07658067116100889,\n",
              " 0.08052603657919791,\n",
              " 0.06585734732424528,\n",
              " 0.053110756004039944,\n",
              " 0.05108748852059816,\n",
              " 0.04693981487763202,\n",
              " 0.042589771264665205,\n",
              " 0.03965603958819705,\n",
              " 0.03196761697659603,\n",
              " 0.048963082361073745,\n",
              " 0.05341426465012325,\n",
              " 0.05988871442261448,\n",
              " 0.06262013787430551,\n",
              " 0.06484571358252442,\n",
              " 0.08214465674047369,\n",
              " 0.08517955796563628,\n",
              " 0.0873039949977725,\n",
              " 0.08507838841694185,\n",
              " 0.10308548754314042,\n",
              " 0.11087504883082408,\n",
              " 0.15710672317651267,\n",
              " 0.1624683696585886,\n",
              " 0.1474962026301644,\n",
              " 0.16681841327155542,\n",
              " 0.16348000340030946,\n",
              " 0.18684874900858398,\n",
              " 0.1829033835903949,\n",
              " 0.19160343994371679,\n",
              " 0.17076377868974443,\n",
              " 0.1672230605937214,\n",
              " 0.20030346542442687,\n",
              " 0.20455233948869925,\n",
              " 0.2048558172621708,\n",
              " 0.21203842300291134,\n",
              " 0.19140110084632792,\n",
              " 0.20718259339169584,\n",
              " 0.2104198028416356,\n",
              " 0.20020232674834418,\n",
              " 0.19635810000623785,\n",
              " 0.19888718436054,\n",
              " 0.1956499749106003,\n",
              " 0.2062721291986694,\n",
              " 0.20465350903739368,\n",
              " 0.18523012884730825,\n",
              " 0.15771370959606754,\n",
              " 0.14699038575930393,\n",
              " 0.14405665408283577,\n",
              " 0.15993928530428644,\n",
              " 0.18128476342911917,\n",
              " 0.17936266549437188,\n",
              " 0.18158824120259073,\n",
              " 0.19190691771718835,\n",
              " 0.18017196013870387,\n",
              " 0.1977743810701247,\n",
              " 0.17561960830095993,\n",
              " 0.1755184387522655,\n",
              " 0.1646939762394192,\n",
              " 0.1430450203411149]"
            ]
          },
          "metadata": {
            "tags": []
          },
          "execution_count": 54
        }
      ]
    },
    {
      "cell_type": "code",
      "metadata": {
        "id": "yD4PBnCScWC2",
        "outputId": "5fe26b2c-41e8-4fa0-e4cd-a4e3a35b776e",
        "colab": {
          "base_uri": "https://localhost:8080/",
          "height": 1000
        }
      },
      "source": [
        "#predicting the next 10 days\n",
        "from numpy import array\n",
        "\n",
        "lst_output=[]\n",
        "n_steps=100\n",
        "i=0\n",
        "while(i<30):\n",
        "    \n",
        "    if(len(temp_input)>100):\n",
        "        #print(temp_input)\n",
        "        x_input=np.array(temp_input[1:])\n",
        "        print(\"{} day input {}\".format(i,x_input))\n",
        "        x_input=x_input.reshape(1,-1)\n",
        "        x_input = x_input.reshape((1, n_steps, 1))\n",
        "        #print(x_input)\n",
        "        yhat = model.predict(x_input, verbose=0)\n",
        "        print(\"{} day output {}\".format(i,yhat))\n",
        "        temp_input.extend(yhat[0].tolist())\n",
        "        temp_input=temp_input[1:]\n",
        "        #print(temp_input)\n",
        "        lst_output.extend(yhat.tolist())\n",
        "        i=i+1\n",
        "    else:\n",
        "        x_input = x_input.reshape((1, n_steps,1))\n",
        "        yhat = model.predict(x_input, verbose=0)\n",
        "        print(yhat[0])\n",
        "        temp_input.extend(yhat[0].tolist())\n",
        "        print(len(temp_input))\n",
        "        lst_output.extend(yhat.tolist())\n",
        "        i=i+1\n",
        "    \n",
        "\n",
        "print(lst_output)"
      ],
      "execution_count": 55,
      "outputs": [
        {
          "output_type": "stream",
          "text": [
            "WARNING:tensorflow:Model was constructed with shape (None, 60, 1) for input Tensor(\"lstm_2_input:0\", shape=(None, 60, 1), dtype=float32), but it was called on an input with incompatible shape (None, 100, 1).\n",
            "[0.15096252]\n",
            "101\n",
            "1 day input [0.09317146 0.09165401 0.1245321  0.13029843 0.13505309 0.16145674\n",
            " 0.15488112 0.17491148 0.17612543 0.15761254 0.14820433 0.14294385\n",
            " 0.11492158 0.09994942 0.09377844 0.0905412  0.09276681 0.11178551\n",
            " 0.10885178 0.11714719 0.12706119 0.11117856 0.10763784 0.11552857\n",
            " 0.10703085 0.10510876 0.11380878 0.11178551 0.1074355  0.11310066\n",
            " 0.12372281 0.10723316 0.10672734 0.10308549 0.1104704  0.09539706\n",
            " 0.08315629 0.07738997 0.07738997 0.07202832 0.07000505 0.07658067\n",
            " 0.08052604 0.06585735 0.05311076 0.05108749 0.04693981 0.04258977\n",
            " 0.03965604 0.03196762 0.04896308 0.05341426 0.05988871 0.06262014\n",
            " 0.06484571 0.08214466 0.08517956 0.08730399 0.08507839 0.10308549\n",
            " 0.11087505 0.15710672 0.16246837 0.1474962  0.16681841 0.16348\n",
            " 0.18684875 0.18290338 0.19160344 0.17076378 0.16722306 0.20030347\n",
            " 0.20455234 0.20485582 0.21203842 0.1914011  0.20718259 0.2104198\n",
            " 0.20020233 0.1963581  0.19888718 0.19564997 0.20627213 0.20465351\n",
            " 0.18523013 0.15771371 0.14699039 0.14405665 0.15993929 0.18128476\n",
            " 0.17936267 0.18158824 0.19190692 0.18017196 0.19777438 0.17561961\n",
            " 0.17551844 0.16469398 0.14304502 0.15096252]\n",
            "1 day output [[0.14258896]]\n",
            "2 day input [0.09165401 0.1245321  0.13029843 0.13505309 0.16145674 0.15488112\n",
            " 0.17491148 0.17612543 0.15761254 0.14820433 0.14294385 0.11492158\n",
            " 0.09994942 0.09377844 0.0905412  0.09276681 0.11178551 0.10885178\n",
            " 0.11714719 0.12706119 0.11117856 0.10763784 0.11552857 0.10703085\n",
            " 0.10510876 0.11380878 0.11178551 0.1074355  0.11310066 0.12372281\n",
            " 0.10723316 0.10672734 0.10308549 0.1104704  0.09539706 0.08315629\n",
            " 0.07738997 0.07738997 0.07202832 0.07000505 0.07658067 0.08052604\n",
            " 0.06585735 0.05311076 0.05108749 0.04693981 0.04258977 0.03965604\n",
            " 0.03196762 0.04896308 0.05341426 0.05988871 0.06262014 0.06484571\n",
            " 0.08214466 0.08517956 0.08730399 0.08507839 0.10308549 0.11087505\n",
            " 0.15710672 0.16246837 0.1474962  0.16681841 0.16348    0.18684875\n",
            " 0.18290338 0.19160344 0.17076378 0.16722306 0.20030347 0.20455234\n",
            " 0.20485582 0.21203842 0.1914011  0.20718259 0.2104198  0.20020233\n",
            " 0.1963581  0.19888718 0.19564997 0.20627213 0.20465351 0.18523013\n",
            " 0.15771371 0.14699039 0.14405665 0.15993929 0.18128476 0.17936267\n",
            " 0.18158824 0.19190692 0.18017196 0.19777438 0.17561961 0.17551844\n",
            " 0.16469398 0.14304502 0.15096252 0.14258896]\n",
            "2 day output [[0.13509965]]\n",
            "3 day input [0.1245321  0.13029843 0.13505309 0.16145674 0.15488112 0.17491148\n",
            " 0.17612543 0.15761254 0.14820433 0.14294385 0.11492158 0.09994942\n",
            " 0.09377844 0.0905412  0.09276681 0.11178551 0.10885178 0.11714719\n",
            " 0.12706119 0.11117856 0.10763784 0.11552857 0.10703085 0.10510876\n",
            " 0.11380878 0.11178551 0.1074355  0.11310066 0.12372281 0.10723316\n",
            " 0.10672734 0.10308549 0.1104704  0.09539706 0.08315629 0.07738997\n",
            " 0.07738997 0.07202832 0.07000505 0.07658067 0.08052604 0.06585735\n",
            " 0.05311076 0.05108749 0.04693981 0.04258977 0.03965604 0.03196762\n",
            " 0.04896308 0.05341426 0.05988871 0.06262014 0.06484571 0.08214466\n",
            " 0.08517956 0.08730399 0.08507839 0.10308549 0.11087505 0.15710672\n",
            " 0.16246837 0.1474962  0.16681841 0.16348    0.18684875 0.18290338\n",
            " 0.19160344 0.17076378 0.16722306 0.20030347 0.20455234 0.20485582\n",
            " 0.21203842 0.1914011  0.20718259 0.2104198  0.20020233 0.1963581\n",
            " 0.19888718 0.19564997 0.20627213 0.20465351 0.18523013 0.15771371\n",
            " 0.14699039 0.14405665 0.15993929 0.18128476 0.17936267 0.18158824\n",
            " 0.19190692 0.18017196 0.19777438 0.17561961 0.17551844 0.16469398\n",
            " 0.14304502 0.15096252 0.14258896 0.13509965]\n",
            "3 day output [[0.12811165]]\n",
            "4 day input [0.13029843 0.13505309 0.16145674 0.15488112 0.17491148 0.17612543\n",
            " 0.15761254 0.14820433 0.14294385 0.11492158 0.09994942 0.09377844\n",
            " 0.0905412  0.09276681 0.11178551 0.10885178 0.11714719 0.12706119\n",
            " 0.11117856 0.10763784 0.11552857 0.10703085 0.10510876 0.11380878\n",
            " 0.11178551 0.1074355  0.11310066 0.12372281 0.10723316 0.10672734\n",
            " 0.10308549 0.1104704  0.09539706 0.08315629 0.07738997 0.07738997\n",
            " 0.07202832 0.07000505 0.07658067 0.08052604 0.06585735 0.05311076\n",
            " 0.05108749 0.04693981 0.04258977 0.03965604 0.03196762 0.04896308\n",
            " 0.05341426 0.05988871 0.06262014 0.06484571 0.08214466 0.08517956\n",
            " 0.08730399 0.08507839 0.10308549 0.11087505 0.15710672 0.16246837\n",
            " 0.1474962  0.16681841 0.16348    0.18684875 0.18290338 0.19160344\n",
            " 0.17076378 0.16722306 0.20030347 0.20455234 0.20485582 0.21203842\n",
            " 0.1914011  0.20718259 0.2104198  0.20020233 0.1963581  0.19888718\n",
            " 0.19564997 0.20627213 0.20465351 0.18523013 0.15771371 0.14699039\n",
            " 0.14405665 0.15993929 0.18128476 0.17936267 0.18158824 0.19190692\n",
            " 0.18017196 0.19777438 0.17561961 0.17551844 0.16469398 0.14304502\n",
            " 0.15096252 0.14258896 0.13509965 0.12811165]\n",
            "4 day output [[0.12147185]]\n",
            "5 day input [0.13505309 0.16145674 0.15488112 0.17491148 0.17612543 0.15761254\n",
            " 0.14820433 0.14294385 0.11492158 0.09994942 0.09377844 0.0905412\n",
            " 0.09276681 0.11178551 0.10885178 0.11714719 0.12706119 0.11117856\n",
            " 0.10763784 0.11552857 0.10703085 0.10510876 0.11380878 0.11178551\n",
            " 0.1074355  0.11310066 0.12372281 0.10723316 0.10672734 0.10308549\n",
            " 0.1104704  0.09539706 0.08315629 0.07738997 0.07738997 0.07202832\n",
            " 0.07000505 0.07658067 0.08052604 0.06585735 0.05311076 0.05108749\n",
            " 0.04693981 0.04258977 0.03965604 0.03196762 0.04896308 0.05341426\n",
            " 0.05988871 0.06262014 0.06484571 0.08214466 0.08517956 0.08730399\n",
            " 0.08507839 0.10308549 0.11087505 0.15710672 0.16246837 0.1474962\n",
            " 0.16681841 0.16348    0.18684875 0.18290338 0.19160344 0.17076378\n",
            " 0.16722306 0.20030347 0.20455234 0.20485582 0.21203842 0.1914011\n",
            " 0.20718259 0.2104198  0.20020233 0.1963581  0.19888718 0.19564997\n",
            " 0.20627213 0.20465351 0.18523013 0.15771371 0.14699039 0.14405665\n",
            " 0.15993929 0.18128476 0.17936267 0.18158824 0.19190692 0.18017196\n",
            " 0.19777438 0.17561961 0.17551844 0.16469398 0.14304502 0.15096252\n",
            " 0.14258896 0.13509965 0.12811165 0.12147185]\n",
            "5 day output [[0.11511481]]\n",
            "6 day input [0.16145674 0.15488112 0.17491148 0.17612543 0.15761254 0.14820433\n",
            " 0.14294385 0.11492158 0.09994942 0.09377844 0.0905412  0.09276681\n",
            " 0.11178551 0.10885178 0.11714719 0.12706119 0.11117856 0.10763784\n",
            " 0.11552857 0.10703085 0.10510876 0.11380878 0.11178551 0.1074355\n",
            " 0.11310066 0.12372281 0.10723316 0.10672734 0.10308549 0.1104704\n",
            " 0.09539706 0.08315629 0.07738997 0.07738997 0.07202832 0.07000505\n",
            " 0.07658067 0.08052604 0.06585735 0.05311076 0.05108749 0.04693981\n",
            " 0.04258977 0.03965604 0.03196762 0.04896308 0.05341426 0.05988871\n",
            " 0.06262014 0.06484571 0.08214466 0.08517956 0.08730399 0.08507839\n",
            " 0.10308549 0.11087505 0.15710672 0.16246837 0.1474962  0.16681841\n",
            " 0.16348    0.18684875 0.18290338 0.19160344 0.17076378 0.16722306\n",
            " 0.20030347 0.20455234 0.20485582 0.21203842 0.1914011  0.20718259\n",
            " 0.2104198  0.20020233 0.1963581  0.19888718 0.19564997 0.20627213\n",
            " 0.20465351 0.18523013 0.15771371 0.14699039 0.14405665 0.15993929\n",
            " 0.18128476 0.17936267 0.18158824 0.19190692 0.18017196 0.19777438\n",
            " 0.17561961 0.17551844 0.16469398 0.14304502 0.15096252 0.14258896\n",
            " 0.13509965 0.12811165 0.12147185 0.11511481]\n",
            "6 day output [[0.1090042]]\n",
            "7 day input [0.15488112 0.17491148 0.17612543 0.15761254 0.14820433 0.14294385\n",
            " 0.11492158 0.09994942 0.09377844 0.0905412  0.09276681 0.11178551\n",
            " 0.10885178 0.11714719 0.12706119 0.11117856 0.10763784 0.11552857\n",
            " 0.10703085 0.10510876 0.11380878 0.11178551 0.1074355  0.11310066\n",
            " 0.12372281 0.10723316 0.10672734 0.10308549 0.1104704  0.09539706\n",
            " 0.08315629 0.07738997 0.07738997 0.07202832 0.07000505 0.07658067\n",
            " 0.08052604 0.06585735 0.05311076 0.05108749 0.04693981 0.04258977\n",
            " 0.03965604 0.03196762 0.04896308 0.05341426 0.05988871 0.06262014\n",
            " 0.06484571 0.08214466 0.08517956 0.08730399 0.08507839 0.10308549\n",
            " 0.11087505 0.15710672 0.16246837 0.1474962  0.16681841 0.16348\n",
            " 0.18684875 0.18290338 0.19160344 0.17076378 0.16722306 0.20030347\n",
            " 0.20455234 0.20485582 0.21203842 0.1914011  0.20718259 0.2104198\n",
            " 0.20020233 0.1963581  0.19888718 0.19564997 0.20627213 0.20465351\n",
            " 0.18523013 0.15771371 0.14699039 0.14405665 0.15993929 0.18128476\n",
            " 0.17936267 0.18158824 0.19190692 0.18017196 0.19777438 0.17561961\n",
            " 0.17551844 0.16469398 0.14304502 0.15096252 0.14258896 0.13509965\n",
            " 0.12811165 0.12147185 0.11511481 0.1090042 ]\n",
            "7 day output [[0.10311059]]\n",
            "8 day input [0.17491148 0.17612543 0.15761254 0.14820433 0.14294385 0.11492158\n",
            " 0.09994942 0.09377844 0.0905412  0.09276681 0.11178551 0.10885178\n",
            " 0.11714719 0.12706119 0.11117856 0.10763784 0.11552857 0.10703085\n",
            " 0.10510876 0.11380878 0.11178551 0.1074355  0.11310066 0.12372281\n",
            " 0.10723316 0.10672734 0.10308549 0.1104704  0.09539706 0.08315629\n",
            " 0.07738997 0.07738997 0.07202832 0.07000505 0.07658067 0.08052604\n",
            " 0.06585735 0.05311076 0.05108749 0.04693981 0.04258977 0.03965604\n",
            " 0.03196762 0.04896308 0.05341426 0.05988871 0.06262014 0.06484571\n",
            " 0.08214466 0.08517956 0.08730399 0.08507839 0.10308549 0.11087505\n",
            " 0.15710672 0.16246837 0.1474962  0.16681841 0.16348    0.18684875\n",
            " 0.18290338 0.19160344 0.17076378 0.16722306 0.20030347 0.20455234\n",
            " 0.20485582 0.21203842 0.1914011  0.20718259 0.2104198  0.20020233\n",
            " 0.1963581  0.19888718 0.19564997 0.20627213 0.20465351 0.18523013\n",
            " 0.15771371 0.14699039 0.14405665 0.15993929 0.18128476 0.17936267\n",
            " 0.18158824 0.19190692 0.18017196 0.19777438 0.17561961 0.17551844\n",
            " 0.16469398 0.14304502 0.15096252 0.14258896 0.13509965 0.12811165\n",
            " 0.12147185 0.11511481 0.1090042  0.10311059]\n",
            "8 day output [[0.09740414]]\n",
            "9 day input [0.17612543 0.15761254 0.14820433 0.14294385 0.11492158 0.09994942\n",
            " 0.09377844 0.0905412  0.09276681 0.11178551 0.10885178 0.11714719\n",
            " 0.12706119 0.11117856 0.10763784 0.11552857 0.10703085 0.10510876\n",
            " 0.11380878 0.11178551 0.1074355  0.11310066 0.12372281 0.10723316\n",
            " 0.10672734 0.10308549 0.1104704  0.09539706 0.08315629 0.07738997\n",
            " 0.07738997 0.07202832 0.07000505 0.07658067 0.08052604 0.06585735\n",
            " 0.05311076 0.05108749 0.04693981 0.04258977 0.03965604 0.03196762\n",
            " 0.04896308 0.05341426 0.05988871 0.06262014 0.06484571 0.08214466\n",
            " 0.08517956 0.08730399 0.08507839 0.10308549 0.11087505 0.15710672\n",
            " 0.16246837 0.1474962  0.16681841 0.16348    0.18684875 0.18290338\n",
            " 0.19160344 0.17076378 0.16722306 0.20030347 0.20455234 0.20485582\n",
            " 0.21203842 0.1914011  0.20718259 0.2104198  0.20020233 0.1963581\n",
            " 0.19888718 0.19564997 0.20627213 0.20465351 0.18523013 0.15771371\n",
            " 0.14699039 0.14405665 0.15993929 0.18128476 0.17936267 0.18158824\n",
            " 0.19190692 0.18017196 0.19777438 0.17561961 0.17551844 0.16469398\n",
            " 0.14304502 0.15096252 0.14258896 0.13509965 0.12811165 0.12147185\n",
            " 0.11511481 0.1090042  0.10311059 0.09740414]\n",
            "9 day output [[0.09185366]]\n",
            "10 day input [0.15761254 0.14820433 0.14294385 0.11492158 0.09994942 0.09377844\n",
            " 0.0905412  0.09276681 0.11178551 0.10885178 0.11714719 0.12706119\n",
            " 0.11117856 0.10763784 0.11552857 0.10703085 0.10510876 0.11380878\n",
            " 0.11178551 0.1074355  0.11310066 0.12372281 0.10723316 0.10672734\n",
            " 0.10308549 0.1104704  0.09539706 0.08315629 0.07738997 0.07738997\n",
            " 0.07202832 0.07000505 0.07658067 0.08052604 0.06585735 0.05311076\n",
            " 0.05108749 0.04693981 0.04258977 0.03965604 0.03196762 0.04896308\n",
            " 0.05341426 0.05988871 0.06262014 0.06484571 0.08214466 0.08517956\n",
            " 0.08730399 0.08507839 0.10308549 0.11087505 0.15710672 0.16246837\n",
            " 0.1474962  0.16681841 0.16348    0.18684875 0.18290338 0.19160344\n",
            " 0.17076378 0.16722306 0.20030347 0.20455234 0.20485582 0.21203842\n",
            " 0.1914011  0.20718259 0.2104198  0.20020233 0.1963581  0.19888718\n",
            " 0.19564997 0.20627213 0.20465351 0.18523013 0.15771371 0.14699039\n",
            " 0.14405665 0.15993929 0.18128476 0.17936267 0.18158824 0.19190692\n",
            " 0.18017196 0.19777438 0.17561961 0.17551844 0.16469398 0.14304502\n",
            " 0.15096252 0.14258896 0.13509965 0.12811165 0.12147185 0.11511481\n",
            " 0.1090042  0.10311059 0.09740414 0.09185366]\n",
            "10 day output [[0.08642761]]\n",
            "11 day input [0.14820433 0.14294385 0.11492158 0.09994942 0.09377844 0.0905412\n",
            " 0.09276681 0.11178551 0.10885178 0.11714719 0.12706119 0.11117856\n",
            " 0.10763784 0.11552857 0.10703085 0.10510876 0.11380878 0.11178551\n",
            " 0.1074355  0.11310066 0.12372281 0.10723316 0.10672734 0.10308549\n",
            " 0.1104704  0.09539706 0.08315629 0.07738997 0.07738997 0.07202832\n",
            " 0.07000505 0.07658067 0.08052604 0.06585735 0.05311076 0.05108749\n",
            " 0.04693981 0.04258977 0.03965604 0.03196762 0.04896308 0.05341426\n",
            " 0.05988871 0.06262014 0.06484571 0.08214466 0.08517956 0.08730399\n",
            " 0.08507839 0.10308549 0.11087505 0.15710672 0.16246837 0.1474962\n",
            " 0.16681841 0.16348    0.18684875 0.18290338 0.19160344 0.17076378\n",
            " 0.16722306 0.20030347 0.20455234 0.20485582 0.21203842 0.1914011\n",
            " 0.20718259 0.2104198  0.20020233 0.1963581  0.19888718 0.19564997\n",
            " 0.20627213 0.20465351 0.18523013 0.15771371 0.14699039 0.14405665\n",
            " 0.15993929 0.18128476 0.17936267 0.18158824 0.19190692 0.18017196\n",
            " 0.19777438 0.17561961 0.17551844 0.16469398 0.14304502 0.15096252\n",
            " 0.14258896 0.13509965 0.12811165 0.12147185 0.11511481 0.1090042\n",
            " 0.10311059 0.09740414 0.09185366 0.08642761]\n",
            "11 day output [[0.08109567]]\n",
            "12 day input [0.14294385 0.11492158 0.09994942 0.09377844 0.0905412  0.09276681\n",
            " 0.11178551 0.10885178 0.11714719 0.12706119 0.11117856 0.10763784\n",
            " 0.11552857 0.10703085 0.10510876 0.11380878 0.11178551 0.1074355\n",
            " 0.11310066 0.12372281 0.10723316 0.10672734 0.10308549 0.1104704\n",
            " 0.09539706 0.08315629 0.07738997 0.07738997 0.07202832 0.07000505\n",
            " 0.07658067 0.08052604 0.06585735 0.05311076 0.05108749 0.04693981\n",
            " 0.04258977 0.03965604 0.03196762 0.04896308 0.05341426 0.05988871\n",
            " 0.06262014 0.06484571 0.08214466 0.08517956 0.08730399 0.08507839\n",
            " 0.10308549 0.11087505 0.15710672 0.16246837 0.1474962  0.16681841\n",
            " 0.16348    0.18684875 0.18290338 0.19160344 0.17076378 0.16722306\n",
            " 0.20030347 0.20455234 0.20485582 0.21203842 0.1914011  0.20718259\n",
            " 0.2104198  0.20020233 0.1963581  0.19888718 0.19564997 0.20627213\n",
            " 0.20465351 0.18523013 0.15771371 0.14699039 0.14405665 0.15993929\n",
            " 0.18128476 0.17936267 0.18158824 0.19190692 0.18017196 0.19777438\n",
            " 0.17561961 0.17551844 0.16469398 0.14304502 0.15096252 0.14258896\n",
            " 0.13509965 0.12811165 0.12147185 0.11511481 0.1090042  0.10311059\n",
            " 0.09740414 0.09185366 0.08642761 0.08109567]\n",
            "12 day output [[0.07583007]]\n",
            "13 day input [0.11492158 0.09994942 0.09377844 0.0905412  0.09276681 0.11178551\n",
            " 0.10885178 0.11714719 0.12706119 0.11117856 0.10763784 0.11552857\n",
            " 0.10703085 0.10510876 0.11380878 0.11178551 0.1074355  0.11310066\n",
            " 0.12372281 0.10723316 0.10672734 0.10308549 0.1104704  0.09539706\n",
            " 0.08315629 0.07738997 0.07738997 0.07202832 0.07000505 0.07658067\n",
            " 0.08052604 0.06585735 0.05311076 0.05108749 0.04693981 0.04258977\n",
            " 0.03965604 0.03196762 0.04896308 0.05341426 0.05988871 0.06262014\n",
            " 0.06484571 0.08214466 0.08517956 0.08730399 0.08507839 0.10308549\n",
            " 0.11087505 0.15710672 0.16246837 0.1474962  0.16681841 0.16348\n",
            " 0.18684875 0.18290338 0.19160344 0.17076378 0.16722306 0.20030347\n",
            " 0.20455234 0.20485582 0.21203842 0.1914011  0.20718259 0.2104198\n",
            " 0.20020233 0.1963581  0.19888718 0.19564997 0.20627213 0.20465351\n",
            " 0.18523013 0.15771371 0.14699039 0.14405665 0.15993929 0.18128476\n",
            " 0.17936267 0.18158824 0.19190692 0.18017196 0.19777438 0.17561961\n",
            " 0.17551844 0.16469398 0.14304502 0.15096252 0.14258896 0.13509965\n",
            " 0.12811165 0.12147185 0.11511481 0.1090042  0.10311059 0.09740414\n",
            " 0.09185366 0.08642761 0.08109567 0.07583007]\n",
            "13 day output [[0.07060667]]\n",
            "14 day input [0.09994942 0.09377844 0.0905412  0.09276681 0.11178551 0.10885178\n",
            " 0.11714719 0.12706119 0.11117856 0.10763784 0.11552857 0.10703085\n",
            " 0.10510876 0.11380878 0.11178551 0.1074355  0.11310066 0.12372281\n",
            " 0.10723316 0.10672734 0.10308549 0.1104704  0.09539706 0.08315629\n",
            " 0.07738997 0.07738997 0.07202832 0.07000505 0.07658067 0.08052604\n",
            " 0.06585735 0.05311076 0.05108749 0.04693981 0.04258977 0.03965604\n",
            " 0.03196762 0.04896308 0.05341426 0.05988871 0.06262014 0.06484571\n",
            " 0.08214466 0.08517956 0.08730399 0.08507839 0.10308549 0.11087505\n",
            " 0.15710672 0.16246837 0.1474962  0.16681841 0.16348    0.18684875\n",
            " 0.18290338 0.19160344 0.17076378 0.16722306 0.20030347 0.20455234\n",
            " 0.20485582 0.21203842 0.1914011  0.20718259 0.2104198  0.20020233\n",
            " 0.1963581  0.19888718 0.19564997 0.20627213 0.20465351 0.18523013\n",
            " 0.15771371 0.14699039 0.14405665 0.15993929 0.18128476 0.17936267\n",
            " 0.18158824 0.19190692 0.18017196 0.19777438 0.17561961 0.17551844\n",
            " 0.16469398 0.14304502 0.15096252 0.14258896 0.13509965 0.12811165\n",
            " 0.12147185 0.11511481 0.1090042  0.10311059 0.09740414 0.09185366\n",
            " 0.08642761 0.08109567 0.07583007 0.07060667]\n",
            "14 day output [[0.06540529]]\n",
            "15 day input [0.09377844 0.0905412  0.09276681 0.11178551 0.10885178 0.11714719\n",
            " 0.12706119 0.11117856 0.10763784 0.11552857 0.10703085 0.10510876\n",
            " 0.11380878 0.11178551 0.1074355  0.11310066 0.12372281 0.10723316\n",
            " 0.10672734 0.10308549 0.1104704  0.09539706 0.08315629 0.07738997\n",
            " 0.07738997 0.07202832 0.07000505 0.07658067 0.08052604 0.06585735\n",
            " 0.05311076 0.05108749 0.04693981 0.04258977 0.03965604 0.03196762\n",
            " 0.04896308 0.05341426 0.05988871 0.06262014 0.06484571 0.08214466\n",
            " 0.08517956 0.08730399 0.08507839 0.10308549 0.11087505 0.15710672\n",
            " 0.16246837 0.1474962  0.16681841 0.16348    0.18684875 0.18290338\n",
            " 0.19160344 0.17076378 0.16722306 0.20030347 0.20455234 0.20485582\n",
            " 0.21203842 0.1914011  0.20718259 0.2104198  0.20020233 0.1963581\n",
            " 0.19888718 0.19564997 0.20627213 0.20465351 0.18523013 0.15771371\n",
            " 0.14699039 0.14405665 0.15993929 0.18128476 0.17936267 0.18158824\n",
            " 0.19190692 0.18017196 0.19777438 0.17561961 0.17551844 0.16469398\n",
            " 0.14304502 0.15096252 0.14258896 0.13509965 0.12811165 0.12147185\n",
            " 0.11511481 0.1090042  0.10311059 0.09740414 0.09185366 0.08642761\n",
            " 0.08109567 0.07583007 0.07060667 0.06540529]\n",
            "15 day output [[0.06021015]]\n",
            "16 day input [0.0905412  0.09276681 0.11178551 0.10885178 0.11714719 0.12706119\n",
            " 0.11117856 0.10763784 0.11552857 0.10703085 0.10510876 0.11380878\n",
            " 0.11178551 0.1074355  0.11310066 0.12372281 0.10723316 0.10672734\n",
            " 0.10308549 0.1104704  0.09539706 0.08315629 0.07738997 0.07738997\n",
            " 0.07202832 0.07000505 0.07658067 0.08052604 0.06585735 0.05311076\n",
            " 0.05108749 0.04693981 0.04258977 0.03965604 0.03196762 0.04896308\n",
            " 0.05341426 0.05988871 0.06262014 0.06484571 0.08214466 0.08517956\n",
            " 0.08730399 0.08507839 0.10308549 0.11087505 0.15710672 0.16246837\n",
            " 0.1474962  0.16681841 0.16348    0.18684875 0.18290338 0.19160344\n",
            " 0.17076378 0.16722306 0.20030347 0.20455234 0.20485582 0.21203842\n",
            " 0.1914011  0.20718259 0.2104198  0.20020233 0.1963581  0.19888718\n",
            " 0.19564997 0.20627213 0.20465351 0.18523013 0.15771371 0.14699039\n",
            " 0.14405665 0.15993929 0.18128476 0.17936267 0.18158824 0.19190692\n",
            " 0.18017196 0.19777438 0.17561961 0.17551844 0.16469398 0.14304502\n",
            " 0.15096252 0.14258896 0.13509965 0.12811165 0.12147185 0.11511481\n",
            " 0.1090042  0.10311059 0.09740414 0.09185366 0.08642761 0.08109567\n",
            " 0.07583007 0.07060667 0.06540529 0.06021015]\n",
            "16 day output [[0.05500945]]\n",
            "17 day input [0.09276681 0.11178551 0.10885178 0.11714719 0.12706119 0.11117856\n",
            " 0.10763784 0.11552857 0.10703085 0.10510876 0.11380878 0.11178551\n",
            " 0.1074355  0.11310066 0.12372281 0.10723316 0.10672734 0.10308549\n",
            " 0.1104704  0.09539706 0.08315629 0.07738997 0.07738997 0.07202832\n",
            " 0.07000505 0.07658067 0.08052604 0.06585735 0.05311076 0.05108749\n",
            " 0.04693981 0.04258977 0.03965604 0.03196762 0.04896308 0.05341426\n",
            " 0.05988871 0.06262014 0.06484571 0.08214466 0.08517956 0.08730399\n",
            " 0.08507839 0.10308549 0.11087505 0.15710672 0.16246837 0.1474962\n",
            " 0.16681841 0.16348    0.18684875 0.18290338 0.19160344 0.17076378\n",
            " 0.16722306 0.20030347 0.20455234 0.20485582 0.21203842 0.1914011\n",
            " 0.20718259 0.2104198  0.20020233 0.1963581  0.19888718 0.19564997\n",
            " 0.20627213 0.20465351 0.18523013 0.15771371 0.14699039 0.14405665\n",
            " 0.15993929 0.18128476 0.17936267 0.18158824 0.19190692 0.18017196\n",
            " 0.19777438 0.17561961 0.17551844 0.16469398 0.14304502 0.15096252\n",
            " 0.14258896 0.13509965 0.12811165 0.12147185 0.11511481 0.1090042\n",
            " 0.10311059 0.09740414 0.09185366 0.08642761 0.08109567 0.07583007\n",
            " 0.07060667 0.06540529 0.06021015 0.05500945]\n",
            "17 day output [[0.04979528]]\n",
            "18 day input [0.11178551 0.10885178 0.11714719 0.12706119 0.11117856 0.10763784\n",
            " 0.11552857 0.10703085 0.10510876 0.11380878 0.11178551 0.1074355\n",
            " 0.11310066 0.12372281 0.10723316 0.10672734 0.10308549 0.1104704\n",
            " 0.09539706 0.08315629 0.07738997 0.07738997 0.07202832 0.07000505\n",
            " 0.07658067 0.08052604 0.06585735 0.05311076 0.05108749 0.04693981\n",
            " 0.04258977 0.03965604 0.03196762 0.04896308 0.05341426 0.05988871\n",
            " 0.06262014 0.06484571 0.08214466 0.08517956 0.08730399 0.08507839\n",
            " 0.10308549 0.11087505 0.15710672 0.16246837 0.1474962  0.16681841\n",
            " 0.16348    0.18684875 0.18290338 0.19160344 0.17076378 0.16722306\n",
            " 0.20030347 0.20455234 0.20485582 0.21203842 0.1914011  0.20718259\n",
            " 0.2104198  0.20020233 0.1963581  0.19888718 0.19564997 0.20627213\n",
            " 0.20465351 0.18523013 0.15771371 0.14699039 0.14405665 0.15993929\n",
            " 0.18128476 0.17936267 0.18158824 0.19190692 0.18017196 0.19777438\n",
            " 0.17561961 0.17551844 0.16469398 0.14304502 0.15096252 0.14258896\n",
            " 0.13509965 0.12811165 0.12147185 0.11511481 0.1090042  0.10311059\n",
            " 0.09740414 0.09185366 0.08642761 0.08109567 0.07583007 0.07060667\n",
            " 0.06540529 0.06021015 0.05500945 0.04979528]\n",
            "18 day output [[0.04456293]]\n",
            "19 day input [0.10885178 0.11714719 0.12706119 0.11117856 0.10763784 0.11552857\n",
            " 0.10703085 0.10510876 0.11380878 0.11178551 0.1074355  0.11310066\n",
            " 0.12372281 0.10723316 0.10672734 0.10308549 0.1104704  0.09539706\n",
            " 0.08315629 0.07738997 0.07738997 0.07202832 0.07000505 0.07658067\n",
            " 0.08052604 0.06585735 0.05311076 0.05108749 0.04693981 0.04258977\n",
            " 0.03965604 0.03196762 0.04896308 0.05341426 0.05988871 0.06262014\n",
            " 0.06484571 0.08214466 0.08517956 0.08730399 0.08507839 0.10308549\n",
            " 0.11087505 0.15710672 0.16246837 0.1474962  0.16681841 0.16348\n",
            " 0.18684875 0.18290338 0.19160344 0.17076378 0.16722306 0.20030347\n",
            " 0.20455234 0.20485582 0.21203842 0.1914011  0.20718259 0.2104198\n",
            " 0.20020233 0.1963581  0.19888718 0.19564997 0.20627213 0.20465351\n",
            " 0.18523013 0.15771371 0.14699039 0.14405665 0.15993929 0.18128476\n",
            " 0.17936267 0.18158824 0.19190692 0.18017196 0.19777438 0.17561961\n",
            " 0.17551844 0.16469398 0.14304502 0.15096252 0.14258896 0.13509965\n",
            " 0.12811165 0.12147185 0.11511481 0.1090042  0.10311059 0.09740414\n",
            " 0.09185366 0.08642761 0.08109567 0.07583007 0.07060667 0.06540529\n",
            " 0.06021015 0.05500945 0.04979528 0.04456293]\n",
            "19 day output [[0.03931044]]\n",
            "20 day input [0.11714719 0.12706119 0.11117856 0.10763784 0.11552857 0.10703085\n",
            " 0.10510876 0.11380878 0.11178551 0.1074355  0.11310066 0.12372281\n",
            " 0.10723316 0.10672734 0.10308549 0.1104704  0.09539706 0.08315629\n",
            " 0.07738997 0.07738997 0.07202832 0.07000505 0.07658067 0.08052604\n",
            " 0.06585735 0.05311076 0.05108749 0.04693981 0.04258977 0.03965604\n",
            " 0.03196762 0.04896308 0.05341426 0.05988871 0.06262014 0.06484571\n",
            " 0.08214466 0.08517956 0.08730399 0.08507839 0.10308549 0.11087505\n",
            " 0.15710672 0.16246837 0.1474962  0.16681841 0.16348    0.18684875\n",
            " 0.18290338 0.19160344 0.17076378 0.16722306 0.20030347 0.20455234\n",
            " 0.20485582 0.21203842 0.1914011  0.20718259 0.2104198  0.20020233\n",
            " 0.1963581  0.19888718 0.19564997 0.20627213 0.20465351 0.18523013\n",
            " 0.15771371 0.14699039 0.14405665 0.15993929 0.18128476 0.17936267\n",
            " 0.18158824 0.19190692 0.18017196 0.19777438 0.17561961 0.17551844\n",
            " 0.16469398 0.14304502 0.15096252 0.14258896 0.13509965 0.12811165\n",
            " 0.12147185 0.11511481 0.1090042  0.10311059 0.09740414 0.09185366\n",
            " 0.08642761 0.08109567 0.07583007 0.07060667 0.06540529 0.06021015\n",
            " 0.05500945 0.04979528 0.04456293 0.03931044]\n",
            "20 day output [[0.03403804]]\n",
            "21 day input [0.12706119 0.11117856 0.10763784 0.11552857 0.10703085 0.10510876\n",
            " 0.11380878 0.11178551 0.1074355  0.11310066 0.12372281 0.10723316\n",
            " 0.10672734 0.10308549 0.1104704  0.09539706 0.08315629 0.07738997\n",
            " 0.07738997 0.07202832 0.07000505 0.07658067 0.08052604 0.06585735\n",
            " 0.05311076 0.05108749 0.04693981 0.04258977 0.03965604 0.03196762\n",
            " 0.04896308 0.05341426 0.05988871 0.06262014 0.06484571 0.08214466\n",
            " 0.08517956 0.08730399 0.08507839 0.10308549 0.11087505 0.15710672\n",
            " 0.16246837 0.1474962  0.16681841 0.16348    0.18684875 0.18290338\n",
            " 0.19160344 0.17076378 0.16722306 0.20030347 0.20455234 0.20485582\n",
            " 0.21203842 0.1914011  0.20718259 0.2104198  0.20020233 0.1963581\n",
            " 0.19888718 0.19564997 0.20627213 0.20465351 0.18523013 0.15771371\n",
            " 0.14699039 0.14405665 0.15993929 0.18128476 0.17936267 0.18158824\n",
            " 0.19190692 0.18017196 0.19777438 0.17561961 0.17551844 0.16469398\n",
            " 0.14304502 0.15096252 0.14258896 0.13509965 0.12811165 0.12147185\n",
            " 0.11511481 0.1090042  0.10311059 0.09740414 0.09185366 0.08642761\n",
            " 0.08109567 0.07583007 0.07060667 0.06540529 0.06021015 0.05500945\n",
            " 0.04979528 0.04456293 0.03931044 0.03403804]\n",
            "21 day output [[0.02874759]]\n",
            "22 day input [0.11117856 0.10763784 0.11552857 0.10703085 0.10510876 0.11380878\n",
            " 0.11178551 0.1074355  0.11310066 0.12372281 0.10723316 0.10672734\n",
            " 0.10308549 0.1104704  0.09539706 0.08315629 0.07738997 0.07738997\n",
            " 0.07202832 0.07000505 0.07658067 0.08052604 0.06585735 0.05311076\n",
            " 0.05108749 0.04693981 0.04258977 0.03965604 0.03196762 0.04896308\n",
            " 0.05341426 0.05988871 0.06262014 0.06484571 0.08214466 0.08517956\n",
            " 0.08730399 0.08507839 0.10308549 0.11087505 0.15710672 0.16246837\n",
            " 0.1474962  0.16681841 0.16348    0.18684875 0.18290338 0.19160344\n",
            " 0.17076378 0.16722306 0.20030347 0.20455234 0.20485582 0.21203842\n",
            " 0.1914011  0.20718259 0.2104198  0.20020233 0.1963581  0.19888718\n",
            " 0.19564997 0.20627213 0.20465351 0.18523013 0.15771371 0.14699039\n",
            " 0.14405665 0.15993929 0.18128476 0.17936267 0.18158824 0.19190692\n",
            " 0.18017196 0.19777438 0.17561961 0.17551844 0.16469398 0.14304502\n",
            " 0.15096252 0.14258896 0.13509965 0.12811165 0.12147185 0.11511481\n",
            " 0.1090042  0.10311059 0.09740414 0.09185366 0.08642761 0.08109567\n",
            " 0.07583007 0.07060667 0.06540529 0.06021015 0.05500945 0.04979528\n",
            " 0.04456293 0.03931044 0.03403804 0.02874759]\n",
            "22 day output [[0.02344201]]\n",
            "23 day input [0.10763784 0.11552857 0.10703085 0.10510876 0.11380878 0.11178551\n",
            " 0.1074355  0.11310066 0.12372281 0.10723316 0.10672734 0.10308549\n",
            " 0.1104704  0.09539706 0.08315629 0.07738997 0.07738997 0.07202832\n",
            " 0.07000505 0.07658067 0.08052604 0.06585735 0.05311076 0.05108749\n",
            " 0.04693981 0.04258977 0.03965604 0.03196762 0.04896308 0.05341426\n",
            " 0.05988871 0.06262014 0.06484571 0.08214466 0.08517956 0.08730399\n",
            " 0.08507839 0.10308549 0.11087505 0.15710672 0.16246837 0.1474962\n",
            " 0.16681841 0.16348    0.18684875 0.18290338 0.19160344 0.17076378\n",
            " 0.16722306 0.20030347 0.20455234 0.20485582 0.21203842 0.1914011\n",
            " 0.20718259 0.2104198  0.20020233 0.1963581  0.19888718 0.19564997\n",
            " 0.20627213 0.20465351 0.18523013 0.15771371 0.14699039 0.14405665\n",
            " 0.15993929 0.18128476 0.17936267 0.18158824 0.19190692 0.18017196\n",
            " 0.19777438 0.17561961 0.17551844 0.16469398 0.14304502 0.15096252\n",
            " 0.14258896 0.13509965 0.12811165 0.12147185 0.11511481 0.1090042\n",
            " 0.10311059 0.09740414 0.09185366 0.08642761 0.08109567 0.07583007\n",
            " 0.07060667 0.06540529 0.06021015 0.05500945 0.04979528 0.04456293\n",
            " 0.03931044 0.03403804 0.02874759 0.02344201]\n",
            "23 day output [[0.01812498]]\n",
            "24 day input [0.11552857 0.10703085 0.10510876 0.11380878 0.11178551 0.1074355\n",
            " 0.11310066 0.12372281 0.10723316 0.10672734 0.10308549 0.1104704\n",
            " 0.09539706 0.08315629 0.07738997 0.07738997 0.07202832 0.07000505\n",
            " 0.07658067 0.08052604 0.06585735 0.05311076 0.05108749 0.04693981\n",
            " 0.04258977 0.03965604 0.03196762 0.04896308 0.05341426 0.05988871\n",
            " 0.06262014 0.06484571 0.08214466 0.08517956 0.08730399 0.08507839\n",
            " 0.10308549 0.11087505 0.15710672 0.16246837 0.1474962  0.16681841\n",
            " 0.16348    0.18684875 0.18290338 0.19160344 0.17076378 0.16722306\n",
            " 0.20030347 0.20455234 0.20485582 0.21203842 0.1914011  0.20718259\n",
            " 0.2104198  0.20020233 0.1963581  0.19888718 0.19564997 0.20627213\n",
            " 0.20465351 0.18523013 0.15771371 0.14699039 0.14405665 0.15993929\n",
            " 0.18128476 0.17936267 0.18158824 0.19190692 0.18017196 0.19777438\n",
            " 0.17561961 0.17551844 0.16469398 0.14304502 0.15096252 0.14258896\n",
            " 0.13509965 0.12811165 0.12147185 0.11511481 0.1090042  0.10311059\n",
            " 0.09740414 0.09185366 0.08642761 0.08109567 0.07583007 0.07060667\n",
            " 0.06540529 0.06021015 0.05500945 0.04979528 0.04456293 0.03931044\n",
            " 0.03403804 0.02874759 0.02344201 0.01812498]\n",
            "24 day output [[0.01280048]]\n",
            "25 day input [0.10703085 0.10510876 0.11380878 0.11178551 0.1074355  0.11310066\n",
            " 0.12372281 0.10723316 0.10672734 0.10308549 0.1104704  0.09539706\n",
            " 0.08315629 0.07738997 0.07738997 0.07202832 0.07000505 0.07658067\n",
            " 0.08052604 0.06585735 0.05311076 0.05108749 0.04693981 0.04258977\n",
            " 0.03965604 0.03196762 0.04896308 0.05341426 0.05988871 0.06262014\n",
            " 0.06484571 0.08214466 0.08517956 0.08730399 0.08507839 0.10308549\n",
            " 0.11087505 0.15710672 0.16246837 0.1474962  0.16681841 0.16348\n",
            " 0.18684875 0.18290338 0.19160344 0.17076378 0.16722306 0.20030347\n",
            " 0.20455234 0.20485582 0.21203842 0.1914011  0.20718259 0.2104198\n",
            " 0.20020233 0.1963581  0.19888718 0.19564997 0.20627213 0.20465351\n",
            " 0.18523013 0.15771371 0.14699039 0.14405665 0.15993929 0.18128476\n",
            " 0.17936267 0.18158824 0.19190692 0.18017196 0.19777438 0.17561961\n",
            " 0.17551844 0.16469398 0.14304502 0.15096252 0.14258896 0.13509965\n",
            " 0.12811165 0.12147185 0.11511481 0.1090042  0.10311059 0.09740414\n",
            " 0.09185366 0.08642761 0.08109567 0.07583007 0.07060667 0.06540529\n",
            " 0.06021015 0.05500945 0.04979528 0.04456293 0.03931044 0.03403804\n",
            " 0.02874759 0.02344201 0.01812498 0.01280048]\n",
            "25 day output [[0.00747258]]\n",
            "26 day input [0.10510876 0.11380878 0.11178551 0.1074355  0.11310066 0.12372281\n",
            " 0.10723316 0.10672734 0.10308549 0.1104704  0.09539706 0.08315629\n",
            " 0.07738997 0.07738997 0.07202832 0.07000505 0.07658067 0.08052604\n",
            " 0.06585735 0.05311076 0.05108749 0.04693981 0.04258977 0.03965604\n",
            " 0.03196762 0.04896308 0.05341426 0.05988871 0.06262014 0.06484571\n",
            " 0.08214466 0.08517956 0.08730399 0.08507839 0.10308549 0.11087505\n",
            " 0.15710672 0.16246837 0.1474962  0.16681841 0.16348    0.18684875\n",
            " 0.18290338 0.19160344 0.17076378 0.16722306 0.20030347 0.20455234\n",
            " 0.20485582 0.21203842 0.1914011  0.20718259 0.2104198  0.20020233\n",
            " 0.1963581  0.19888718 0.19564997 0.20627213 0.20465351 0.18523013\n",
            " 0.15771371 0.14699039 0.14405665 0.15993929 0.18128476 0.17936267\n",
            " 0.18158824 0.19190692 0.18017196 0.19777438 0.17561961 0.17551844\n",
            " 0.16469398 0.14304502 0.15096252 0.14258896 0.13509965 0.12811165\n",
            " 0.12147185 0.11511481 0.1090042  0.10311059 0.09740414 0.09185366\n",
            " 0.08642761 0.08109567 0.07583007 0.07060667 0.06540529 0.06021015\n",
            " 0.05500945 0.04979528 0.04456293 0.03931044 0.03403804 0.02874759\n",
            " 0.02344201 0.01812498 0.01280048 0.00747258]\n",
            "26 day output [[0.00214516]]\n",
            "27 day input [0.11380878 0.11178551 0.1074355  0.11310066 0.12372281 0.10723316\n",
            " 0.10672734 0.10308549 0.1104704  0.09539706 0.08315629 0.07738997\n",
            " 0.07738997 0.07202832 0.07000505 0.07658067 0.08052604 0.06585735\n",
            " 0.05311076 0.05108749 0.04693981 0.04258977 0.03965604 0.03196762\n",
            " 0.04896308 0.05341426 0.05988871 0.06262014 0.06484571 0.08214466\n",
            " 0.08517956 0.08730399 0.08507839 0.10308549 0.11087505 0.15710672\n",
            " 0.16246837 0.1474962  0.16681841 0.16348    0.18684875 0.18290338\n",
            " 0.19160344 0.17076378 0.16722306 0.20030347 0.20455234 0.20485582\n",
            " 0.21203842 0.1914011  0.20718259 0.2104198  0.20020233 0.1963581\n",
            " 0.19888718 0.19564997 0.20627213 0.20465351 0.18523013 0.15771371\n",
            " 0.14699039 0.14405665 0.15993929 0.18128476 0.17936267 0.18158824\n",
            " 0.19190692 0.18017196 0.19777438 0.17561961 0.17551844 0.16469398\n",
            " 0.14304502 0.15096252 0.14258896 0.13509965 0.12811165 0.12147185\n",
            " 0.11511481 0.1090042  0.10311059 0.09740414 0.09185366 0.08642761\n",
            " 0.08109567 0.07583007 0.07060667 0.06540529 0.06021015 0.05500945\n",
            " 0.04979528 0.04456293 0.03931044 0.03403804 0.02874759 0.02344201\n",
            " 0.01812498 0.01280048 0.00747258 0.00214516]\n",
            "27 day output [[-0.00317815]]\n",
            "28 day input [ 0.11178551  0.1074355   0.11310066  0.12372281  0.10723316  0.10672734\n",
            "  0.10308549  0.1104704   0.09539706  0.08315629  0.07738997  0.07738997\n",
            "  0.07202832  0.07000505  0.07658067  0.08052604  0.06585735  0.05311076\n",
            "  0.05108749  0.04693981  0.04258977  0.03965604  0.03196762  0.04896308\n",
            "  0.05341426  0.05988871  0.06262014  0.06484571  0.08214466  0.08517956\n",
            "  0.08730399  0.08507839  0.10308549  0.11087505  0.15710672  0.16246837\n",
            "  0.1474962   0.16681841  0.16348     0.18684875  0.18290338  0.19160344\n",
            "  0.17076378  0.16722306  0.20030347  0.20455234  0.20485582  0.21203842\n",
            "  0.1914011   0.20718259  0.2104198   0.20020233  0.1963581   0.19888718\n",
            "  0.19564997  0.20627213  0.20465351  0.18523013  0.15771371  0.14699039\n",
            "  0.14405665  0.15993929  0.18128476  0.17936267  0.18158824  0.19190692\n",
            "  0.18017196  0.19777438  0.17561961  0.17551844  0.16469398  0.14304502\n",
            "  0.15096252  0.14258896  0.13509965  0.12811165  0.12147185  0.11511481\n",
            "  0.1090042   0.10311059  0.09740414  0.09185366  0.08642761  0.08109567\n",
            "  0.07583007  0.07060667  0.06540529  0.06021015  0.05500945  0.04979528\n",
            "  0.04456293  0.03931044  0.03403804  0.02874759  0.02344201  0.01812498\n",
            "  0.01280048  0.00747258  0.00214516 -0.00317815]\n",
            "28 day output [[-0.00849408]]\n",
            "29 day input [ 0.1074355   0.11310066  0.12372281  0.10723316  0.10672734  0.10308549\n",
            "  0.1104704   0.09539706  0.08315629  0.07738997  0.07738997  0.07202832\n",
            "  0.07000505  0.07658067  0.08052604  0.06585735  0.05311076  0.05108749\n",
            "  0.04693981  0.04258977  0.03965604  0.03196762  0.04896308  0.05341426\n",
            "  0.05988871  0.06262014  0.06484571  0.08214466  0.08517956  0.08730399\n",
            "  0.08507839  0.10308549  0.11087505  0.15710672  0.16246837  0.1474962\n",
            "  0.16681841  0.16348     0.18684875  0.18290338  0.19160344  0.17076378\n",
            "  0.16722306  0.20030347  0.20455234  0.20485582  0.21203842  0.1914011\n",
            "  0.20718259  0.2104198   0.20020233  0.1963581   0.19888718  0.19564997\n",
            "  0.20627213  0.20465351  0.18523013  0.15771371  0.14699039  0.14405665\n",
            "  0.15993929  0.18128476  0.17936267  0.18158824  0.19190692  0.18017196\n",
            "  0.19777438  0.17561961  0.17551844  0.16469398  0.14304502  0.15096252\n",
            "  0.14258896  0.13509965  0.12811165  0.12147185  0.11511481  0.1090042\n",
            "  0.10311059  0.09740414  0.09185366  0.08642761  0.08109567  0.07583007\n",
            "  0.07060667  0.06540529  0.06021015  0.05500945  0.04979528  0.04456293\n",
            "  0.03931044  0.03403804  0.02874759  0.02344201  0.01812498  0.01280048\n",
            "  0.00747258  0.00214516 -0.00317815 -0.00849408]\n",
            "29 day output [[-0.01379983]]\n",
            "[[0.15096251666545868], [0.14258895814418793], [0.1350996494293213], [0.12811164557933807], [0.12147185206413269], [0.11511480808258057], [0.1090041995048523], [0.10311058908700943], [0.09740413725376129], [0.09185366332530975], [0.08642760664224625], [0.08109567314386368], [0.07583007216453552], [0.07060667127370834], [0.06540529429912567], [0.060210153460502625], [0.055009447038173676], [0.049795277416706085], [0.044562928378582], [0.03931044042110443], [0.03403804451227188], [0.028747590258717537], [0.023442009463906288], [0.018124982714653015], [0.012800482101738453], [0.00747258123010397], [0.0021451618522405624], [-0.0031781457364559174], [-0.008494079113006592], [-0.013799825683236122]]\n"
          ],
          "name": "stdout"
        }
      ]
    },
    {
      "cell_type": "code",
      "metadata": {
        "id": "5s3IrPNZcps5"
      },
      "source": [
        "day_new=np.arange(1,101)\n",
        "day_pred=np.arange(101,131)"
      ],
      "execution_count": 56,
      "outputs": []
    },
    {
      "cell_type": "code",
      "metadata": {
        "id": "FauilxhLcss7"
      },
      "source": [
        "import matplotlib.pyplot as plt"
      ],
      "execution_count": 57,
      "outputs": []
    },
    {
      "cell_type": "code",
      "metadata": {
        "id": "C2S0OuBZdHFb",
        "outputId": "d3a9621b-0507-41e7-c0d6-babe71349422",
        "colab": {
          "base_uri": "https://localhost:8080/",
          "height": 1000
        }
      },
      "source": [
        "day_new,scaler.inverse_transform(scaled_data[1136:])"
      ],
      "execution_count": 58,
      "outputs": [
        {
          "output_type": "execute_result",
          "data": {
            "text/plain": [
              "(array([  1,   2,   3,   4,   5,   6,   7,   8,   9,  10,  11,  12,  13,\n",
              "         14,  15,  16,  17,  18,  19,  20,  21,  22,  23,  24,  25,  26,\n",
              "         27,  28,  29,  30,  31,  32,  33,  34,  35,  36,  37,  38,  39,\n",
              "         40,  41,  42,  43,  44,  45,  46,  47,  48,  49,  50,  51,  52,\n",
              "         53,  54,  55,  56,  57,  58,  59,  60,  61,  62,  63,  64,  65,\n",
              "         66,  67,  68,  69,  70,  71,  72,  73,  74,  75,  76,  77,  78,\n",
              "         79,  80,  81,  82,  83,  84,  85,  86,  87,  88,  89,  90,  91,\n",
              "         92,  93,  94,  95,  96,  97,  98,  99, 100]), array([[165.19999695],\n",
              "        [164.44999695],\n",
              "        [180.69999695],\n",
              "        [183.55000305],\n",
              "        [185.8999939 ],\n",
              "        [198.94999695],\n",
              "        [195.69999695],\n",
              "        [205.6000061 ],\n",
              "        [206.19999695],\n",
              "        [197.05000305],\n",
              "        [192.3999939 ],\n",
              "        [189.80000305],\n",
              "        [175.94999695],\n",
              "        [168.55000305],\n",
              "        [165.5       ],\n",
              "        [163.8999939 ],\n",
              "        [165.        ],\n",
              "        [174.3999939 ],\n",
              "        [172.94999695],\n",
              "        [177.05000305],\n",
              "        [181.94999695],\n",
              "        [174.1000061 ],\n",
              "        [172.3500061 ],\n",
              "        [176.25      ],\n",
              "        [172.05000305],\n",
              "        [171.1000061 ],\n",
              "        [175.3999939 ],\n",
              "        [174.3999939 ],\n",
              "        [172.25      ],\n",
              "        [175.05000305],\n",
              "        [180.30000305],\n",
              "        [172.1499939 ],\n",
              "        [171.8999939 ],\n",
              "        [170.1000061 ],\n",
              "        [173.75      ],\n",
              "        [166.30000305],\n",
              "        [160.25      ],\n",
              "        [157.3999939 ],\n",
              "        [157.3999939 ],\n",
              "        [154.75      ],\n",
              "        [153.75      ],\n",
              "        [157.        ],\n",
              "        [158.94999695],\n",
              "        [151.69999695],\n",
              "        [145.3999939 ],\n",
              "        [144.3999939 ],\n",
              "        [142.3500061 ],\n",
              "        [140.19999695],\n",
              "        [138.75      ],\n",
              "        [134.94999695],\n",
              "        [143.3500061 ],\n",
              "        [145.55000305],\n",
              "        [148.75      ],\n",
              "        [150.1000061 ],\n",
              "        [151.19999695],\n",
              "        [159.75      ],\n",
              "        [161.25      ],\n",
              "        [162.30000305],\n",
              "        [161.19999695],\n",
              "        [170.1000061 ],\n",
              "        [173.94999695],\n",
              "        [196.80000305],\n",
              "        [199.44999695],\n",
              "        [192.05000305],\n",
              "        [201.6000061 ],\n",
              "        [199.94999695],\n",
              "        [211.5       ],\n",
              "        [209.55000305],\n",
              "        [213.8500061 ],\n",
              "        [203.55000305],\n",
              "        [201.80000305],\n",
              "        [218.1499939 ],\n",
              "        [220.25      ],\n",
              "        [220.3999939 ],\n",
              "        [223.94999695],\n",
              "        [213.75      ],\n",
              "        [221.55000305],\n",
              "        [223.1499939 ],\n",
              "        [218.1000061 ],\n",
              "        [216.19999695],\n",
              "        [217.44999695],\n",
              "        [215.8500061 ],\n",
              "        [221.1000061 ],\n",
              "        [220.30000305],\n",
              "        [210.69999695],\n",
              "        [197.1000061 ],\n",
              "        [191.80000305],\n",
              "        [190.3500061 ],\n",
              "        [198.19999695],\n",
              "        [208.75      ],\n",
              "        [207.80000305],\n",
              "        [208.8999939 ],\n",
              "        [214.        ],\n",
              "        [208.19999695],\n",
              "        [216.8999939 ],\n",
              "        [205.94999695],\n",
              "        [205.8999939 ],\n",
              "        [200.55000305],\n",
              "        [189.8500061 ]]))"
            ]
          },
          "metadata": {
            "tags": []
          },
          "execution_count": 58
        }
      ]
    },
    {
      "cell_type": "code",
      "metadata": {
        "id": "ucT6aPkdcu3G",
        "outputId": "186f7635-d03d-4f1c-c72f-5870f63aba70",
        "colab": {
          "base_uri": "https://localhost:8080/",
          "height": 554
        }
      },
      "source": [
        "#Predictions of 13 october to 23 october.\n",
        "day_pred,scaler.inverse_transform(lst_output)"
      ],
      "execution_count": 59,
      "outputs": [
        {
          "output_type": "execute_result",
          "data": {
            "text/plain": [
              "(array([101, 102, 103, 104, 105, 106, 107, 108, 109, 110, 111, 112, 113,\n",
              "        114, 115, 116, 117, 118, 119, 120, 121, 122, 123, 124, 125, 126,\n",
              "        127, 128, 129, 130]), array([[193.76322884],\n",
              "        [189.62459735],\n",
              "        [185.92300635],\n",
              "        [182.46918529],\n",
              "        [179.18746719],\n",
              "        [176.04549806],\n",
              "        [173.02532963],\n",
              "        [170.11241254],\n",
              "        [167.29199859],\n",
              "        [164.54867673],\n",
              "        [161.86684809],\n",
              "        [159.23153983],\n",
              "        [156.62901643],\n",
              "        [154.04735042],\n",
              "        [151.47656973],\n",
              "        [148.90887125],\n",
              "        [146.33842198],\n",
              "        [143.76131853],\n",
              "        [141.1752299 ],\n",
              "        [138.5791876 ],\n",
              "        [135.97330581],\n",
              "        [133.35849867],\n",
              "        [130.73621524],\n",
              "        [128.10827465],\n",
              "        [125.4766401 ],\n",
              "        [122.84332497],\n",
              "        [120.21024782],\n",
              "        [117.57920292],\n",
              "        [114.95180273],\n",
              "        [112.32943737]]))"
            ]
          },
          "metadata": {
            "tags": []
          },
          "execution_count": 59
        }
      ]
    },
    {
      "cell_type": "code",
      "metadata": {
        "id": "dslFl60AehUB",
        "outputId": "e44d70c0-b086-42c4-a7cc-8d24a1830822",
        "colab": {
          "base_uri": "https://localhost:8080/",
          "height": 299
        }
      },
      "source": [
        "plt.plot(day_new,scaler.inverse_transform(scaled_data[1135:]))\n",
        "plt.plot(day_pred,scaler.inverse_transform(lst_output))"
      ],
      "execution_count": 60,
      "outputs": [
        {
          "output_type": "execute_result",
          "data": {
            "text/plain": [
              "[<matplotlib.lines.Line2D at 0x7f8ccf6deb38>]"
            ]
          },
          "metadata": {
            "tags": []
          },
          "execution_count": 60
        },
        {
          "output_type": "display_data",
          "data": {
            "image/png": "[encoded data removed]",
            "text/plain": [
              "<Figure size 432x288 with 1 Axes>"
            ]
          },
          "metadata": {
            "tags": []
          }
        }
      ]
    },
    {
      "cell_type": "code",
      "metadata": {
        "id": "OQLnGiqtjBRS"
      },
      "source": [
        "#Create a new dataframe to predict the next day open price 19th oct.\n",
        "#new_df = df.filter(['Open'])\n",
        "#Get teh last 60 day closing price \n",
        "###last_60_days = new_df[-60:].values\n",
        "#Scale the data to be values between 0 and 1\n",
        "#last_60_days_scaled = scaler.transform(last_60_days)\n",
        "#Create an empty list\n",
        "#X_test = []\n",
        "#Append teh past 60 days\n",
        "#X_test.append(last_60_days_scaled)\n",
        "#Convert the X_test data set to a numpy array\n",
        "#X_test = np.array(X_test)\n",
        "#Reshape the data\n",
        "#X_test = np.reshape(X_test, (X_test.shape[0], X_test.shape[1], 1))\n",
        "#Get the predicted scaled price\n",
        "#pred_price_open = model.predict(X_test)\n",
        "#undo the scaling \n",
        "#pred_price_open = scaler.inverse_transform(pred_price_open)"
      ],
      "execution_count": 61,
      "outputs": []
    },
    {
      "cell_type": "code",
      "metadata": {
        "id": "AX2AIH6xjP6m"
      },
      "source": [
        "#getting the Last 60 data to predict the next day ie...8th october with 99% accuracy.\n",
        "#pred_price_open"
      ],
      "execution_count": 62,
      "outputs": []
    }
  ]
}