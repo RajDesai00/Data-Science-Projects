{
 "cells": [
  {
   "cell_type": "markdown",
   "id": "stone-harris",
   "metadata": {},
   "source": [
    "###### Task 10: You need to classify the reviews from the IMDB dataset into positive and negative reviews\n",
    "###### Dataset:IMDB \n",
    "###### Layers: 1 LSTM, 1 Dense \n",
    "###### No of units: 32, 1 \n",
    "###### Activation Function: tanh in the first layer and tanh in the final layer \n",
    "###### Optimizer: rmsprop Learning rate:0.00001"
   ]
  },
  {
   "cell_type": "markdown",
   "id": "sonic-screening",
   "metadata": {},
   "source": [
    "###### Raj Desai_20030242054"
   ]
  },
  {
   "cell_type": "code",
   "execution_count": 1,
   "id": "coastal-columbus",
   "metadata": {},
   "outputs": [],
   "source": [
    "# Importing the libraries required\n",
    "from __future__ import print_function\n",
    "from keras.preprocessing import sequence\n",
    "from keras.models import Sequential\n",
    "from keras.layers import Dense, Embedding\n",
    "from keras.layers import LSTM\n",
    "from keras.datasets import imdb\n",
    "from tensorflow.keras.optimizers import RMSprop"
   ]
  },
  {
   "cell_type": "code",
   "execution_count": 2,
   "id": "defensive-heating",
   "metadata": {},
   "outputs": [],
   "source": [
    "max_features = 20000\n",
    "maxlen = 80  # cut texts after this number of words (among top max_features most common words)\n",
    "batch_size = 32"
   ]
  },
  {
   "cell_type": "code",
   "execution_count": 3,
   "id": "significant-combination",
   "metadata": {},
   "outputs": [
    {
     "name": "stdout",
     "output_type": "stream",
     "text": [
      "Loading data...\n"
     ]
    },
    {
     "name": "stderr",
     "output_type": "stream",
     "text": [
      "<__array_function__ internals>:5: VisibleDeprecationWarning: Creating an ndarray from ragged nested sequences (which is a list-or-tuple of lists-or-tuples-or ndarrays with different lengths or shapes) is deprecated. If you meant to do this, you must specify 'dtype=object' when creating the ndarray\n",
      "c:\\users\\hp\\appdata\\local\\programs\\python\\python38\\lib\\site-packages\\tensorflow\\python\\keras\\datasets\\imdb.py:159: VisibleDeprecationWarning: Creating an ndarray from ragged nested sequences (which is a list-or-tuple of lists-or-tuples-or ndarrays with different lengths or shapes) is deprecated. If you meant to do this, you must specify 'dtype=object' when creating the ndarray\n",
      "  x_train, y_train = np.array(xs[:idx]), np.array(labels[:idx])\n"
     ]
    },
    {
     "name": "stdout",
     "output_type": "stream",
     "text": [
      "25000 train sequences\n",
      "25000 test sequences\n"
     ]
    },
    {
     "name": "stderr",
     "output_type": "stream",
     "text": [
      "c:\\users\\hp\\appdata\\local\\programs\\python\\python38\\lib\\site-packages\\tensorflow\\python\\keras\\datasets\\imdb.py:160: VisibleDeprecationWarning: Creating an ndarray from ragged nested sequences (which is a list-or-tuple of lists-or-tuples-or ndarrays with different lengths or shapes) is deprecated. If you meant to do this, you must specify 'dtype=object' when creating the ndarray\n",
      "  x_test, y_test = np.array(xs[idx:]), np.array(labels[idx:])\n"
     ]
    }
   ],
   "source": [
    "# Loading the IMDB dataset\n",
    "print('Loading data...')\n",
    "(x_train, y_train), (x_test, y_test) = imdb.load_data(num_words=max_features)\n",
    "print(len(x_train), 'train sequences')\n",
    "print(len(x_test), 'test sequences')"
   ]
  },
  {
   "cell_type": "code",
   "execution_count": 4,
   "id": "dietary-milan",
   "metadata": {},
   "outputs": [
    {
     "name": "stdout",
     "output_type": "stream",
     "text": [
      "Pad sequences (samples x time)\n",
      "x_train shape: (25000, 80)\n",
      "x_test shape: (25000, 80)\n"
     ]
    }
   ],
   "source": [
    "print('Pad sequences (samples x time)')\n",
    "x_train = sequence.pad_sequences(x_train, maxlen=maxlen)\n",
    "x_test = sequence.pad_sequences(x_test, maxlen=maxlen)\n",
    "print('x_train shape:', x_train.shape)\n",
    "print('x_test shape:', x_test.shape)"
   ]
  },
  {
   "cell_type": "markdown",
   "id": "blocked-shift",
   "metadata": {},
   "source": [
    "###### Building LSTM model"
   ]
  },
  {
   "cell_type": "code",
   "execution_count": 5,
   "id": "metric-croatia",
   "metadata": {},
   "outputs": [
    {
     "name": "stdout",
     "output_type": "stream",
     "text": [
      "Build model...\n"
     ]
    }
   ],
   "source": [
    "print('Build model...')\n",
    "model = Sequential()\n",
    "model.add(Embedding(max_features, 128))\n",
    "model.add(LSTM(32, dropout=0.2, recurrent_dropout=0.2,activation='tanh'))\n",
    "model.add(Dense(1, activation='tanh'))"
   ]
  },
  {
   "cell_type": "code",
   "execution_count": 6,
   "id": "antique-dayton",
   "metadata": {},
   "outputs": [
    {
     "name": "stdout",
     "output_type": "stream",
     "text": [
      "Model: \"sequential\"\n",
      "_________________________________________________________________\n",
      "Layer (type)                 Output Shape              Param #   \n",
      "=================================================================\n",
      "embedding (Embedding)        (None, None, 128)         2560000   \n",
      "_________________________________________________________________\n",
      "lstm (LSTM)                  (None, 32)                20608     \n",
      "_________________________________________________________________\n",
      "dense (Dense)                (None, 1)                 33        \n",
      "=================================================================\n",
      "Total params: 2,580,641\n",
      "Trainable params: 2,580,641\n",
      "Non-trainable params: 0\n",
      "_________________________________________________________________\n"
     ]
    }
   ],
   "source": [
    "model.summary()"
   ]
  },
  {
   "cell_type": "code",
   "execution_count": 7,
   "id": "lightweight-geneva",
   "metadata": {},
   "outputs": [
    {
     "name": "stdout",
     "output_type": "stream",
     "text": [
      "Train...\n",
      "Epoch 1/20\n",
      "782/782 [==============================] - 126s 151ms/step - loss: 4.0358 - accuracy: 0.5019 - val_loss: 1.5304 - val_accuracy: 0.5000\n",
      "Epoch 2/20\n",
      "782/782 [==============================] - 113s 145ms/step - loss: 1.3287 - accuracy: 0.4992 - val_loss: 0.8401 - val_accuracy: 0.5000\n",
      "Epoch 3/20\n",
      "782/782 [==============================] - 117s 150ms/step - loss: 0.7672 - accuracy: 0.5065 - val_loss: 0.6761 - val_accuracy: 0.5960\n",
      "Epoch 4/20\n",
      "782/782 [==============================] - 121s 155ms/step - loss: 0.6734 - accuracy: 0.5930 - val_loss: 0.6619 - val_accuracy: 0.6399\n",
      "Epoch 5/20\n",
      "782/782 [==============================] - 111s 142ms/step - loss: 0.6577 - accuracy: 0.6434 - val_loss: 0.6451 - val_accuracy: 0.6813\n",
      "Epoch 6/20\n",
      "782/782 [==============================] - 110s 141ms/step - loss: 0.6407 - accuracy: 0.6740 - val_loss: 0.6238 - val_accuracy: 0.7038\n",
      "Epoch 7/20\n",
      "782/782 [==============================] - 111s 142ms/step - loss: 0.6148 - accuracy: 0.7074 - val_loss: 0.5926 - val_accuracy: 0.7312\n",
      "Epoch 8/20\n",
      "782/782 [==============================] - 125s 160ms/step - loss: 0.5786 - accuracy: 0.7426 - val_loss: 0.5451 - val_accuracy: 0.7572\n",
      "Epoch 9/20\n",
      "782/782 [==============================] - 109s 140ms/step - loss: 0.5253 - accuracy: 0.7676 - val_loss: 0.4897 - val_accuracy: 0.7762\n",
      "Epoch 10/20\n",
      "782/782 [==============================] - 105s 134ms/step - loss: 0.4691 - accuracy: 0.7937 - val_loss: 0.4551 - val_accuracy: 0.7918\n",
      "Epoch 11/20\n",
      "782/782 [==============================] - 105s 134ms/step - loss: 0.4426 - accuracy: 0.8047 - val_loss: 0.4407 - val_accuracy: 0.8040\n",
      "Epoch 12/20\n",
      "782/782 [==============================] - 113s 144ms/step - loss: 0.4220 - accuracy: 0.8176 - val_loss: 0.4309 - val_accuracy: 0.8123\n",
      "Epoch 13/20\n",
      "782/782 [==============================] - 108s 138ms/step - loss: 0.4123 - accuracy: 0.8255 - val_loss: 0.4234 - val_accuracy: 0.8180\n",
      "Epoch 14/20\n",
      "782/782 [==============================] - 111s 142ms/step - loss: 0.4131 - accuracy: 0.8302 - val_loss: 0.4239 - val_accuracy: 0.8212\n",
      "Epoch 15/20\n",
      "782/782 [==============================] - 112s 143ms/step - loss: 0.3845 - accuracy: 0.8344 - val_loss: 0.4192 - val_accuracy: 0.8261\n",
      "Epoch 16/20\n",
      "782/782 [==============================] - 105s 134ms/step - loss: 0.3917 - accuracy: 0.8396 - val_loss: 0.4155 - val_accuracy: 0.8288\n",
      "Epoch 17/20\n",
      "782/782 [==============================] - 113s 144ms/step - loss: 0.3816 - accuracy: 0.8506 - val_loss: 0.4095 - val_accuracy: 0.8308\n",
      "Epoch 18/20\n",
      "782/782 [==============================] - 118s 150ms/step - loss: 0.3779 - accuracy: 0.8491 - val_loss: 0.4079 - val_accuracy: 0.8334\n",
      "Epoch 19/20\n",
      "782/782 [==============================] - 105s 134ms/step - loss: 0.3717 - accuracy: 0.8574 - val_loss: 0.4098 - val_accuracy: 0.8351\n",
      "Epoch 20/20\n",
      "782/782 [==============================] - 107s 137ms/step - loss: 0.3724 - accuracy: 0.8558 - val_loss: 0.4131 - val_accuracy: 0.8374\n",
      "782/782 [==============================] - 11s 14ms/step - loss: 0.4131 - accuracy: 0.8374\n",
      "Test score: 0.41306644678115845\n",
      "Test accuracy: 0.8373600244522095\n"
     ]
    }
   ],
   "source": [
    "# Fitting and validating the model that we created with the learning rate of  0.00001\n",
    "model.compile(loss='binary_crossentropy',\n",
    "              optimizer=RMSprop(lr = 0.00001),\n",
    "              metrics=['accuracy'])\n",
    "\n",
    "print('Train...')\n",
    "history = model.fit(x_train, y_train,\n",
    "                    batch_size=batch_size,\n",
    "                    epochs=20,\n",
    "                    validation_data=(x_test, y_test))\n",
    "\n",
    "score, acc = model.evaluate(x_test, y_test,\n",
    "                            batch_size=batch_size)\n",
    "print('Test score:', score)\n",
    "print('Test accuracy:', acc)"
   ]
  },
  {
   "cell_type": "markdown",
   "id": "english-lingerie",
   "metadata": {},
   "source": [
    "###### Visualizing the Training-Testing-Validation accuracy and loss during the training the model"
   ]
  },
  {
   "cell_type": "code",
   "execution_count": 11,
   "id": "expressed-passport",
   "metadata": {},
   "outputs": [],
   "source": [
    "import matplotlib.pyplot as plt\n",
    "import seaborn as sns"
   ]
  },
  {
   "cell_type": "code",
   "execution_count": 12,
   "id": "incorrect-draft",
   "metadata": {},
   "outputs": [],
   "source": [
    "def display_models_plots(history):\n",
    "    accuracy = history.history['accuracy']\n",
    "    val_accuracy = history.history['val_accuracy']\n",
    "    loss = history.history['loss']\n",
    "    val_loss = history.history['val_loss']\n",
    "    epochs = range(1, len(accuracy) + 1)\n",
    "    plt.plot(epochs, accuracy, 'r', label='Training acc')\n",
    "    plt.plot(epochs, val_accuracy, 'b', label='Validation acc')\n",
    "    plt.title('Training and validation accuracy')\n",
    "    plt.legend()\n",
    "\n",
    "    plt.figure()\n",
    "\n",
    "    plt.plot(epochs, loss, 'r', label='Training loss')\n",
    "    plt.plot(epochs, val_loss, 'b', label='Validation loss')\n",
    "    plt.title('Training and validation loss')\n",
    "    plt.legend()\n",
    "    plt.show()"
   ]
  },
  {
   "cell_type": "code",
   "execution_count": 13,
   "id": "democratic-spain",
   "metadata": {},
   "outputs": [
    {
     "data": {
      "image/png": "[encoded data removed]",
      "text/plain": [
       "<Figure size 432x288 with 1 Axes>"
      ]
     },
     "metadata": {
      "needs_background": "light"
     },
     "output_type": "display_data"
    },
    {
     "data": {
      "image/png": "[encoded data removed]",
      "text/plain": [
       "<Figure size 432x288 with 1 Axes>"
      ]
     },
     "metadata": {
      "needs_background": "light"
     },
     "output_type": "display_data"
    }
   ],
   "source": [
    "# Plotting the results\n",
    "display_models_plots(history)"
   ]
  },
  {
   "cell_type": "markdown",
   "id": "computational-malaysia",
   "metadata": {},
   "source": [
    "###### Inferrance:"
   ]
  },
  {
   "cell_type": "markdown",
   "id": "rational-economy",
   "metadata": {},
   "source": [
    "> Here, in the first graph we can see that the training and validation accuracy is consistantly \n",
    "   increasing after each and every epochs in the begining but after the 10 the epoch the accuracy\n",
    "   became constant and was fluctuating at very minor scale. Thus giving an overall accuracy \n",
    "   of 84% on the testing dataset. Moreover, we can clearly see here that there is no case of model\n",
    "   overfitting\n",
    "   \n",
    "> In the second plot we can see that the training and validation loss has been falling constantly\n",
    "   and just the dame as the accuracy the amount of loass also becomes constant after the 10th \n",
    "   epoch. This shows that the quality of LSTM model developed here using this parameters\n",
    "   shows an effective application on both, the training and testing datasets."
   ]
  }
 ],
 "metadata": {
  "kernelspec": {
   "display_name": "Python 3",
   "language": "python",
   "name": "python3"
  },
  "language_info": {
   "codemirror_mode": {
    "name": "ipython",
    "version": 3
   },
   "file_extension": ".py",
   "mimetype": "text/x-python",
   "name": "python",
   "nbconvert_exporter": "python",
   "pygments_lexer": "ipython3",
   "version": "3.8.5"
  }
 },
 "nbformat": 4,
 "nbformat_minor": 5
}
