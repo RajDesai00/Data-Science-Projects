{
 "cells": [
  {
   "cell_type": "markdown",
   "id": "british-found",
   "metadata": {},
   "source": [
    "## Predicting earning manipulation using Beneish -M model"
   ]
  },
  {
   "cell_type": "code",
   "execution_count": 1,
   "id": "aggressive-cowboy",
   "metadata": {},
   "outputs": [],
   "source": [
    "import pandas as pd\n",
    "import numpy as np\n",
    "import matplotlib.pyplot as plt\n",
    "import seaborn as sns"
   ]
  },
  {
   "cell_type": "code",
   "execution_count": 2,
   "id": "affiliated-cartridge",
   "metadata": {},
   "outputs": [
    {
     "data": {
      "text/html": [
       "<div>\n",
       "<style scoped>\n",
       "    .dataframe tbody tr th:only-of-type {\n",
       "        vertical-align: middle;\n",
       "    }\n",
       "\n",
       "    .dataframe tbody tr th {\n",
       "        vertical-align: top;\n",
       "    }\n",
       "\n",
       "    .dataframe thead th {\n",
       "        text-align: right;\n",
       "    }\n",
       "</style>\n",
       "<table border=\"1\" class=\"dataframe\">\n",
       "  <thead>\n",
       "    <tr style=\"text-align: right;\">\n",
       "      <th></th>\n",
       "      <th>Company ID</th>\n",
       "      <th>DSRI</th>\n",
       "      <th>GMI</th>\n",
       "      <th>AQI</th>\n",
       "      <th>SGI</th>\n",
       "      <th>DEPI</th>\n",
       "      <th>SGAI</th>\n",
       "      <th>ACCR</th>\n",
       "      <th>LEVI</th>\n",
       "      <th>Manipulator</th>\n",
       "      <th>C-MANIPULATOR</th>\n",
       "    </tr>\n",
       "  </thead>\n",
       "  <tbody>\n",
       "    <tr>\n",
       "      <th>0</th>\n",
       "      <td>1.0</td>\n",
       "      <td>1.624742</td>\n",
       "      <td>1.128927</td>\n",
       "      <td>7.185053</td>\n",
       "      <td>0.366211</td>\n",
       "      <td>1.381519</td>\n",
       "      <td>1.624145</td>\n",
       "      <td>-0.166809</td>\n",
       "      <td>1.161082</td>\n",
       "      <td>Yes</td>\n",
       "      <td>1.0</td>\n",
       "    </tr>\n",
       "    <tr>\n",
       "      <th>1</th>\n",
       "      <td>2.0</td>\n",
       "      <td>1.000000</td>\n",
       "      <td>1.606492</td>\n",
       "      <td>1.004988</td>\n",
       "      <td>13.081433</td>\n",
       "      <td>0.400000</td>\n",
       "      <td>5.198207</td>\n",
       "      <td>0.060475</td>\n",
       "      <td>0.986732</td>\n",
       "      <td>Yes</td>\n",
       "      <td>1.0</td>\n",
       "    </tr>\n",
       "    <tr>\n",
       "      <th>2</th>\n",
       "      <td>3.0</td>\n",
       "      <td>1.000000</td>\n",
       "      <td>1.015607</td>\n",
       "      <td>1.241389</td>\n",
       "      <td>1.475018</td>\n",
       "      <td>1.169353</td>\n",
       "      <td>0.647671</td>\n",
       "      <td>0.036732</td>\n",
       "      <td>1.264305</td>\n",
       "      <td>Yes</td>\n",
       "      <td>1.0</td>\n",
       "    </tr>\n",
       "    <tr>\n",
       "      <th>3</th>\n",
       "      <td>4.0</td>\n",
       "      <td>1.486239</td>\n",
       "      <td>1.000000</td>\n",
       "      <td>0.465535</td>\n",
       "      <td>0.672840</td>\n",
       "      <td>2.000000</td>\n",
       "      <td>0.092890</td>\n",
       "      <td>0.273434</td>\n",
       "      <td>0.680975</td>\n",
       "      <td>Yes</td>\n",
       "      <td>1.0</td>\n",
       "    </tr>\n",
       "    <tr>\n",
       "      <th>4</th>\n",
       "      <td>5.0</td>\n",
       "      <td>1.000000</td>\n",
       "      <td>1.369038</td>\n",
       "      <td>0.637112</td>\n",
       "      <td>0.861346</td>\n",
       "      <td>1.454676</td>\n",
       "      <td>1.741460</td>\n",
       "      <td>0.123048</td>\n",
       "      <td>0.939047</td>\n",
       "      <td>Yes</td>\n",
       "      <td>1.0</td>\n",
       "    </tr>\n",
       "    <tr>\n",
       "      <th>...</th>\n",
       "      <td>...</td>\n",
       "      <td>...</td>\n",
       "      <td>...</td>\n",
       "      <td>...</td>\n",
       "      <td>...</td>\n",
       "      <td>...</td>\n",
       "      <td>...</td>\n",
       "      <td>...</td>\n",
       "      <td>...</td>\n",
       "      <td>...</td>\n",
       "      <td>...</td>\n",
       "    </tr>\n",
       "    <tr>\n",
       "      <th>994</th>\n",
       "      <td>NaN</td>\n",
       "      <td>NaN</td>\n",
       "      <td>NaN</td>\n",
       "      <td>NaN</td>\n",
       "      <td>NaN</td>\n",
       "      <td>NaN</td>\n",
       "      <td>NaN</td>\n",
       "      <td>NaN</td>\n",
       "      <td>NaN</td>\n",
       "      <td>NaN</td>\n",
       "      <td>NaN</td>\n",
       "    </tr>\n",
       "    <tr>\n",
       "      <th>995</th>\n",
       "      <td>NaN</td>\n",
       "      <td>NaN</td>\n",
       "      <td>NaN</td>\n",
       "      <td>NaN</td>\n",
       "      <td>NaN</td>\n",
       "      <td>NaN</td>\n",
       "      <td>NaN</td>\n",
       "      <td>NaN</td>\n",
       "      <td>NaN</td>\n",
       "      <td>NaN</td>\n",
       "      <td>NaN</td>\n",
       "    </tr>\n",
       "    <tr>\n",
       "      <th>996</th>\n",
       "      <td>NaN</td>\n",
       "      <td>NaN</td>\n",
       "      <td>NaN</td>\n",
       "      <td>NaN</td>\n",
       "      <td>NaN</td>\n",
       "      <td>NaN</td>\n",
       "      <td>NaN</td>\n",
       "      <td>NaN</td>\n",
       "      <td>NaN</td>\n",
       "      <td>NaN</td>\n",
       "      <td>NaN</td>\n",
       "    </tr>\n",
       "    <tr>\n",
       "      <th>997</th>\n",
       "      <td>NaN</td>\n",
       "      <td>NaN</td>\n",
       "      <td>NaN</td>\n",
       "      <td>NaN</td>\n",
       "      <td>NaN</td>\n",
       "      <td>NaN</td>\n",
       "      <td>NaN</td>\n",
       "      <td>NaN</td>\n",
       "      <td>NaN</td>\n",
       "      <td>NaN</td>\n",
       "      <td>NaN</td>\n",
       "    </tr>\n",
       "    <tr>\n",
       "      <th>998</th>\n",
       "      <td>NaN</td>\n",
       "      <td>NaN</td>\n",
       "      <td>NaN</td>\n",
       "      <td>NaN</td>\n",
       "      <td>NaN</td>\n",
       "      <td>NaN</td>\n",
       "      <td>NaN</td>\n",
       "      <td>NaN</td>\n",
       "      <td>NaN</td>\n",
       "      <td>NaN</td>\n",
       "      <td>NaN</td>\n",
       "    </tr>\n",
       "  </tbody>\n",
       "</table>\n",
       "<p>999 rows × 11 columns</p>\n",
       "</div>"
      ],
      "text/plain": [
       "     Company ID      DSRI       GMI       AQI        SGI      DEPI      SGAI  \\\n",
       "0           1.0  1.624742  1.128927  7.185053   0.366211  1.381519  1.624145   \n",
       "1           2.0  1.000000  1.606492  1.004988  13.081433  0.400000  5.198207   \n",
       "2           3.0  1.000000  1.015607  1.241389   1.475018  1.169353  0.647671   \n",
       "3           4.0  1.486239  1.000000  0.465535   0.672840  2.000000  0.092890   \n",
       "4           5.0  1.000000  1.369038  0.637112   0.861346  1.454676  1.741460   \n",
       "..          ...       ...       ...       ...        ...       ...       ...   \n",
       "994         NaN       NaN       NaN       NaN        NaN       NaN       NaN   \n",
       "995         NaN       NaN       NaN       NaN        NaN       NaN       NaN   \n",
       "996         NaN       NaN       NaN       NaN        NaN       NaN       NaN   \n",
       "997         NaN       NaN       NaN       NaN        NaN       NaN       NaN   \n",
       "998         NaN       NaN       NaN       NaN        NaN       NaN       NaN   \n",
       "\n",
       "         ACCR      LEVI Manipulator  C-MANIPULATOR  \n",
       "0   -0.166809  1.161082         Yes            1.0  \n",
       "1    0.060475  0.986732         Yes            1.0  \n",
       "2    0.036732  1.264305         Yes            1.0  \n",
       "3    0.273434  0.680975         Yes            1.0  \n",
       "4    0.123048  0.939047         Yes            1.0  \n",
       "..        ...       ...         ...            ...  \n",
       "994       NaN       NaN         NaN            NaN  \n",
       "995       NaN       NaN         NaN            NaN  \n",
       "996       NaN       NaN         NaN            NaN  \n",
       "997       NaN       NaN         NaN            NaN  \n",
       "998       NaN       NaN         NaN            NaN  \n",
       "\n",
       "[999 rows x 11 columns]"
      ]
     },
     "execution_count": 2,
     "metadata": {},
     "output_type": "execute_result"
    }
   ],
   "source": [
    "manipulator_pred = pd.read_csv('D:/Sem_2/Finansial Analysis/Assignment/Model development dataset.csv')\n",
    "manipulator_pred"
   ]
  },
  {
   "cell_type": "code",
   "execution_count": 3,
   "id": "detected-cutting",
   "metadata": {},
   "outputs": [
    {
     "data": {
      "text/plain": [
       "Company ID       779\n",
       "DSRI             779\n",
       "GMI              779\n",
       "AQI              779\n",
       "SGI              779\n",
       "DEPI             779\n",
       "SGAI             779\n",
       "ACCR             779\n",
       "LEVI             779\n",
       "Manipulator      779\n",
       "C-MANIPULATOR    779\n",
       "dtype: int64"
      ]
     },
     "execution_count": 3,
     "metadata": {},
     "output_type": "execute_result"
    }
   ],
   "source": [
    "#Checking for null values\n",
    "manipulator_pred.isna().sum()"
   ]
  },
  {
   "cell_type": "code",
   "execution_count": 4,
   "id": "caring-spectrum",
   "metadata": {},
   "outputs": [],
   "source": [
    "#Removing the null values\n",
    "manipulator_pred.dropna(inplace = True)"
   ]
  },
  {
   "cell_type": "code",
   "execution_count": 5,
   "id": "removed-utility",
   "metadata": {},
   "outputs": [
    {
     "data": {
      "text/html": [
       "<div>\n",
       "<style scoped>\n",
       "    .dataframe tbody tr th:only-of-type {\n",
       "        vertical-align: middle;\n",
       "    }\n",
       "\n",
       "    .dataframe tbody tr th {\n",
       "        vertical-align: top;\n",
       "    }\n",
       "\n",
       "    .dataframe thead th {\n",
       "        text-align: right;\n",
       "    }\n",
       "</style>\n",
       "<table border=\"1\" class=\"dataframe\">\n",
       "  <thead>\n",
       "    <tr style=\"text-align: right;\">\n",
       "      <th></th>\n",
       "      <th>Company ID</th>\n",
       "      <th>DSRI</th>\n",
       "      <th>GMI</th>\n",
       "      <th>AQI</th>\n",
       "      <th>SGI</th>\n",
       "      <th>DEPI</th>\n",
       "      <th>SGAI</th>\n",
       "      <th>ACCR</th>\n",
       "      <th>LEVI</th>\n",
       "      <th>Manipulator</th>\n",
       "      <th>C-MANIPULATOR</th>\n",
       "    </tr>\n",
       "  </thead>\n",
       "  <tbody>\n",
       "    <tr>\n",
       "      <th>0</th>\n",
       "      <td>1.0</td>\n",
       "      <td>1.624742</td>\n",
       "      <td>1.128927</td>\n",
       "      <td>7.185053</td>\n",
       "      <td>0.366211</td>\n",
       "      <td>1.381519</td>\n",
       "      <td>1.624145</td>\n",
       "      <td>-0.166809</td>\n",
       "      <td>1.161082</td>\n",
       "      <td>Yes</td>\n",
       "      <td>1.0</td>\n",
       "    </tr>\n",
       "    <tr>\n",
       "      <th>1</th>\n",
       "      <td>2.0</td>\n",
       "      <td>1.000000</td>\n",
       "      <td>1.606492</td>\n",
       "      <td>1.004988</td>\n",
       "      <td>13.081433</td>\n",
       "      <td>0.400000</td>\n",
       "      <td>5.198207</td>\n",
       "      <td>0.060475</td>\n",
       "      <td>0.986732</td>\n",
       "      <td>Yes</td>\n",
       "      <td>1.0</td>\n",
       "    </tr>\n",
       "    <tr>\n",
       "      <th>2</th>\n",
       "      <td>3.0</td>\n",
       "      <td>1.000000</td>\n",
       "      <td>1.015607</td>\n",
       "      <td>1.241389</td>\n",
       "      <td>1.475018</td>\n",
       "      <td>1.169353</td>\n",
       "      <td>0.647671</td>\n",
       "      <td>0.036732</td>\n",
       "      <td>1.264305</td>\n",
       "      <td>Yes</td>\n",
       "      <td>1.0</td>\n",
       "    </tr>\n",
       "    <tr>\n",
       "      <th>3</th>\n",
       "      <td>4.0</td>\n",
       "      <td>1.486239</td>\n",
       "      <td>1.000000</td>\n",
       "      <td>0.465535</td>\n",
       "      <td>0.672840</td>\n",
       "      <td>2.000000</td>\n",
       "      <td>0.092890</td>\n",
       "      <td>0.273434</td>\n",
       "      <td>0.680975</td>\n",
       "      <td>Yes</td>\n",
       "      <td>1.0</td>\n",
       "    </tr>\n",
       "    <tr>\n",
       "      <th>4</th>\n",
       "      <td>5.0</td>\n",
       "      <td>1.000000</td>\n",
       "      <td>1.369038</td>\n",
       "      <td>0.637112</td>\n",
       "      <td>0.861346</td>\n",
       "      <td>1.454676</td>\n",
       "      <td>1.741460</td>\n",
       "      <td>0.123048</td>\n",
       "      <td>0.939047</td>\n",
       "      <td>Yes</td>\n",
       "      <td>1.0</td>\n",
       "    </tr>\n",
       "    <tr>\n",
       "      <th>...</th>\n",
       "      <td>...</td>\n",
       "      <td>...</td>\n",
       "      <td>...</td>\n",
       "      <td>...</td>\n",
       "      <td>...</td>\n",
       "      <td>...</td>\n",
       "      <td>...</td>\n",
       "      <td>...</td>\n",
       "      <td>...</td>\n",
       "      <td>...</td>\n",
       "      <td>...</td>\n",
       "    </tr>\n",
       "    <tr>\n",
       "      <th>215</th>\n",
       "      <td>216.0</td>\n",
       "      <td>1.002026</td>\n",
       "      <td>0.998118</td>\n",
       "      <td>-0.917605</td>\n",
       "      <td>1.088962</td>\n",
       "      <td>1.030527</td>\n",
       "      <td>1.076770</td>\n",
       "      <td>-0.001079</td>\n",
       "      <td>1.080009</td>\n",
       "      <td>No</td>\n",
       "      <td>0.0</td>\n",
       "    </tr>\n",
       "    <tr>\n",
       "      <th>216</th>\n",
       "      <td>217.0</td>\n",
       "      <td>0.909365</td>\n",
       "      <td>1.170298</td>\n",
       "      <td>1.971874</td>\n",
       "      <td>1.279013</td>\n",
       "      <td>0.971605</td>\n",
       "      <td>0.985939</td>\n",
       "      <td>-0.035854</td>\n",
       "      <td>1.025102</td>\n",
       "      <td>No</td>\n",
       "      <td>0.0</td>\n",
       "    </tr>\n",
       "    <tr>\n",
       "      <th>217</th>\n",
       "      <td>218.0</td>\n",
       "      <td>0.937403</td>\n",
       "      <td>0.973292</td>\n",
       "      <td>1.131131</td>\n",
       "      <td>1.083577</td>\n",
       "      <td>1.050011</td>\n",
       "      <td>0.959512</td>\n",
       "      <td>-0.095279</td>\n",
       "      <td>0.976332</td>\n",
       "      <td>No</td>\n",
       "      <td>0.0</td>\n",
       "    </tr>\n",
       "    <tr>\n",
       "      <th>218</th>\n",
       "      <td>219.0</td>\n",
       "      <td>1.044944</td>\n",
       "      <td>1.021424</td>\n",
       "      <td>4.437887</td>\n",
       "      <td>0.870790</td>\n",
       "      <td>1.026489</td>\n",
       "      <td>1.060493</td>\n",
       "      <td>-0.157146</td>\n",
       "      <td>0.916070</td>\n",
       "      <td>No</td>\n",
       "      <td>0.0</td>\n",
       "    </tr>\n",
       "    <tr>\n",
       "      <th>219</th>\n",
       "      <td>220.0</td>\n",
       "      <td>0.958664</td>\n",
       "      <td>0.916985</td>\n",
       "      <td>0.999652</td>\n",
       "      <td>1.121524</td>\n",
       "      <td>1.096174</td>\n",
       "      <td>0.927539</td>\n",
       "      <td>-0.145247</td>\n",
       "      <td>0.935351</td>\n",
       "      <td>No</td>\n",
       "      <td>0.0</td>\n",
       "    </tr>\n",
       "  </tbody>\n",
       "</table>\n",
       "<p>220 rows × 11 columns</p>\n",
       "</div>"
      ],
      "text/plain": [
       "     Company ID      DSRI       GMI       AQI        SGI      DEPI      SGAI  \\\n",
       "0           1.0  1.624742  1.128927  7.185053   0.366211  1.381519  1.624145   \n",
       "1           2.0  1.000000  1.606492  1.004988  13.081433  0.400000  5.198207   \n",
       "2           3.0  1.000000  1.015607  1.241389   1.475018  1.169353  0.647671   \n",
       "3           4.0  1.486239  1.000000  0.465535   0.672840  2.000000  0.092890   \n",
       "4           5.0  1.000000  1.369038  0.637112   0.861346  1.454676  1.741460   \n",
       "..          ...       ...       ...       ...        ...       ...       ...   \n",
       "215       216.0  1.002026  0.998118 -0.917605   1.088962  1.030527  1.076770   \n",
       "216       217.0  0.909365  1.170298  1.971874   1.279013  0.971605  0.985939   \n",
       "217       218.0  0.937403  0.973292  1.131131   1.083577  1.050011  0.959512   \n",
       "218       219.0  1.044944  1.021424  4.437887   0.870790  1.026489  1.060493   \n",
       "219       220.0  0.958664  0.916985  0.999652   1.121524  1.096174  0.927539   \n",
       "\n",
       "         ACCR      LEVI Manipulator  C-MANIPULATOR  \n",
       "0   -0.166809  1.161082         Yes            1.0  \n",
       "1    0.060475  0.986732         Yes            1.0  \n",
       "2    0.036732  1.264305         Yes            1.0  \n",
       "3    0.273434  0.680975         Yes            1.0  \n",
       "4    0.123048  0.939047         Yes            1.0  \n",
       "..        ...       ...         ...            ...  \n",
       "215 -0.001079  1.080009          No            0.0  \n",
       "216 -0.035854  1.025102          No            0.0  \n",
       "217 -0.095279  0.976332          No            0.0  \n",
       "218 -0.157146  0.916070          No            0.0  \n",
       "219 -0.145247  0.935351          No            0.0  \n",
       "\n",
       "[220 rows x 11 columns]"
      ]
     },
     "execution_count": 5,
     "metadata": {},
     "output_type": "execute_result"
    }
   ],
   "source": [
    "manipulator_pred"
   ]
  },
  {
   "cell_type": "code",
   "execution_count": 6,
   "id": "changing-career",
   "metadata": {},
   "outputs": [
    {
     "data": {
      "text/plain": [
       "Company ID       float64\n",
       "DSRI             float64\n",
       "GMI              float64\n",
       "AQI              float64\n",
       "SGI              float64\n",
       "DEPI             float64\n",
       "SGAI             float64\n",
       "ACCR             float64\n",
       "LEVI             float64\n",
       "Manipulator       object\n",
       "C-MANIPULATOR    float64\n",
       "dtype: object"
      ]
     },
     "execution_count": 6,
     "metadata": {},
     "output_type": "execute_result"
    }
   ],
   "source": [
    "#Checking the datatypes of all the variables\n",
    "manipulator_pred.dtypes"
   ]
  },
  {
   "cell_type": "code",
   "execution_count": 7,
   "id": "hazardous-music",
   "metadata": {},
   "outputs": [],
   "source": [
    "#Converting the manipulator column into integer type\n",
    "manipulator_pred['C-MANIPULATOR'] = manipulator_pred['C-MANIPULATOR'].astype(int)"
   ]
  },
  {
   "cell_type": "code",
   "execution_count": 8,
   "id": "average-weapon",
   "metadata": {},
   "outputs": [
    {
     "data": {
      "text/plain": [
       "Company ID       float64\n",
       "DSRI             float64\n",
       "GMI              float64\n",
       "AQI              float64\n",
       "SGI              float64\n",
       "DEPI             float64\n",
       "SGAI             float64\n",
       "ACCR             float64\n",
       "LEVI             float64\n",
       "Manipulator       object\n",
       "C-MANIPULATOR      int32\n",
       "dtype: object"
      ]
     },
     "execution_count": 8,
     "metadata": {},
     "output_type": "execute_result"
    }
   ],
   "source": [
    "manipulator_pred.dtypes"
   ]
  },
  {
   "cell_type": "code",
   "execution_count": 9,
   "id": "serial-scenario",
   "metadata": {},
   "outputs": [],
   "source": [
    "#Removing columns which is not needed\n",
    "manipulator_pred.drop('Manipulator', axis = 1, inplace = True)"
   ]
  },
  {
   "cell_type": "code",
   "execution_count": 10,
   "id": "herbal-vinyl",
   "metadata": {},
   "outputs": [
    {
     "data": {
      "text/html": [
       "<div>\n",
       "<style scoped>\n",
       "    .dataframe tbody tr th:only-of-type {\n",
       "        vertical-align: middle;\n",
       "    }\n",
       "\n",
       "    .dataframe tbody tr th {\n",
       "        vertical-align: top;\n",
       "    }\n",
       "\n",
       "    .dataframe thead th {\n",
       "        text-align: right;\n",
       "    }\n",
       "</style>\n",
       "<table border=\"1\" class=\"dataframe\">\n",
       "  <thead>\n",
       "    <tr style=\"text-align: right;\">\n",
       "      <th></th>\n",
       "      <th>Company ID</th>\n",
       "      <th>DSRI</th>\n",
       "      <th>GMI</th>\n",
       "      <th>AQI</th>\n",
       "      <th>SGI</th>\n",
       "      <th>DEPI</th>\n",
       "      <th>SGAI</th>\n",
       "      <th>ACCR</th>\n",
       "      <th>LEVI</th>\n",
       "      <th>C-MANIPULATOR</th>\n",
       "    </tr>\n",
       "  </thead>\n",
       "  <tbody>\n",
       "    <tr>\n",
       "      <th>0</th>\n",
       "      <td>1.0</td>\n",
       "      <td>1.624742</td>\n",
       "      <td>1.128927</td>\n",
       "      <td>7.185053</td>\n",
       "      <td>0.366211</td>\n",
       "      <td>1.381519</td>\n",
       "      <td>1.624145</td>\n",
       "      <td>-0.166809</td>\n",
       "      <td>1.161082</td>\n",
       "      <td>1</td>\n",
       "    </tr>\n",
       "    <tr>\n",
       "      <th>1</th>\n",
       "      <td>2.0</td>\n",
       "      <td>1.000000</td>\n",
       "      <td>1.606492</td>\n",
       "      <td>1.004988</td>\n",
       "      <td>13.081433</td>\n",
       "      <td>0.400000</td>\n",
       "      <td>5.198207</td>\n",
       "      <td>0.060475</td>\n",
       "      <td>0.986732</td>\n",
       "      <td>1</td>\n",
       "    </tr>\n",
       "    <tr>\n",
       "      <th>2</th>\n",
       "      <td>3.0</td>\n",
       "      <td>1.000000</td>\n",
       "      <td>1.015607</td>\n",
       "      <td>1.241389</td>\n",
       "      <td>1.475018</td>\n",
       "      <td>1.169353</td>\n",
       "      <td>0.647671</td>\n",
       "      <td>0.036732</td>\n",
       "      <td>1.264305</td>\n",
       "      <td>1</td>\n",
       "    </tr>\n",
       "    <tr>\n",
       "      <th>3</th>\n",
       "      <td>4.0</td>\n",
       "      <td>1.486239</td>\n",
       "      <td>1.000000</td>\n",
       "      <td>0.465535</td>\n",
       "      <td>0.672840</td>\n",
       "      <td>2.000000</td>\n",
       "      <td>0.092890</td>\n",
       "      <td>0.273434</td>\n",
       "      <td>0.680975</td>\n",
       "      <td>1</td>\n",
       "    </tr>\n",
       "    <tr>\n",
       "      <th>4</th>\n",
       "      <td>5.0</td>\n",
       "      <td>1.000000</td>\n",
       "      <td>1.369038</td>\n",
       "      <td>0.637112</td>\n",
       "      <td>0.861346</td>\n",
       "      <td>1.454676</td>\n",
       "      <td>1.741460</td>\n",
       "      <td>0.123048</td>\n",
       "      <td>0.939047</td>\n",
       "      <td>1</td>\n",
       "    </tr>\n",
       "  </tbody>\n",
       "</table>\n",
       "</div>"
      ],
      "text/plain": [
       "   Company ID      DSRI       GMI       AQI        SGI      DEPI      SGAI  \\\n",
       "0         1.0  1.624742  1.128927  7.185053   0.366211  1.381519  1.624145   \n",
       "1         2.0  1.000000  1.606492  1.004988  13.081433  0.400000  5.198207   \n",
       "2         3.0  1.000000  1.015607  1.241389   1.475018  1.169353  0.647671   \n",
       "3         4.0  1.486239  1.000000  0.465535   0.672840  2.000000  0.092890   \n",
       "4         5.0  1.000000  1.369038  0.637112   0.861346  1.454676  1.741460   \n",
       "\n",
       "       ACCR      LEVI  C-MANIPULATOR  \n",
       "0 -0.166809  1.161082              1  \n",
       "1  0.060475  0.986732              1  \n",
       "2  0.036732  1.264305              1  \n",
       "3  0.273434  0.680975              1  \n",
       "4  0.123048  0.939047              1  "
      ]
     },
     "execution_count": 10,
     "metadata": {},
     "output_type": "execute_result"
    }
   ],
   "source": [
    "manipulator_pred.head()"
   ]
  },
  {
   "cell_type": "code",
   "execution_count": 11,
   "id": "moving-delight",
   "metadata": {},
   "outputs": [
    {
     "data": {
      "text/html": [
       "<div>\n",
       "<style scoped>\n",
       "    .dataframe tbody tr th:only-of-type {\n",
       "        vertical-align: middle;\n",
       "    }\n",
       "\n",
       "    .dataframe tbody tr th {\n",
       "        vertical-align: top;\n",
       "    }\n",
       "\n",
       "    .dataframe thead th {\n",
       "        text-align: right;\n",
       "    }\n",
       "</style>\n",
       "<table border=\"1\" class=\"dataframe\">\n",
       "  <thead>\n",
       "    <tr style=\"text-align: right;\">\n",
       "      <th></th>\n",
       "      <th>Company ID</th>\n",
       "      <th>DSRI</th>\n",
       "      <th>GMI</th>\n",
       "      <th>AQI</th>\n",
       "      <th>SGI</th>\n",
       "      <th>DEPI</th>\n",
       "      <th>SGAI</th>\n",
       "      <th>ACCR</th>\n",
       "      <th>LEVI</th>\n",
       "    </tr>\n",
       "  </thead>\n",
       "  <tbody>\n",
       "    <tr>\n",
       "      <th>0</th>\n",
       "      <td>1.0</td>\n",
       "      <td>1.624742</td>\n",
       "      <td>1.128927</td>\n",
       "      <td>7.185053</td>\n",
       "      <td>0.366211</td>\n",
       "      <td>1.381519</td>\n",
       "      <td>1.624145</td>\n",
       "      <td>-0.166809</td>\n",
       "      <td>1.161082</td>\n",
       "    </tr>\n",
       "    <tr>\n",
       "      <th>1</th>\n",
       "      <td>2.0</td>\n",
       "      <td>1.000000</td>\n",
       "      <td>1.606492</td>\n",
       "      <td>1.004988</td>\n",
       "      <td>13.081433</td>\n",
       "      <td>0.400000</td>\n",
       "      <td>5.198207</td>\n",
       "      <td>0.060475</td>\n",
       "      <td>0.986732</td>\n",
       "    </tr>\n",
       "    <tr>\n",
       "      <th>2</th>\n",
       "      <td>3.0</td>\n",
       "      <td>1.000000</td>\n",
       "      <td>1.015607</td>\n",
       "      <td>1.241389</td>\n",
       "      <td>1.475018</td>\n",
       "      <td>1.169353</td>\n",
       "      <td>0.647671</td>\n",
       "      <td>0.036732</td>\n",
       "      <td>1.264305</td>\n",
       "    </tr>\n",
       "    <tr>\n",
       "      <th>3</th>\n",
       "      <td>4.0</td>\n",
       "      <td>1.486239</td>\n",
       "      <td>1.000000</td>\n",
       "      <td>0.465535</td>\n",
       "      <td>0.672840</td>\n",
       "      <td>2.000000</td>\n",
       "      <td>0.092890</td>\n",
       "      <td>0.273434</td>\n",
       "      <td>0.680975</td>\n",
       "    </tr>\n",
       "    <tr>\n",
       "      <th>4</th>\n",
       "      <td>5.0</td>\n",
       "      <td>1.000000</td>\n",
       "      <td>1.369038</td>\n",
       "      <td>0.637112</td>\n",
       "      <td>0.861346</td>\n",
       "      <td>1.454676</td>\n",
       "      <td>1.741460</td>\n",
       "      <td>0.123048</td>\n",
       "      <td>0.939047</td>\n",
       "    </tr>\n",
       "    <tr>\n",
       "      <th>...</th>\n",
       "      <td>...</td>\n",
       "      <td>...</td>\n",
       "      <td>...</td>\n",
       "      <td>...</td>\n",
       "      <td>...</td>\n",
       "      <td>...</td>\n",
       "      <td>...</td>\n",
       "      <td>...</td>\n",
       "      <td>...</td>\n",
       "    </tr>\n",
       "    <tr>\n",
       "      <th>215</th>\n",
       "      <td>216.0</td>\n",
       "      <td>1.002026</td>\n",
       "      <td>0.998118</td>\n",
       "      <td>-0.917605</td>\n",
       "      <td>1.088962</td>\n",
       "      <td>1.030527</td>\n",
       "      <td>1.076770</td>\n",
       "      <td>-0.001079</td>\n",
       "      <td>1.080009</td>\n",
       "    </tr>\n",
       "    <tr>\n",
       "      <th>216</th>\n",
       "      <td>217.0</td>\n",
       "      <td>0.909365</td>\n",
       "      <td>1.170298</td>\n",
       "      <td>1.971874</td>\n",
       "      <td>1.279013</td>\n",
       "      <td>0.971605</td>\n",
       "      <td>0.985939</td>\n",
       "      <td>-0.035854</td>\n",
       "      <td>1.025102</td>\n",
       "    </tr>\n",
       "    <tr>\n",
       "      <th>217</th>\n",
       "      <td>218.0</td>\n",
       "      <td>0.937403</td>\n",
       "      <td>0.973292</td>\n",
       "      <td>1.131131</td>\n",
       "      <td>1.083577</td>\n",
       "      <td>1.050011</td>\n",
       "      <td>0.959512</td>\n",
       "      <td>-0.095279</td>\n",
       "      <td>0.976332</td>\n",
       "    </tr>\n",
       "    <tr>\n",
       "      <th>218</th>\n",
       "      <td>219.0</td>\n",
       "      <td>1.044944</td>\n",
       "      <td>1.021424</td>\n",
       "      <td>4.437887</td>\n",
       "      <td>0.870790</td>\n",
       "      <td>1.026489</td>\n",
       "      <td>1.060493</td>\n",
       "      <td>-0.157146</td>\n",
       "      <td>0.916070</td>\n",
       "    </tr>\n",
       "    <tr>\n",
       "      <th>219</th>\n",
       "      <td>220.0</td>\n",
       "      <td>0.958664</td>\n",
       "      <td>0.916985</td>\n",
       "      <td>0.999652</td>\n",
       "      <td>1.121524</td>\n",
       "      <td>1.096174</td>\n",
       "      <td>0.927539</td>\n",
       "      <td>-0.145247</td>\n",
       "      <td>0.935351</td>\n",
       "    </tr>\n",
       "  </tbody>\n",
       "</table>\n",
       "<p>220 rows × 9 columns</p>\n",
       "</div>"
      ],
      "text/plain": [
       "     Company ID      DSRI       GMI       AQI        SGI      DEPI      SGAI  \\\n",
       "0           1.0  1.624742  1.128927  7.185053   0.366211  1.381519  1.624145   \n",
       "1           2.0  1.000000  1.606492  1.004988  13.081433  0.400000  5.198207   \n",
       "2           3.0  1.000000  1.015607  1.241389   1.475018  1.169353  0.647671   \n",
       "3           4.0  1.486239  1.000000  0.465535   0.672840  2.000000  0.092890   \n",
       "4           5.0  1.000000  1.369038  0.637112   0.861346  1.454676  1.741460   \n",
       "..          ...       ...       ...       ...        ...       ...       ...   \n",
       "215       216.0  1.002026  0.998118 -0.917605   1.088962  1.030527  1.076770   \n",
       "216       217.0  0.909365  1.170298  1.971874   1.279013  0.971605  0.985939   \n",
       "217       218.0  0.937403  0.973292  1.131131   1.083577  1.050011  0.959512   \n",
       "218       219.0  1.044944  1.021424  4.437887   0.870790  1.026489  1.060493   \n",
       "219       220.0  0.958664  0.916985  0.999652   1.121524  1.096174  0.927539   \n",
       "\n",
       "         ACCR      LEVI  \n",
       "0   -0.166809  1.161082  \n",
       "1    0.060475  0.986732  \n",
       "2    0.036732  1.264305  \n",
       "3    0.273434  0.680975  \n",
       "4    0.123048  0.939047  \n",
       "..        ...       ...  \n",
       "215 -0.001079  1.080009  \n",
       "216 -0.035854  1.025102  \n",
       "217 -0.095279  0.976332  \n",
       "218 -0.157146  0.916070  \n",
       "219 -0.145247  0.935351  \n",
       "\n",
       "[220 rows x 9 columns]"
      ]
     },
     "execution_count": 11,
     "metadata": {},
     "output_type": "execute_result"
    }
   ],
   "source": [
    "X = manipulator_pred.drop('C-MANIPULATOR', axis = 1)\n",
    "X"
   ]
  },
  {
   "cell_type": "code",
   "execution_count": 12,
   "id": "fifth-major",
   "metadata": {},
   "outputs": [
    {
     "data": {
      "text/plain": [
       "0      1\n",
       "1      1\n",
       "2      1\n",
       "3      1\n",
       "4      1\n",
       "      ..\n",
       "215    0\n",
       "216    0\n",
       "217    0\n",
       "218    0\n",
       "219    0\n",
       "Name: C-MANIPULATOR, Length: 220, dtype: int32"
      ]
     },
     "execution_count": 12,
     "metadata": {},
     "output_type": "execute_result"
    }
   ],
   "source": [
    "y = manipulator_pred['C-MANIPULATOR']\n",
    "y"
   ]
  },
  {
   "cell_type": "code",
   "execution_count": 13,
   "id": "annoying-primary",
   "metadata": {},
   "outputs": [],
   "source": [
    "from imblearn.combine import SMOTETomek\n",
    "from imblearn.under_sampling import NearMiss"
   ]
  },
  {
   "cell_type": "code",
   "execution_count": 177,
   "id": "arranged-australian",
   "metadata": {},
   "outputs": [],
   "source": [
    "# Implementing Oversampling for Handling Imbalanced \n",
    "smk = SMOTETomek(random_state=45)\n",
    "X_res,y_res=smk.fit_resample(X,y)"
   ]
  },
  {
   "cell_type": "code",
   "execution_count": 178,
   "id": "precious-cross",
   "metadata": {},
   "outputs": [
    {
     "data": {
      "text/plain": [
       "((360, 9), (360,))"
      ]
     },
     "execution_count": 178,
     "metadata": {},
     "output_type": "execute_result"
    }
   ],
   "source": [
    "X_res.shape,y_res.shape"
   ]
  },
  {
   "cell_type": "code",
   "execution_count": 179,
   "id": "progressive-governor",
   "metadata": {},
   "outputs": [
    {
     "name": "stdout",
     "output_type": "stream",
     "text": [
      "Original dataset shape Counter({0: 181, 1: 39})\n",
      "Resampled dataset shape Counter({1: 180, 0: 180})\n"
     ]
    }
   ],
   "source": [
    "from collections import Counter\n",
    "print('Original dataset shape {}'.format(Counter(y)))\n",
    "print('Resampled dataset shape {}'.format(Counter(y_res)))"
   ]
  },
  {
   "cell_type": "code",
   "execution_count": 180,
   "id": "marked-perry",
   "metadata": {},
   "outputs": [],
   "source": [
    "from imblearn.over_sampling import RandomOverSampler"
   ]
  },
  {
   "cell_type": "code",
   "execution_count": 265,
   "id": "offensive-consequence",
   "metadata": {},
   "outputs": [],
   "source": [
    "os =  RandomOverSampler(sampling_strategy=0.4)"
   ]
  },
  {
   "cell_type": "code",
   "execution_count": 266,
   "id": "thousand-remark",
   "metadata": {},
   "outputs": [],
   "source": [
    "X_train_res, y_train_res = os.fit_resample(X, y)"
   ]
  },
  {
   "cell_type": "code",
   "execution_count": 267,
   "id": "accessible-cursor",
   "metadata": {},
   "outputs": [
    {
     "data": {
      "text/plain": [
       "((253, 9), (253,))"
      ]
     },
     "execution_count": 267,
     "metadata": {},
     "output_type": "execute_result"
    }
   ],
   "source": [
    "X_train_res.shape,y_train_res.shape"
   ]
  },
  {
   "cell_type": "code",
   "execution_count": 268,
   "id": "appropriate-shower",
   "metadata": {},
   "outputs": [
    {
     "name": "stdout",
     "output_type": "stream",
     "text": [
      "Original dataset shape Counter({0: 181, 1: 39})\n",
      "Resampled dataset shape Counter({0: 181, 1: 72})\n"
     ]
    }
   ],
   "source": [
    "print('Original dataset shape {}'.format(Counter(y)))\n",
    "print('Resampled dataset shape {}'.format(Counter(y_train_res)))"
   ]
  },
  {
   "cell_type": "code",
   "execution_count": 269,
   "id": "tracked-velvet",
   "metadata": {},
   "outputs": [],
   "source": [
    "# In this example I use SMOTETomek which is a method of imblearn. SMOTETomek is a hybrid method\n",
    "# which uses an under sampling method (Tomek) in with an over sampling method (SMOTE).\n",
    "os_us = SMOTETomek(sampling_strategy=0.4)\n",
    "\n",
    "X_train_res1, y_train_res1 = os_us.fit_resample(X, y)"
   ]
  },
  {
   "cell_type": "code",
   "execution_count": 270,
   "id": "experienced-torture",
   "metadata": {},
   "outputs": [
    {
     "data": {
      "text/plain": [
       "((251, 9), (251,))"
      ]
     },
     "execution_count": 270,
     "metadata": {},
     "output_type": "execute_result"
    }
   ],
   "source": [
    "X_train_res1.shape,y_train_res1.shape"
   ]
  },
  {
   "cell_type": "code",
   "execution_count": 271,
   "id": "second-lender",
   "metadata": {},
   "outputs": [
    {
     "name": "stdout",
     "output_type": "stream",
     "text": [
      "Original dataset shape Counter({0: 181, 1: 39})\n",
      "Resampled dataset shape Counter({0: 180, 1: 71})\n"
     ]
    }
   ],
   "source": [
    "print('Original dataset shape {}'.format(Counter(y)))\n",
    "print('Resampled dataset shape {}'.format(Counter(y_train_res1)))"
   ]
  },
  {
   "cell_type": "code",
   "execution_count": 302,
   "id": "vietnamese-fountain",
   "metadata": {},
   "outputs": [],
   "source": [
    "from sklearn.model_selection import train_test_split"
   ]
  },
  {
   "cell_type": "code",
   "execution_count": 281,
   "id": "suspected-score",
   "metadata": {},
   "outputs": [],
   "source": [
    "X_train, X_test, y_train, y_test = train_test_split(X_train_res1, y_train_res1, test_size = 0.3)"
   ]
  },
  {
   "cell_type": "code",
   "execution_count": 282,
   "id": "ceramic-daisy",
   "metadata": {},
   "outputs": [],
   "source": [
    "from sklearn import metrics\n",
    "\n",
    "def predict(ml_model):\n",
    "    model=ml_model.fit(X_train,y_train)\n",
    "    print('Training score : {}'.format(model.score(X_train,y_train)))\n",
    "    print('Testing score : {}'.format(model.score(X_test,y_test)))\n",
    "    y_prediction=model.predict(X_test)\n",
    "    print('predictions are: \\n {}'.format(y_prediction))\n",
    "    print('\\n')\n",
    "    r2_score=metrics.r2_score(y_test,y_prediction)\n",
    "    print('r2 score: {}'.format(r2_score))\n",
    "    print('MAE:',metrics.mean_absolute_error(y_test,y_prediction))\n",
    "    print('MSE:',metrics.mean_squared_error(y_test,y_prediction))\n",
    "    print('RMSE:',np.sqrt(metrics.mean_squared_error(y_test,y_prediction)))"
   ]
  },
  {
   "cell_type": "markdown",
   "id": "dense-hollywood",
   "metadata": {},
   "source": [
    "# Implementing Naive bayes algorithm for prediction"
   ]
  },
  {
   "cell_type": "code",
   "execution_count": 291,
   "id": "african-frame",
   "metadata": {},
   "outputs": [],
   "source": [
    "from sklearn.naive_bayes import GaussianNB as gnb"
   ]
  },
  {
   "cell_type": "code",
   "execution_count": 292,
   "id": "handed-franchise",
   "metadata": {
    "scrolled": true
   },
   "outputs": [
    {
     "name": "stdout",
     "output_type": "stream",
     "text": [
      "Training score : 0.8571428571428571\n",
      "Testing score : 0.7894736842105263\n",
      "predictions are: \n",
      " [1 1 0 0 0 0 0 0 0 0 0 0 0 0 0 1 0 0 0 0 0 1 0 0 0 0 1 0 0 0 0 0 1 0 0 0 1\n",
      " 0 0 0 0 0 0 1 0 0 1 0 0 0 1 0 0 0 0 0 1 0 0 0 0 0 0 1 0 0 0 0 1 0 0 0 0 0\n",
      " 0 1]\n",
      "\n",
      "\n",
      "r2 score: -0.02356902356902335\n",
      "MAE: 0.21052631578947367\n",
      "MSE: 0.21052631578947367\n",
      "RMSE: 0.45883146774112354\n"
     ]
    }
   ],
   "source": [
    "predict(gnb())"
   ]
  },
  {
   "cell_type": "markdown",
   "id": "advisory-crawford",
   "metadata": {},
   "source": [
    "# Implementing SVM algorithm for prediction"
   ]
  },
  {
   "cell_type": "code",
   "execution_count": 293,
   "id": "tough-frank",
   "metadata": {},
   "outputs": [],
   "source": [
    "from sklearn.svm import SVC"
   ]
  },
  {
   "cell_type": "code",
   "execution_count": 294,
   "id": "received-professional",
   "metadata": {},
   "outputs": [
    {
     "name": "stdout",
     "output_type": "stream",
     "text": [
      "Training score : 0.9771428571428571\n",
      "Testing score : 0.9605263157894737\n",
      "predictions are: \n",
      " [1 1 0 0 0 0 1 1 0 0 1 0 0 0 0 0 1 0 1 0 0 1 1 0 0 0 1 1 0 0 0 0 1 0 0 0 1\n",
      " 0 0 0 0 0 0 1 0 0 1 0 1 0 1 0 0 0 0 1 1 0 0 1 0 0 1 0 0 1 0 1 1 0 0 0 0 1\n",
      " 0 0]\n",
      "\n",
      "\n",
      "r2 score: 0.8080808080808082\n",
      "MAE: 0.039473684210526314\n",
      "MSE: 0.039473684210526314\n",
      "RMSE: 0.19867985355975656\n"
     ]
    }
   ],
   "source": [
    "predict(SVC())"
   ]
  },
  {
   "cell_type": "markdown",
   "id": "foster-power",
   "metadata": {},
   "source": [
    "# Conclusion"
   ]
  },
  {
   "cell_type": "markdown",
   "id": "competitive-metropolitan",
   "metadata": {},
   "source": [
    "- Here, for predicting the earning manipulation two models have been developed   which are SVM and Naive bayes which are classification models. As the target   variables is a categorical variable we need to use classification model for     prediction.\n",
    "- With the help of this dataset and the model we are able to achieve accuracy \n",
    "  of 85% and 79% on both training and testing dataset with the help of Naive     bayes classifier algorithm. Moreover, accuracy with the help of SVM algorithm\n",
    "  we have achieved is 97% and 96% for training and testing datasets. "
   ]
  },
  {
   "attachments": {
    "image.png": {
     "image/png": "[encoded data removed]"
    }
   },
   "cell_type": "markdown",
   "id": "italic-chapel",
   "metadata": {},
   "source": [
    "![image.png](attachment:image.png)"
   ]
  },
  {
   "cell_type": "markdown",
   "id": "attempted-transport",
   "metadata": {},
   "source": [
    "- From this we can infer that Naive bayes model have less accuracy but have       ability to generalize the testing dataset on other datasets as well. Thus       naive bayes model is more likely to predict earning manipulation more           accurately.\n",
    "- Though, SVM algorithm have higher accuracy for predicting the earning           manipulation but higher accuracy does not always mean that the model will       always be predicting the correct value based on the dataset. generalisation     based on other datasets is also necessary.\n",
    "- Thus, Using naive bayes algorithm for predicting earning manipulationis more   meaningful looking into the accuracy and the generalisation point of view.\n"
   ]
  }
 ],
 "metadata": {
  "kernelspec": {
   "display_name": "Python 3",
   "language": "python",
   "name": "python3"
  },
  "language_info": {
   "codemirror_mode": {
    "name": "ipython",
    "version": 3
   },
   "file_extension": ".py",
   "mimetype": "text/x-python",
   "name": "python",
   "nbconvert_exporter": "python",
   "pygments_lexer": "ipython3",
   "version": "3.8.5"
  }
 },
 "nbformat": 4,
 "nbformat_minor": 5
}
